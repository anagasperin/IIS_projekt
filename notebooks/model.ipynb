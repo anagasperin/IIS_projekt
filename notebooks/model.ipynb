{
 "cells": [
  {
   "cell_type": "code",
   "execution_count": 1,
   "metadata": {},
   "outputs": [],
   "source": [
    "import pandas as pd\n",
    "from sklearn.metrics import mean_absolute_error, mean_squared_error, explained_variance_score\n",
    "import numpy as np\n",
    "import mlflow\n",
    "from sklearn.pipeline import Pipeline\n",
    "from sklearn.impute import SimpleImputer\n",
    "from sklearn.compose import ColumnTransformer\n",
    "from sklearn.base import BaseEstimator, TransformerMixin\n",
    "from sklearn.neural_network import MLPRegressor\n",
    "from sklearn.model_selection import GridSearchCV\n",
    "from mlflow.models.signature import infer_signature\n",
    "from mlflow import MlflowClient"
   ]
  },
  {
   "cell_type": "code",
   "execution_count": 2,
   "metadata": {},
   "outputs": [],
   "source": [
    "train_path = '../data/processed/train.csv'\n",
    "test_path = '../data/processed/test.csv'\n",
    "metrics_path ='../reports/metrics.txt'"
   ]
  },
  {
   "cell_type": "code",
   "execution_count": 3,
   "metadata": {},
   "outputs": [],
   "source": [
    "class CategoricalTransformer(BaseEstimator, TransformerMixin):\n",
    "    def fit(self, X, y=None):\n",
    "        return self\n",
    "    \n",
    "    def transform(self, X):\n",
    "        return transform_categorical(X)\n",
    " \n",
    "def transform_categorical(column):\n",
    "    print (column)\n",
    "    vehicles_available = column['vehicles_available']\n",
    "    vehicles_available = vehicles_available.apply(str).str.replace('<', '')\n",
    "    nan_mask = vehicles_available.isna()\n",
    "    vehicles_availablenan = vehicles_available[nan_mask]\n",
    "\n",
    "    vehicles_available = vehicles_available.str.strip().dropna().loc[lambda x: x.str.len() > 0]\n",
    "    vehicles_available = vehicles_available.astype('float')\n",
    "\n",
    "    vehicles_availablenan[:] = vehicles_available.mean()\n",
    "    vehicles_available = pd.concat([vehicles_available, vehicles_availablenan], axis=0)\n",
    "\n",
    "    column['vehicles_available'] = vehicles_available.astype('float')\n",
    "    return column"
   ]
  },
  {
   "cell_type": "code",
   "execution_count": 4,
   "metadata": {},
   "outputs": [],
   "source": [
    "def transform_test(test_path, categorical_transform, numerical_transform):\n",
    "    csv = pd.read_csv(test_path, encoding='utf_8')\n",
    "    test = pd.DataFrame(csv)\n",
    "    print('Data read')\n",
    "\n",
    "    cat_features = test.select_dtypes(include=['object']).columns.tolist()\n",
    "    num_features = test.select_dtypes(\n",
    "        include=['float64', 'int64']).columns.tolist()\n",
    "\n",
    "    test_preprocessor = ColumnTransformer([\n",
    "        ('availability_transform', categorical_transform, cat_features),\n",
    "        ('normal_transform', numerical_transform, num_features)\n",
    "    ])\n",
    "\n",
    "    arr = test_preprocessor.fit_transform(test)\n",
    "\n",
    "    test = pd.DataFrame(\n",
    "        arr, columns=['hour', 'vehicles_available', 'temp', 'hum', 'percp', 'wspeed', 'capacity', 'capacity_free'])\n",
    "    return test.astype('float')"
   ]
  },
  {
   "cell_type": "code",
   "execution_count": 5,
   "metadata": {},
   "outputs": [
    {
     "name": "stderr",
     "output_type": "stream",
     "text": [
      "2023/07/15 22:21:22 WARNING mlflow.utils.autologging_utils: You are using an unsupported version of sklearn. If you encounter errors during autologging, try upgrading / downgrading sklearn to a supported version, or try upgrading MLflow.\n",
      "2023/07/15 22:21:23 INFO mlflow.tracking.fluent: Autologging successfully enabled for sklearn.\n"
     ]
    }
   ],
   "source": [
    "MLFLOW_TRACKING_URI = \"https://dagshub.com/anagasperin/IIS_projekt.mlflow\"\n",
    "mlflow.set_tracking_uri(MLFLOW_TRACKING_URI)\n",
    "mlflow.set_experiment(\"mlruns\")\n",
    "mlflow.autolog()"
   ]
  },
  {
   "cell_type": "code",
   "execution_count": 6,
   "metadata": {},
   "outputs": [
    {
     "name": "stderr",
     "output_type": "stream",
     "text": [
      "2023/07/15 22:21:23 INFO mlflow.utils.autologging_utils: Created MLflow autologging run with ID '6ebfa4f98721431bafffed9e0abc1c5a', which will track hyperparameters, performance metrics, model artifacts, and lineage information for the current sklearn workflow\n",
      "2023/07/15 22:21:23 WARNING mlflow.utils.autologging_utils: MLflow autologging encountered a warning: \"c:\\Users\\Uporabnik\\AppData\\Local\\pypoetry\\Cache\\virtualenvs\\bike-availability-mb-RteGF7NQ-py3.10\\lib\\site-packages\\mlflow\\data\\pandas_dataset.py:116: UserWarning: Hint: Inferred schema contains integer column(s). Integer columns in Python cannot represent missing values. If your input data contains missing values at inference time, it will be encoded as floats and will cause a schema enforcement error. The best way to avoid this problem is to infer the model schema based on a realistic data sample (training dataset) that includes missing values. Alternatively, you can declare integer columns as doubles (float64) whenever these columns may have missing values. See `Handling Integers With Missing Values <https://www.mlflow.org/docs/latest/models.html#handling-integers-with-missing-values>`_ for more details.\"\n"
     ]
    },
    {
     "name": "stdout",
     "output_type": "stream",
     "text": [
      "     vehicles_available\n",
      "0                    12\n",
      "1                    14\n",
      "2                    11\n",
      "3                    14\n",
      "4                    11\n",
      "..                  ...\n",
      "806                   9\n",
      "807                   7\n",
      "808                   6\n",
      "809                   6\n",
      "810                   4\n",
      "\n",
      "[811 rows x 1 columns]\n"
     ]
    },
    {
     "name": "stderr",
     "output_type": "stream",
     "text": [
      "2023/07/15 22:21:24 WARNING mlflow.sklearn: Training metrics will not be recorded because training labels were not specified. To automatically record training metrics, provide training labels as inputs to the model training function.\n",
      "2023/07/15 22:21:24 WARNING mlflow.sklearn: Failed to infer model signature: the trained model does not specify a `predict` function, which is required in order to infer the signature\n",
      "2023/07/15 22:21:24 WARNING mlflow.sklearn: Model was missing function: predict. Not logging python_function flavor!\n",
      "2023/07/15 22:21:28 WARNING mlflow.utils.autologging_utils: MLflow autologging encountered a warning: \"c:\\Users\\Uporabnik\\AppData\\Local\\pypoetry\\Cache\\virtualenvs\\bike-availability-mb-RteGF7NQ-py3.10\\lib\\site-packages\\_distutils_hack\\__init__.py:33: UserWarning: Setuptools is replacing distutils.\"\n",
      "2023/07/15 22:21:31 WARNING mlflow.utils.autologging_utils: Encountered unexpected error during sklearn autologging: The following failures occurred while performing one or more logging operations: [MlflowException('Failed to perform one or more operations on the run with ID 6ebfa4f98721431bafffed9e0abc1c5a. Failed operations: [RestException(\"INTERNAL_ERROR: Response: {\\'error\\': \\'unsupported endpoint, please contact support@dagshub.com\\'}\")]')]\n",
      "2023/07/15 22:21:31 INFO mlflow.utils.autologging_utils: Created MLflow autologging run with ID '877f5f2f6d194578a91b04e1a1550269', which will track hyperparameters, performance metrics, model artifacts, and lineage information for the current sklearn workflow\n",
      "2023/07/15 22:21:31 WARNING mlflow.utils: Truncated the value of the key `estimator`. Truncated value: `Pipeline(steps=[('preprocess',\n",
      "                 ColumnTransformer(transformers=[('numerical_transform',\n",
      "                                                  Pipeline(steps=[('imputer',\n",
      "                                                                   SimpleImputer())]),\n",
      "                                                  ['temp', 'hum', 'percp',\n",
      "                                                   'wspeed', 'capacity',\n",
      "                                                   'capacity_free'])])),\n",
      "       ...`\n",
      "2023/07/15 22:21:31 WARNING mlflow.utils.autologging_utils: MLflow autologging encountered a warning: \"c:\\Users\\Uporabnik\\AppData\\Local\\pypoetry\\Cache\\virtualenvs\\bike-availability-mb-RteGF7NQ-py3.10\\lib\\site-packages\\mlflow\\data\\pandas_dataset.py:116: UserWarning: Hint: Inferred schema contains integer column(s). Integer columns in Python cannot represent missing values. If your input data contains missing values at inference time, it will be encoded as floats and will cause a schema enforcement error. The best way to avoid this problem is to infer the model schema based on a realistic data sample (training dataset) that includes missing values. Alternatively, you can declare integer columns as doubles (float64) whenever these columns may have missing values. See `Handling Integers With Missing Values <https://www.mlflow.org/docs/latest/models.html#handling-integers-with-missing-values>`_ for more details.\"\n",
      "c:\\Users\\Uporabnik\\AppData\\Local\\pypoetry\\Cache\\virtualenvs\\bike-availability-mb-RteGF7NQ-py3.10\\lib\\site-packages\\sklearn\\neural_network\\_multilayer_perceptron.py:1625: DataConversionWarning: A column-vector y was passed when a 1d array was expected. Please change the shape of y to (n_samples, ), for example using ravel().\n",
      "  y = column_or_1d(y, warn=True)\n"
     ]
    },
    {
     "name": "stdout",
     "output_type": "stream",
     "text": [
      "Fitting 5 folds for each of 4 candidates, totalling 20 fits\n"
     ]
    },
    {
     "name": "stderr",
     "output_type": "stream",
     "text": [
      "c:\\Users\\Uporabnik\\AppData\\Local\\pypoetry\\Cache\\virtualenvs\\bike-availability-mb-RteGF7NQ-py3.10\\lib\\site-packages\\sklearn\\neural_network\\_multilayer_perceptron.py:691: ConvergenceWarning: Stochastic Optimizer: Maximum iterations (200) reached and the optimization hasn't converged yet.\n",
      "  warnings.warn(\n",
      "c:\\Users\\Uporabnik\\AppData\\Local\\pypoetry\\Cache\\virtualenvs\\bike-availability-mb-RteGF7NQ-py3.10\\lib\\site-packages\\sklearn\\neural_network\\_multilayer_perceptron.py:1625: DataConversionWarning: A column-vector y was passed when a 1d array was expected. Please change the shape of y to (n_samples, ), for example using ravel().\n",
      "  y = column_or_1d(y, warn=True)\n"
     ]
    },
    {
     "name": "stdout",
     "output_type": "stream",
     "text": [
      "[CV] END MLPR__hidden_layer_sizes=32, MLPR__learning_rate_init=0.001; total time=   0.2s\n"
     ]
    },
    {
     "name": "stderr",
     "output_type": "stream",
     "text": [
      "c:\\Users\\Uporabnik\\AppData\\Local\\pypoetry\\Cache\\virtualenvs\\bike-availability-mb-RteGF7NQ-py3.10\\lib\\site-packages\\sklearn\\neural_network\\_multilayer_perceptron.py:691: ConvergenceWarning: Stochastic Optimizer: Maximum iterations (200) reached and the optimization hasn't converged yet.\n",
      "  warnings.warn(\n",
      "c:\\Users\\Uporabnik\\AppData\\Local\\pypoetry\\Cache\\virtualenvs\\bike-availability-mb-RteGF7NQ-py3.10\\lib\\site-packages\\sklearn\\neural_network\\_multilayer_perceptron.py:1625: DataConversionWarning: A column-vector y was passed when a 1d array was expected. Please change the shape of y to (n_samples, ), for example using ravel().\n",
      "  y = column_or_1d(y, warn=True)\n"
     ]
    },
    {
     "name": "stdout",
     "output_type": "stream",
     "text": [
      "[CV] END MLPR__hidden_layer_sizes=32, MLPR__learning_rate_init=0.001; total time=   0.2s\n"
     ]
    },
    {
     "name": "stderr",
     "output_type": "stream",
     "text": [
      "c:\\Users\\Uporabnik\\AppData\\Local\\pypoetry\\Cache\\virtualenvs\\bike-availability-mb-RteGF7NQ-py3.10\\lib\\site-packages\\sklearn\\neural_network\\_multilayer_perceptron.py:691: ConvergenceWarning: Stochastic Optimizer: Maximum iterations (200) reached and the optimization hasn't converged yet.\n",
      "  warnings.warn(\n",
      "c:\\Users\\Uporabnik\\AppData\\Local\\pypoetry\\Cache\\virtualenvs\\bike-availability-mb-RteGF7NQ-py3.10\\lib\\site-packages\\sklearn\\neural_network\\_multilayer_perceptron.py:1625: DataConversionWarning: A column-vector y was passed when a 1d array was expected. Please change the shape of y to (n_samples, ), for example using ravel().\n",
      "  y = column_or_1d(y, warn=True)\n"
     ]
    },
    {
     "name": "stdout",
     "output_type": "stream",
     "text": [
      "[CV] END MLPR__hidden_layer_sizes=32, MLPR__learning_rate_init=0.001; total time=   0.1s\n"
     ]
    },
    {
     "name": "stderr",
     "output_type": "stream",
     "text": [
      "c:\\Users\\Uporabnik\\AppData\\Local\\pypoetry\\Cache\\virtualenvs\\bike-availability-mb-RteGF7NQ-py3.10\\lib\\site-packages\\sklearn\\neural_network\\_multilayer_perceptron.py:691: ConvergenceWarning: Stochastic Optimizer: Maximum iterations (200) reached and the optimization hasn't converged yet.\n",
      "  warnings.warn(\n",
      "c:\\Users\\Uporabnik\\AppData\\Local\\pypoetry\\Cache\\virtualenvs\\bike-availability-mb-RteGF7NQ-py3.10\\lib\\site-packages\\sklearn\\neural_network\\_multilayer_perceptron.py:1625: DataConversionWarning: A column-vector y was passed when a 1d array was expected. Please change the shape of y to (n_samples, ), for example using ravel().\n",
      "  y = column_or_1d(y, warn=True)\n",
      "c:\\Users\\Uporabnik\\AppData\\Local\\pypoetry\\Cache\\virtualenvs\\bike-availability-mb-RteGF7NQ-py3.10\\lib\\site-packages\\sklearn\\neural_network\\_multilayer_perceptron.py:691: ConvergenceWarning: Stochastic Optimizer: Maximum iterations (200) reached and the optimization hasn't converged yet.\n",
      "  warnings.warn(\n"
     ]
    },
    {
     "name": "stdout",
     "output_type": "stream",
     "text": [
      "[CV] END MLPR__hidden_layer_sizes=32, MLPR__learning_rate_init=0.001; total time=   0.1s\n",
      "[CV] END MLPR__hidden_layer_sizes=32, MLPR__learning_rate_init=0.001; total time=   0.1s\n",
      "[CV] END MLPR__hidden_layer_sizes=32, MLPR__learning_rate_init=0.01; total time=   0.1s\n"
     ]
    },
    {
     "name": "stderr",
     "output_type": "stream",
     "text": [
      "c:\\Users\\Uporabnik\\AppData\\Local\\pypoetry\\Cache\\virtualenvs\\bike-availability-mb-RteGF7NQ-py3.10\\lib\\site-packages\\sklearn\\neural_network\\_multilayer_perceptron.py:1625: DataConversionWarning: A column-vector y was passed when a 1d array was expected. Please change the shape of y to (n_samples, ), for example using ravel().\n",
      "  y = column_or_1d(y, warn=True)\n",
      "c:\\Users\\Uporabnik\\AppData\\Local\\pypoetry\\Cache\\virtualenvs\\bike-availability-mb-RteGF7NQ-py3.10\\lib\\site-packages\\sklearn\\neural_network\\_multilayer_perceptron.py:1625: DataConversionWarning: A column-vector y was passed when a 1d array was expected. Please change the shape of y to (n_samples, ), for example using ravel().\n",
      "  y = column_or_1d(y, warn=True)\n"
     ]
    },
    {
     "name": "stdout",
     "output_type": "stream",
     "text": [
      "[CV] END MLPR__hidden_layer_sizes=32, MLPR__learning_rate_init=0.01; total time=   0.0s\n",
      "[CV] END MLPR__hidden_layer_sizes=32, MLPR__learning_rate_init=0.01; total time=   0.0s\n"
     ]
    },
    {
     "name": "stderr",
     "output_type": "stream",
     "text": [
      "c:\\Users\\Uporabnik\\AppData\\Local\\pypoetry\\Cache\\virtualenvs\\bike-availability-mb-RteGF7NQ-py3.10\\lib\\site-packages\\sklearn\\neural_network\\_multilayer_perceptron.py:1625: DataConversionWarning: A column-vector y was passed when a 1d array was expected. Please change the shape of y to (n_samples, ), for example using ravel().\n",
      "  y = column_or_1d(y, warn=True)\n",
      "c:\\Users\\Uporabnik\\AppData\\Local\\pypoetry\\Cache\\virtualenvs\\bike-availability-mb-RteGF7NQ-py3.10\\lib\\site-packages\\sklearn\\neural_network\\_multilayer_perceptron.py:1625: DataConversionWarning: A column-vector y was passed when a 1d array was expected. Please change the shape of y to (n_samples, ), for example using ravel().\n",
      "  y = column_or_1d(y, warn=True)\n"
     ]
    },
    {
     "name": "stdout",
     "output_type": "stream",
     "text": [
      "[CV] END MLPR__hidden_layer_sizes=32, MLPR__learning_rate_init=0.01; total time=   0.2s\n",
      "[CV] END MLPR__hidden_layer_sizes=32, MLPR__learning_rate_init=0.01; total time=   0.1s\n"
     ]
    },
    {
     "name": "stderr",
     "output_type": "stream",
     "text": [
      "c:\\Users\\Uporabnik\\AppData\\Local\\pypoetry\\Cache\\virtualenvs\\bike-availability-mb-RteGF7NQ-py3.10\\lib\\site-packages\\sklearn\\neural_network\\_multilayer_perceptron.py:1625: DataConversionWarning: A column-vector y was passed when a 1d array was expected. Please change the shape of y to (n_samples, ), for example using ravel().\n",
      "  y = column_or_1d(y, warn=True)\n",
      "c:\\Users\\Uporabnik\\AppData\\Local\\pypoetry\\Cache\\virtualenvs\\bike-availability-mb-RteGF7NQ-py3.10\\lib\\site-packages\\sklearn\\neural_network\\_multilayer_perceptron.py:1625: DataConversionWarning: A column-vector y was passed when a 1d array was expected. Please change the shape of y to (n_samples, ), for example using ravel().\n",
      "  y = column_or_1d(y, warn=True)\n",
      "c:\\Users\\Uporabnik\\AppData\\Local\\pypoetry\\Cache\\virtualenvs\\bike-availability-mb-RteGF7NQ-py3.10\\lib\\site-packages\\sklearn\\neural_network\\_multilayer_perceptron.py:691: ConvergenceWarning: Stochastic Optimizer: Maximum iterations (200) reached and the optimization hasn't converged yet.\n",
      "  warnings.warn(\n",
      "c:\\Users\\Uporabnik\\AppData\\Local\\pypoetry\\Cache\\virtualenvs\\bike-availability-mb-RteGF7NQ-py3.10\\lib\\site-packages\\sklearn\\neural_network\\_multilayer_perceptron.py:1625: DataConversionWarning: A column-vector y was passed when a 1d array was expected. Please change the shape of y to (n_samples, ), for example using ravel().\n",
      "  y = column_or_1d(y, warn=True)\n",
      "c:\\Users\\Uporabnik\\AppData\\Local\\pypoetry\\Cache\\virtualenvs\\bike-availability-mb-RteGF7NQ-py3.10\\lib\\site-packages\\sklearn\\neural_network\\_multilayer_perceptron.py:691: ConvergenceWarning: Stochastic Optimizer: Maximum iterations (200) reached and the optimization hasn't converged yet.\n",
      "  warnings.warn(\n",
      "c:\\Users\\Uporabnik\\AppData\\Local\\pypoetry\\Cache\\virtualenvs\\bike-availability-mb-RteGF7NQ-py3.10\\lib\\site-packages\\sklearn\\neural_network\\_multilayer_perceptron.py:1625: DataConversionWarning: A column-vector y was passed when a 1d array was expected. Please change the shape of y to (n_samples, ), for example using ravel().\n",
      "  y = column_or_1d(y, warn=True)\n"
     ]
    },
    {
     "name": "stdout",
     "output_type": "stream",
     "text": [
      "[CV] END MLPR__hidden_layer_sizes=16, MLPR__learning_rate_init=0.001; total time=   0.1s\n",
      "[CV] END MLPR__hidden_layer_sizes=16, MLPR__learning_rate_init=0.001; total time=   0.1s\n"
     ]
    },
    {
     "name": "stderr",
     "output_type": "stream",
     "text": [
      "c:\\Users\\Uporabnik\\AppData\\Local\\pypoetry\\Cache\\virtualenvs\\bike-availability-mb-RteGF7NQ-py3.10\\lib\\site-packages\\sklearn\\neural_network\\_multilayer_perceptron.py:691: ConvergenceWarning: Stochastic Optimizer: Maximum iterations (200) reached and the optimization hasn't converged yet.\n",
      "  warnings.warn(\n",
      "c:\\Users\\Uporabnik\\AppData\\Local\\pypoetry\\Cache\\virtualenvs\\bike-availability-mb-RteGF7NQ-py3.10\\lib\\site-packages\\sklearn\\neural_network\\_multilayer_perceptron.py:1625: DataConversionWarning: A column-vector y was passed when a 1d array was expected. Please change the shape of y to (n_samples, ), for example using ravel().\n",
      "  y = column_or_1d(y, warn=True)\n",
      "c:\\Users\\Uporabnik\\AppData\\Local\\pypoetry\\Cache\\virtualenvs\\bike-availability-mb-RteGF7NQ-py3.10\\lib\\site-packages\\sklearn\\neural_network\\_multilayer_perceptron.py:691: ConvergenceWarning: Stochastic Optimizer: Maximum iterations (200) reached and the optimization hasn't converged yet.\n",
      "  warnings.warn(\n",
      "c:\\Users\\Uporabnik\\AppData\\Local\\pypoetry\\Cache\\virtualenvs\\bike-availability-mb-RteGF7NQ-py3.10\\lib\\site-packages\\sklearn\\neural_network\\_multilayer_perceptron.py:1625: DataConversionWarning: A column-vector y was passed when a 1d array was expected. Please change the shape of y to (n_samples, ), for example using ravel().\n",
      "  y = column_or_1d(y, warn=True)\n"
     ]
    },
    {
     "name": "stdout",
     "output_type": "stream",
     "text": [
      "[CV] END MLPR__hidden_layer_sizes=16, MLPR__learning_rate_init=0.001; total time=   0.1s\n",
      "[CV] END MLPR__hidden_layer_sizes=16, MLPR__learning_rate_init=0.001; total time=   0.1s\n"
     ]
    },
    {
     "name": "stderr",
     "output_type": "stream",
     "text": [
      "c:\\Users\\Uporabnik\\AppData\\Local\\pypoetry\\Cache\\virtualenvs\\bike-availability-mb-RteGF7NQ-py3.10\\lib\\site-packages\\sklearn\\neural_network\\_multilayer_perceptron.py:691: ConvergenceWarning: Stochastic Optimizer: Maximum iterations (200) reached and the optimization hasn't converged yet.\n",
      "  warnings.warn(\n",
      "c:\\Users\\Uporabnik\\AppData\\Local\\pypoetry\\Cache\\virtualenvs\\bike-availability-mb-RteGF7NQ-py3.10\\lib\\site-packages\\sklearn\\neural_network\\_multilayer_perceptron.py:1625: DataConversionWarning: A column-vector y was passed when a 1d array was expected. Please change the shape of y to (n_samples, ), for example using ravel().\n",
      "  y = column_or_1d(y, warn=True)\n",
      "c:\\Users\\Uporabnik\\AppData\\Local\\pypoetry\\Cache\\virtualenvs\\bike-availability-mb-RteGF7NQ-py3.10\\lib\\site-packages\\sklearn\\neural_network\\_multilayer_perceptron.py:1625: DataConversionWarning: A column-vector y was passed when a 1d array was expected. Please change the shape of y to (n_samples, ), for example using ravel().\n",
      "  y = column_or_1d(y, warn=True)\n"
     ]
    },
    {
     "name": "stdout",
     "output_type": "stream",
     "text": [
      "[CV] END MLPR__hidden_layer_sizes=16, MLPR__learning_rate_init=0.001; total time=   0.1s\n",
      "[CV] END MLPR__hidden_layer_sizes=16, MLPR__learning_rate_init=0.01; total time=   0.0s\n",
      "[CV] END MLPR__hidden_layer_sizes=16, MLPR__learning_rate_init=0.01; total time=   0.0s\n",
      "[CV] END MLPR__hidden_layer_sizes=16, MLPR__learning_rate_init=0.01; total time=   0.1s\n"
     ]
    },
    {
     "name": "stderr",
     "output_type": "stream",
     "text": [
      "c:\\Users\\Uporabnik\\AppData\\Local\\pypoetry\\Cache\\virtualenvs\\bike-availability-mb-RteGF7NQ-py3.10\\lib\\site-packages\\sklearn\\neural_network\\_multilayer_perceptron.py:1625: DataConversionWarning: A column-vector y was passed when a 1d array was expected. Please change the shape of y to (n_samples, ), for example using ravel().\n",
      "  y = column_or_1d(y, warn=True)\n",
      "c:\\Users\\Uporabnik\\AppData\\Local\\pypoetry\\Cache\\virtualenvs\\bike-availability-mb-RteGF7NQ-py3.10\\lib\\site-packages\\sklearn\\neural_network\\_multilayer_perceptron.py:1625: DataConversionWarning: A column-vector y was passed when a 1d array was expected. Please change the shape of y to (n_samples, ), for example using ravel().\n",
      "  y = column_or_1d(y, warn=True)\n"
     ]
    },
    {
     "name": "stdout",
     "output_type": "stream",
     "text": [
      "[CV] END MLPR__hidden_layer_sizes=16, MLPR__learning_rate_init=0.01; total time=   0.1s\n",
      "[CV] END MLPR__hidden_layer_sizes=16, MLPR__learning_rate_init=0.01; total time=   0.0s\n"
     ]
    },
    {
     "name": "stderr",
     "output_type": "stream",
     "text": [
      "c:\\Users\\Uporabnik\\AppData\\Local\\pypoetry\\Cache\\virtualenvs\\bike-availability-mb-RteGF7NQ-py3.10\\lib\\site-packages\\sklearn\\neural_network\\_multilayer_perceptron.py:1625: DataConversionWarning: A column-vector y was passed when a 1d array was expected. Please change the shape of y to (n_samples, ), for example using ravel().\n",
      "  y = column_or_1d(y, warn=True)\n",
      "c:\\Users\\Uporabnik\\AppData\\Local\\pypoetry\\Cache\\virtualenvs\\bike-availability-mb-RteGF7NQ-py3.10\\lib\\site-packages\\sklearn\\neural_network\\_multilayer_perceptron.py:1625: DataConversionWarning: A column-vector y was passed when a 1d array was expected. Please change the shape of y to (n_samples, ), for example using ravel().\n",
      "  y = column_or_1d(y, warn=True)\n",
      "2023/07/15 22:21:36 WARNING mlflow.utils.autologging_utils: MLflow autologging encountered a warning: \"c:\\Users\\Uporabnik\\AppData\\Local\\pypoetry\\Cache\\virtualenvs\\bike-availability-mb-RteGF7NQ-py3.10\\lib\\site-packages\\mlflow\\models\\signature.py:144: UserWarning: Hint: Inferred schema contains integer column(s). Integer columns in Python cannot represent missing values. If your input data contains missing values at inference time, it will be encoded as floats and will cause a schema enforcement error. The best way to avoid this problem is to infer the model schema based on a realistic data sample (training dataset) that includes missing values. Alternatively, you can declare integer columns as doubles (float64) whenever these columns may have missing values. See `Handling Integers With Missing Values <https://www.mlflow.org/docs/latest/models.html#handling-integers-with-missing-values>`_ for more details.\"\n",
      "2023/07/15 22:21:47 INFO mlflow.sklearn.utils: Logging the 5 best runs, no runs will be omitted.\n",
      "2023/07/15 22:21:49 WARNING mlflow.utils.autologging_utils: Encountered unexpected error during sklearn autologging: The following failures occurred while performing one or more logging operations: [MlflowException('Failed to perform one or more operations on the run with ID 877f5f2f6d194578a91b04e1a1550269. Failed operations: [RestException(\"INTERNAL_ERROR: Response: {\\'error\\': \\'unsupported endpoint, please contact support@dagshub.com\\'}\")]')]\n"
     ]
    },
    {
     "name": "stdout",
     "output_type": "stream",
     "text": [
      "Data read\n"
     ]
    },
    {
     "name": "stderr",
     "output_type": "stream",
     "text": [
      "2023/07/15 22:21:50 INFO mlflow.utils.autologging_utils: Created MLflow autologging run with ID '08295a9639494ad59fe2dcfedfd2548b', which will track hyperparameters, performance metrics, model artifacts, and lineage information for the current sklearn workflow\n",
      "2023/07/15 22:21:50 WARNING mlflow.utils.autologging_utils: MLflow autologging encountered a warning: \"c:\\Users\\Uporabnik\\AppData\\Local\\pypoetry\\Cache\\virtualenvs\\bike-availability-mb-RteGF7NQ-py3.10\\lib\\site-packages\\mlflow\\data\\pandas_dataset.py:116: UserWarning: Hint: Inferred schema contains integer column(s). Integer columns in Python cannot represent missing values. If your input data contains missing values at inference time, it will be encoded as floats and will cause a schema enforcement error. The best way to avoid this problem is to infer the model schema based on a realistic data sample (training dataset) that includes missing values. Alternatively, you can declare integer columns as doubles (float64) whenever these columns may have missing values. See `Handling Integers With Missing Values <https://www.mlflow.org/docs/latest/models.html#handling-integers-with-missing-values>`_ for more details.\"\n",
      "2023/07/15 22:21:50 WARNING mlflow.sklearn: Training metrics will not be recorded because training labels were not specified. To automatically record training metrics, provide training labels as inputs to the model training function.\n",
      "2023/07/15 22:21:50 WARNING mlflow.sklearn: Failed to infer model signature: the trained model does not specify a `predict` function, which is required in order to infer the signature\n",
      "2023/07/15 22:21:50 WARNING mlflow.sklearn: Model was missing function: predict. Not logging python_function flavor!\n",
      "2023/07/15 22:21:56 WARNING mlflow.utils.autologging_utils: Encountered unexpected error during sklearn autologging: The following failures occurred while performing one or more logging operations: [MlflowException('Failed to perform one or more operations on the run with ID 08295a9639494ad59fe2dcfedfd2548b. Failed operations: [RestException(\"INTERNAL_ERROR: Response: {\\'error\\': \\'unsupported endpoint, please contact support@dagshub.com\\'}\")]')]\n",
      "c:\\Users\\Uporabnik\\AppData\\Local\\pypoetry\\Cache\\virtualenvs\\bike-availability-mb-RteGF7NQ-py3.10\\lib\\site-packages\\mlflow\\models\\signature.py:144: UserWarning: Hint: Inferred schema contains integer column(s). Integer columns in Python cannot represent missing values. If your input data contains missing values at inference time, it will be encoded as floats and will cause a schema enforcement error. The best way to avoid this problem is to infer the model schema based on a realistic data sample (training dataset) that includes missing values. Alternatively, you can declare integer columns as doubles (float64) whenever these columns may have missing values. See `Handling Integers With Missing Values <https://www.mlflow.org/docs/latest/models.html#handling-integers-with-missing-values>`_ for more details.\n",
      "  inputs = _infer_schema(model_input)\n",
      "Registered model 'MLPRegressor' already exists. Creating a new version of this model...\n",
      "2023/07/15 22:22:03 INFO mlflow.tracking._model_registry.client: Waiting up to 300 seconds for model version to finish creation. Model name: MLPRegressor, version 4\n",
      "Created version '4' of model 'MLPRegressor'.\n"
     ]
    },
    {
     "name": "stdout",
     "output_type": "stream",
     "text": [
      "Model trained\n",
      "Reports updated\n",
      "Model serialized\n",
      "<ActiveRun: >\n"
     ]
    }
   ],
   "source": [
    "csv = pd.read_csv(train_path, encoding='utf_8')\n",
    "train = pd.DataFrame(csv)\n",
    "\n",
    "x_train = train.drop('vehicles_available', axis=1)\n",
    "y_train = pd.DataFrame(train['vehicles_available'])\n",
    "\n",
    "num_features = ['temp', 'hum', 'percp', 'wspeed', 'capacity', 'capacity_free']\n",
    "\n",
    "categorical_transform = Pipeline([\n",
    "    ('transformer', CategoricalTransformer())\n",
    "])\n",
    "\n",
    "arr = categorical_transform.fit_transform(y_train)\n",
    "y_train = pd.DataFrame(arr, columns=['vehicles_available'])\n",
    "\n",
    "numerical_transform = Pipeline([\n",
    "    ('imputer', SimpleImputer(strategy='mean'))\n",
    "])\n",
    "\n",
    "preprocessor = ColumnTransformer([\n",
    "    ('numerical_transform', numerical_transform,\n",
    "        num_features),\n",
    "])\n",
    "\n",
    "pipe = Pipeline([\n",
    "    ('preprocess', preprocessor),\n",
    "    ('MLPR', MLPRegressor())\n",
    "])\n",
    "\n",
    "parameter_space = {\n",
    "    \"MLPR__hidden_layer_sizes\": [(32), (16)],\n",
    "    \"MLPR__learning_rate_init\": [0.001, 0.01]\n",
    "}\n",
    "\n",
    "search = GridSearchCV(pipe, parameter_space,\n",
    "                        verbose=2, error_score='raise')\n",
    "search.fit(x_train, y_train)\n",
    "\n",
    "test = transform_test(test_path, categorical_transform, numerical_transform)\n",
    "x_test = test.drop('vehicles_available', axis=1)\n",
    "y_test = pd.DataFrame(test['vehicles_available'])\n",
    "\n",
    "\n",
    "signature = infer_signature(x_train, search.predict(x_test))\n",
    "mlflow.sklearn.log_model(search, signature=signature, artifact_path=\"MLPRegressor\",\n",
    "        registered_model_name=\"MLPRegressor\")\n",
    "\n",
    "prediction = search.predict(x_test)\n",
    "print('Model trained')\n",
    "\n",
    "# Calculate MSE and MAE for the test data\n",
    "mse_test = mean_squared_error(y_test, prediction)\n",
    "mae_test = mean_absolute_error(y_test, prediction)\n",
    "evs_test = explained_variance_score(y_test, prediction)\n",
    "\n",
    "mlflow.log_metric(\"MSE Test\", mse_test)\n",
    "mlflow.log_metric(\"MAE Test\", mae_test)\n",
    "mlflow.log_metric(\"EVS Test\", evs_test)\n",
    "\n",
    "with open(metrics_path, 'w') as file:\n",
    "    file.write('MAE:' + str(mae_test) + '\\n')\n",
    "    file.write('MSE:' + str(mse_test) + '\\n')\n",
    "    file.write('EVS:' + str(evs_test) + '\\n')\n",
    "\n",
    "print('Reports updated')\n",
    "\n",
    "#mlflow.sklearn.log_model(search, \"MLPRegressor\")\n",
    "\n",
    "print('Model serialized')\n",
    "\n",
    "autolog_run = mlflow.last_active_run()\n",
    "print(autolog_run)"
   ]
  },
  {
   "cell_type": "code",
   "execution_count": 18,
   "metadata": {},
   "outputs": [
    {
     "ename": "AttributeError",
     "evalue": "'list' object has no attribute 'start_run'",
     "output_type": "error",
     "traceback": [
      "\u001b[1;31m---------------------------------------------------------------------------\u001b[0m",
      "\u001b[1;31mAttributeError\u001b[0m                            Traceback (most recent call last)",
      "Cell \u001b[1;32mIn[18], line 1\u001b[0m\n\u001b[1;32m----> 1\u001b[0m \u001b[39mwith\u001b[39;00m mlflow\u001b[39m.\u001b[39;49mstart_run():\n\u001b[0;32m      2\u001b[0m     run \u001b[39m=\u001b[39m mlflow\u001b[39m.\u001b[39mactive_run()\n\u001b[0;32m      3\u001b[0m     run_id \u001b[39m=\u001b[39m run\u001b[39m.\u001b[39minfo\u001b[39m.\u001b[39mrun_id\n",
      "\u001b[1;31mAttributeError\u001b[0m: 'list' object has no attribute 'start_run'"
     ]
    }
   ],
   "source": [
    "with mlflow.start_run():\n",
    "    run = mlflow.active_run()\n",
    "    run_id = run.info.run_id\n",
    "\n",
    "    client = MlflowClient()\n",
    "    m = client.get_latest_versions('MLPRegressor', stages=[\"Production\"])\n",
    "    history = client.get_metric_history(m.run_id, key='MAE Test')\n",
    "\n",
    "    min = history[0].value\n",
    "    for h in history:\n",
    "        if h.value < min:\n",
    "            min = h.value\n",
    "\n",
    "    if mae_test < min:\n",
    "        print('jere')\n",
    "        client.transition_model_version_stage(\n",
    "            name=\"MLPRegressor\", version=m.version, stage='Production'\n",
    "        )\n",
    "\n",
    "    mlflow.end_run()"
   ]
  },
  {
   "cell_type": "code",
   "execution_count": null,
   "metadata": {},
   "outputs": [],
   "source": [
    "model_version_info = client.get_latest_versions(\"MLPRegressor\", stages=[\"Production\"])[0]\n",
    "model_uri = model_version_info.source\n",
    "\n",
    "# Load the model\n",
    "loaded_model = mlflow.pyfunc.load_model(model_uri)\n",
    "\n",
    "x_test['hum'] = x_test['hum'].astype('int')\n",
    "\n",
    "# Use the model to make predictions\n",
    "predictions = loaded_model.predict(x_test)\n",
    "print(predictions)"
   ]
  }
 ],
 "metadata": {
  "kernelspec": {
   "display_name": "Python 3.10.7 ('bike-availability-mb-XevrlMBI-py3.10')",
   "language": "python",
   "name": "python3"
  },
  "language_info": {
   "codemirror_mode": {
    "name": "ipython",
    "version": 3
   },
   "file_extension": ".py",
   "mimetype": "text/x-python",
   "name": "python",
   "nbconvert_exporter": "python",
   "pygments_lexer": "ipython3",
   "version": "3.10.7"
  },
  "orig_nbformat": 4,
  "vscode": {
   "interpreter": {
    "hash": "3f5488a622311595cdedea2aa77f9108e5d77e2ff984dd249c77180bf22e70cc"
   }
  }
 },
 "nbformat": 4,
 "nbformat_minor": 2
}
