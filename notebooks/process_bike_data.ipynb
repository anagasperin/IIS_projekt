{
 "cells": [
  {
   "cell_type": "code",
   "execution_count": 1,
   "metadata": {},
   "outputs": [],
   "source": [
    "import pandas as pd\n",
    "import json\n",
    "import os"
   ]
  },
  {
   "cell_type": "code",
   "execution_count": 14,
   "metadata": {},
   "outputs": [
    {
     "name": "stdout",
     "output_type": "stream",
     "text": [
      "Processing bike data...\n",
      "<_io.TextIOWrapper name='../data/bike/merged_bike_data.json' mode='r' encoding='utf-8'>\n"
     ]
    }
   ],
   "source": [
    "bike = os.path.join('../data/bike/merged_bike_data.json')\n",
    "bike_proc = os.path.join('../data/bike/processed_bike_data.csv')\n",
    "\n",
    "print('Processing bike data...')\n",
    "\n",
    "f = open(bike, 'r', encoding='utf-8')\n",
    "raw = json.load(f)\n",
    "f.close()\n",
    "\n",
    "df = pd.DataFrame()\n",
    "print(bike)"
   ]
  },
  {
   "cell_type": "code",
   "execution_count": 26,
   "metadata": {},
   "outputs": [
    {
     "name": "stdout",
     "output_type": "stream",
     "text": [
      "Json to data frame...\n",
      "['FeatureCollection', \"[{'type': 'Feature', 'geometry': {'type': 'Point', 'coordinates': [15.63831, 46.54199]}, 'properties': {'system': 'maribor', 'provider': 'europlakat', 'type': 'bike_station', 'id': '24', 'title': 'VZAJEMNA, VARUH ZDRAVJA - BETNAVSKA C.', 'image_url': None, 'capacity': 20, 'vehicles_available': 11, 'capacity_free': 9, 'address': None}, 'id': '24', 'bbox': None}, {'type': 'Feature', 'geometry': {'type': 'Point', 'coordinates': [15.646833, 46.557328]}, 'properties': {'system': 'maribor', 'provider': 'europlakat', 'type': 'bike_station', 'id': '10', 'title': 'TELEMACH - GLAVNI TRG - STARI PERON', 'image_url': None, 'capacity': 20, 'vehicles_available': 4, 'capacity_free': 16, 'address': None}, 'id': '10', 'bbox': None}, {'type': 'Feature', 'geometry': {'type': 'Point', 'coordinates': [15.649072, 46.558519]}, 'properties': {'system': 'maribor', 'provider': 'europlakat', 'type': 'bike_station', 'id': '9', 'title': 'NKBM - TRG LEONA Ĺ\\xa0TUKLJA', 'image_url': None, 'capacity': 20, 'vehicles_available': 11, 'capacity_free': 9, 'address': None}, 'id': '9', 'bbox': None}, {'type': 'Feature', 'geometry': {'type': 'Point', 'coordinates': [15.65692, 46.561555]}, 'properties': {'system': 'maribor', 'provider': 'europlakat', 'type': 'bike_station', 'id': '13', 'title': 'PARTIZANSKA C. - Ĺ˝ELEZNIĹ\\xa0KA POSTAJA', 'image_url': None, 'capacity': 20, 'vehicles_available': 13, 'capacity_free': 7, 'address': None}, 'id': '13', 'bbox': None}, {'type': 'Feature', 'geometry': {'type': 'Point', 'coordinates': [15.652826, 46.554703]}, 'properties': {'system': 'maribor', 'provider': 'europlakat', 'type': 'bike_station', 'id': '20', 'title': 'EUROPARK - POBREĹ\\xa0KA C.', 'image_url': None, 'capacity': 21, 'vehicles_available': 21, 'capacity_free': 0, 'address': None}, 'id': '20', 'bbox': None}, {'type': 'Feature', 'geometry': {'type': 'Point', 'coordinates': [15.64146, 46.558498]}, 'properties': {'system': 'maribor', 'provider': 'europlakat', 'type': 'bike_station', 'id': '4', 'title': 'STROSSMAYERJEVA UL. - TRĹ˝NICA', 'image_url': None, 'capacity': 20, 'vehicles_available': 4, 'capacity_free': 15, 'address': None}, 'id': '4', 'bbox': None}, {'type': 'Feature', 'geometry': {'type': 'Point', 'coordinates': [15.62935, 46.562695]}, 'properties': {'system': 'maribor', 'provider': 'europlakat', 'type': 'bike_station', 'id': '1', 'title': 'GOSPOSVETSKA C. - TURNERJEVA UL.', 'image_url': None, 'capacity': 22, 'vehicles_available': 10, 'capacity_free': 12, 'address': None}, 'id': '1', 'bbox': None}, {'type': 'Feature', 'geometry': {'type': 'Point', 'coordinates': [15.63498, 46.559319]}, 'properties': {'system': 'maribor', 'provider': 'europlakat', 'type': 'bike_station', 'id': '16', 'title': 'KOROĹ\\xa0KA C. - KOROĹ\\xa0KI VETER', 'image_url': None, 'capacity': 20, 'vehicles_available': 5, 'capacity_free': 15, 'address': None}, 'id': '16', 'bbox': None}, {'type': 'Feature', 'geometry': {'type': 'Point', 'coordinates': [15.64053, 46.560761]}, 'properties': {'system': 'maribor', 'provider': 'europlakat', 'type': 'bike_station', 'id': '3', 'title': 'GOSPOSVETSKA C. - III. GIMNAZIJA', 'image_url': None, 'capacity': 20, 'vehicles_available': 4, 'capacity_free': 16, 'address': None}, 'id': '3', 'bbox': None}, {'type': 'Feature', 'geometry': {'type': 'Point', 'coordinates': [15.639333, 46.550683]}, 'properties': {'system': 'maribor', 'provider': 'europlakat', 'type': 'bike_station', 'id': '21', 'title': 'GORKEGA UL. - OĹ\\xa0 FRANCETA PREĹ\\xa0ERNA', 'image_url': None, 'capacity': 20, 'vehicles_available': 0, 'capacity_free': 20, 'address': None}, 'id': '21', 'bbox': None}, {'type': 'Feature', 'geometry': {'type': 'Point', 'coordinates': [15.644443, 46.558924]}, 'properties': {'system': 'maribor', 'provider': 'europlakat', 'type': 'bike_station', 'id': '6', 'title': 'POĹ\\xa0TA - SLOMĹ\\xa0KOV TRG', 'image_url': None, 'capacity': 20, 'vehicles_available': 19, 'capacity_free': 1, 'address': None}, 'id': '6', 'bbox': None}, {'type': 'Feature', 'geometry': {'type': 'Point', 'coordinates': [15.635014, 46.549005]}, 'properties': {'system': 'maribor', 'provider': 'europlakat', 'type': 'bike_station', 'id': '22', 'title': 'DVORANA TABOR', 'image_url': None, 'capacity': 20, 'vehicles_available': 0, 'capacity_free': 20, 'address': None}, 'id': '22', 'bbox': None}, {'type': 'Feature', 'geometry': {'type': 'Point', 'coordinates': [15.646023, 46.552652]}, 'properties': {'system': 'maribor', 'provider': 'europlakat', 'type': 'bike_station', 'id': '14', 'title': 'ULICA MOĹ\\xa0E PIJADA - UKC', 'image_url': None, 'capacity': 20, 'vehicles_available': 2, 'capacity_free': 18, 'address': None}, 'id': '14', 'bbox': None}, {'type': 'Feature', 'geometry': {'type': 'Point', 'coordinates': [15.651564, 46.551963]}, 'properties': {'system': 'maribor', 'provider': 'europlakat', 'type': 'bike_station', 'id': '19', 'title': 'LIDL - TITOVA C.', 'image_url': None, 'capacity': 20, 'vehicles_available': 20, 'capacity_free': 0, 'address': None}, 'id': '19', 'bbox': None}, {'type': 'Feature', 'geometry': {'type': 'Point', 'coordinates': [15.634329, 46.542655]}, 'properties': {'system': 'maribor', 'provider': 'europlakat', 'type': 'bike_station', 'id': '25', 'title': 'SPAR - TRĹ˝NICA TABOR', 'image_url': None, 'capacity': 20, 'vehicles_available': 11, 'capacity_free': 8, 'address': None}, 'id': '25', 'bbox': None}, {'type': 'Feature', 'geometry': {'type': 'Point', 'coordinates': [15.624098, 46.553109]}, 'properties': {'system': 'maribor', 'provider': 'europlakat', 'type': 'bike_station', 'id': '17', 'title': 'NA POLJANAH - HEROJA Ĺ\\xa0ERCERJA', 'image_url': None, 'capacity': 20, 'vehicles_available': 10, 'capacity_free': 10, 'address': None}, 'id': '17', 'bbox': None}, {'type': 'Feature', 'geometry': {'type': 'Point', 'coordinates': [15.650235, 46.56196]}, 'properties': {'system': 'maribor', 'provider': 'europlakat', 'type': 'bike_station', 'id': '8', 'title': 'RAZLAGOVA UL. - OBÄŚINA', 'image_url': None, 'capacity': 20, 'vehicles_available': 3, 'capacity_free': 17, 'address': None}, 'id': '8', 'bbox': None}, {'type': 'Feature', 'geometry': {'type': 'Point', 'coordinates': [15.650781, 46.560227]}, 'properties': {'system': 'maribor', 'provider': 'europlakat', 'type': 'bike_station', 'id': '7', 'title': 'PARTIZANSKA C. - TIC', 'image_url': None, 'capacity': 20, 'vehicles_available': 19, 'capacity_free': 1, 'address': None}, 'id': '7', 'bbox': None}, {'type': 'Feature', 'geometry': {'type': 'Point', 'coordinates': [15.637118, 46.561422]}, 'properties': {'system': 'maribor', 'provider': 'europlakat', 'type': 'bike_station', 'id': '2', 'title': 'GOSPOSVETSKA C. - VRBANSKA C.', 'image_url': None, 'capacity': 22, 'vehicles_available': 10, 'capacity_free': 12, 'address': None}, 'id': '2', 'bbox': None}, {'type': 'Feature', 'geometry': {'type': 'Point', 'coordinates': [15.644185, 46.56294]}, 'properties': {'system': 'maribor', 'provider': 'europlakat', 'type': 'bike_station', 'id': '5', 'title': 'MLADINSKA UL. - TRUBARJEVA UL.', 'image_url': None, 'capacity': 16, 'vehicles_available': 6, 'capacity_free': 10, 'address': None}, 'id': '5', 'bbox': None}, {'type': 'Feature', 'geometry': {'type': 'Point', 'coordinates': [15.654739, 46.558534]}, 'properties': {'system': 'maribor', 'provider': 'europlakat', 'type': 'bike_station', 'id': '12', 'title': 'MLINSKA UL . - AVTOBUSNA POSTAJA', 'image_url': None, 'capacity': 20, 'vehicles_available': 13, 'capacity_free': 7, 'address': None}, 'id': '12', 'bbox': None}, {'type': 'Feature', 'geometry': {'type': 'Point', 'coordinates': [15.645591, 46.548853]}, 'properties': {'system': 'maribor', 'provider': 'europlakat', 'type': 'bike_station', 'id': '15', 'title': 'LJUBLJANSKA UL. - II. GIMNAZIJA', 'image_url': None, 'capacity': 20, 'vehicles_available': 0, 'capacity_free': 20, 'address': None}, 'id': '15', 'bbox': None}, {'type': 'Feature', 'geometry': {'type': 'Point', 'coordinates': [15.644015, 46.545947]}, 'properties': {'system': 'maribor', 'provider': 'europlakat', 'type': 'bike_station', 'id': '23', 'title': 'LJUBLJANSKA UL. - FOCHEVA', 'image_url': None, 'capacity': 20, 'vehicles_available': 9, 'capacity_free': 11, 'address': None}, 'id': '23', 'bbox': None}, {'type': 'Feature', 'geometry': {'type': 'Point', 'coordinates': [15.623133, 46.565603]}, 'properties': {'system': 'maribor', 'provider': 'europlakat', 'type': 'bike_station', 'id': '18', 'title': 'LIDL - KOROĹ\\xa0KA C.', 'image_url': None, 'capacity': 20, 'vehicles_available': 6, 'capacity_free': 14, 'address': None}, 'id': '18', 'bbox': None}, {'type': 'Feature', 'geometry': {'type': 'Point', 'coordinates': [15.652935, 46.56056]}, 'properties': {'system': 'maribor', 'provider': 'europlakat', 'type': 'bike_station', 'id': '11', 'title': 'PARTIZANSKA C. - CANKARJEVA UL.', 'image_url': None, 'capacity': 20, 'vehicles_available': 7, 'capacity_free': 13, 'address': None}, 'id': '11', 'bbox': None}]\", '']\n"
     ]
    },
    {
     "ename": "TypeError",
     "evalue": "list indices must be integers or slices, not str",
     "output_type": "error",
     "traceback": [
      "\u001b[1;31m---------------------------------------------------------------------------\u001b[0m",
      "\u001b[1;31mTypeError\u001b[0m                                 Traceback (most recent call last)",
      "\u001b[1;32mc:\\Users\\Uporabnik\\OneDrive\\INF\\IIS\\projekt\\notebooks\\process_bike_data.ipynb Cell 3\u001b[0m in \u001b[0;36m<cell line: 3>\u001b[1;34m()\u001b[0m\n\u001b[0;32m      <a href='vscode-notebook-cell:/c%3A/Users/Uporabnik/OneDrive/INF/IIS/projekt/notebooks/process_bike_data.ipynb#W2sZmlsZQ%3D%3D?line=3'>4</a>\u001b[0m jdata \u001b[39m=\u001b[39m raw[\u001b[39m1\u001b[39m][\u001b[39m'\u001b[39m\u001b[39mvalues\u001b[39m\u001b[39m'\u001b[39m]\n\u001b[0;32m      <a href='vscode-notebook-cell:/c%3A/Users/Uporabnik/OneDrive/INF/IIS/projekt/notebooks/process_bike_data.ipynb#W2sZmlsZQ%3D%3D?line=4'>5</a>\u001b[0m \u001b[39mprint\u001b[39m(jdata)\n\u001b[1;32m----> <a href='vscode-notebook-cell:/c%3A/Users/Uporabnik/OneDrive/INF/IIS/projekt/notebooks/process_bike_data.ipynb#W2sZmlsZQ%3D%3D?line=5'>6</a>\u001b[0m features \u001b[39m=\u001b[39m jdata[\u001b[39m'\u001b[39;49m\u001b[39mFeatureCollection\u001b[39;49m\u001b[39m'\u001b[39;49m][\u001b[39m'\u001b[39m\u001b[39mproperties\u001b[39m\u001b[39m'\u001b[39m]\n\u001b[0;32m      <a href='vscode-notebook-cell:/c%3A/Users/Uporabnik/OneDrive/INF/IIS/projekt/notebooks/process_bike_data.ipynb#W2sZmlsZQ%3D%3D?line=6'>7</a>\u001b[0m \u001b[39mprint\u001b[39m(features)\n\u001b[0;32m      <a href='vscode-notebook-cell:/c%3A/Users/Uporabnik/OneDrive/INF/IIS/projekt/notebooks/process_bike_data.ipynb#W2sZmlsZQ%3D%3D?line=8'>9</a>\u001b[0m \u001b[39mif\u001b[39;00m \u001b[39m'\u001b[39m\u001b[39mtitle\u001b[39m\u001b[39m'\u001b[39m \u001b[39min\u001b[39;00m features \u001b[39mand\u001b[39;00m features[\u001b[39m'\u001b[39m\u001b[39mtitle\u001b[39m\u001b[39m'\u001b[39m] \u001b[39m==\u001b[39m \u001b[39m'\u001b[39m\u001b[39mGOSPOSVETSKA C. - III. GIMNAZIJA\u001b[39m\u001b[39m'\u001b[39m:\n",
      "\u001b[1;31mTypeError\u001b[0m: list indices must be integers or slices, not str"
     ]
    }
   ],
   "source": [
    "print('Json to data frame...')\n",
    "\n",
    "for item in raw:\n",
    "    jdata = raw[1]['values']\n",
    "    print(jdata)\n",
    "    features = jdata['FeatureCollection']['properties']\n",
    "    print(features)\n",
    "\n",
    "    if 'title' in features and features['title'] == 'GOSPOSVETSKA C. - III. GIMNAZIJA':\n",
    "        date = item['date']\n",
    "        capacity = features['capacity']\n",
    "        vehicles_available = features['vehicles_available']\n",
    "        capacity_free = features['capacity_free']\n",
    "\n",
    "        df = df.append({'date': date, 'capacity': capacity, 'vehicles_available': vehicles_available, 'capacity_free': capacity_free}, ignore_index=True)\n",
    "            \n",
    "df.to_csv(bike_proc, index=False)"
   ]
  }
 ],
 "metadata": {
  "kernelspec": {
   "display_name": "bike-availability-mb-RteGF7NQ-py3.10",
   "language": "python",
   "name": "python3"
  },
  "language_info": {
   "codemirror_mode": {
    "name": "ipython",
    "version": 3
   },
   "file_extension": ".py",
   "mimetype": "text/x-python",
   "name": "python",
   "nbconvert_exporter": "python",
   "pygments_lexer": "ipython3",
   "version": "3.10.7"
  },
  "orig_nbformat": 4
 },
 "nbformat": 4,
 "nbformat_minor": 2
}
