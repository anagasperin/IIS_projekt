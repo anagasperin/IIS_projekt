{
 "cells": [
  {
   "attachments": {},
   "cell_type": "markdown",
   "id": "a0fe2bf7",
   "metadata": {},
   "source": [
    "# Initialize a new Expectation Suite by profiling a batch of your data.\n",
    "This process helps you avoid writing lots of boilerplate when authoring suites by allowing you to select columns and other factors that you care about and letting a profiler write some candidate expectations for you to adjust.\n",
    "\n",
    "**Expectation Suite Name**: `IIS_Projekt_Suite`\n"
   ]
  },
  {
   "cell_type": "code",
   "execution_count": 1,
   "id": "bae8f2d5",
   "metadata": {},
   "outputs": [
    {
     "name": "stdout",
     "output_type": "stream",
     "text": [
      "2023-07-08T19:49:36+0200 - INFO - Great Expectations logging enabled at 20 level by JupyterUX module.\n",
      "2023-07-08T19:49:36+0200 - INFO - FileDataContext loading fluent config\n",
      "2023-07-08T19:49:37+0200 - INFO - Loading 'datasources' ->\n",
      "[]\n",
      "2023-07-08T19:49:37+0200 - INFO - Profiler store is not configured; omitting it from active stores\n",
      "2023-07-08T19:49:37+0200 - INFO - Profiler store is not configured; omitting it from active stores\n",
      "2023-07-08T19:49:37+0200 - INFO - Profiler store is not configured; omitting it from active stores\n",
      "2023-07-08T19:49:37+0200 - INFO - Profiler store is not configured; omitting it from active stores\n",
      "2023-07-08T19:49:37+0200 - INFO - Profiler store is not configured; omitting it from active stores\n"
     ]
    },
    {
     "data": {
      "application/vnd.jupyter.widget-view+json": {
       "model_id": "a1ad099b04f445bb9adecd53e2282546",
       "version_major": 2,
       "version_minor": 0
      },
      "text/plain": [
       "Calculating Metrics:   0%|          | 0/2 [00:00<?, ?it/s]"
      ]
     },
     "metadata": {},
     "output_type": "display_data"
    },
    {
     "name": "stdout",
     "output_type": "stream",
     "text": [
      "Columns: \"hour\", \"vehicles_available\", \"temp\", \"hum\", \"percp\", \"wspeed\", \"capacity\", \"capacity_free\".\n"
     ]
    },
    {
     "data": {
      "application/vnd.jupyter.widget-view+json": {
       "model_id": "05a8526341a3493791ce42c1e0b7583e",
       "version_major": 2,
       "version_minor": 0
      },
      "text/plain": [
       "Calculating Metrics:   0%|          | 0/1 [00:00<?, ?it/s]"
      ]
     },
     "metadata": {},
     "output_type": "display_data"
    },
    {
     "data": {
      "text/html": [
       "<div>\n",
       "<style scoped>\n",
       "    .dataframe tbody tr th:only-of-type {\n",
       "        vertical-align: middle;\n",
       "    }\n",
       "\n",
       "    .dataframe tbody tr th {\n",
       "        vertical-align: top;\n",
       "    }\n",
       "\n",
       "    .dataframe thead th {\n",
       "        text-align: right;\n",
       "    }\n",
       "</style>\n",
       "<table border=\"1\" class=\"dataframe\">\n",
       "  <thead>\n",
       "    <tr style=\"text-align: right;\">\n",
       "      <th></th>\n",
       "      <th>hour</th>\n",
       "      <th>vehicles_available</th>\n",
       "      <th>temp</th>\n",
       "      <th>hum</th>\n",
       "      <th>percp</th>\n",
       "      <th>wspeed</th>\n",
       "      <th>capacity</th>\n",
       "      <th>capacity_free</th>\n",
       "    </tr>\n",
       "  </thead>\n",
       "  <tbody>\n",
       "    <tr>\n",
       "      <th>0</th>\n",
       "      <td>14</td>\n",
       "      <td>4</td>\n",
       "      <td>14.9</td>\n",
       "      <td>74.0</td>\n",
       "      <td>0.0</td>\n",
       "      <td>9.4</td>\n",
       "      <td>20</td>\n",
       "      <td>16</td>\n",
       "    </tr>\n",
       "    <tr>\n",
       "      <th>1</th>\n",
       "      <td>15</td>\n",
       "      <td>4</td>\n",
       "      <td>14.9</td>\n",
       "      <td>73.0</td>\n",
       "      <td>0.2</td>\n",
       "      <td>11.7</td>\n",
       "      <td>20</td>\n",
       "      <td>16</td>\n",
       "    </tr>\n",
       "    <tr>\n",
       "      <th>2</th>\n",
       "      <td>15</td>\n",
       "      <td>4</td>\n",
       "      <td>14.9</td>\n",
       "      <td>73.0</td>\n",
       "      <td>0.2</td>\n",
       "      <td>11.7</td>\n",
       "      <td>20</td>\n",
       "      <td>16</td>\n",
       "    </tr>\n",
       "    <tr>\n",
       "      <th>3</th>\n",
       "      <td>16</td>\n",
       "      <td>5</td>\n",
       "      <td>14.6</td>\n",
       "      <td>72.0</td>\n",
       "      <td>0.1</td>\n",
       "      <td>12.1</td>\n",
       "      <td>20</td>\n",
       "      <td>15</td>\n",
       "    </tr>\n",
       "    <tr>\n",
       "      <th>4</th>\n",
       "      <td>16</td>\n",
       "      <td>4</td>\n",
       "      <td>14.6</td>\n",
       "      <td>72.0</td>\n",
       "      <td>0.1</td>\n",
       "      <td>12.1</td>\n",
       "      <td>20</td>\n",
       "      <td>16</td>\n",
       "    </tr>\n",
       "  </tbody>\n",
       "</table>\n",
       "</div>"
      ],
      "text/plain": [
       "   hour  vehicles_available  temp   hum  percp  wspeed  capacity  \\\n",
       "0    14                   4  14.9  74.0    0.0     9.4        20   \n",
       "1    15                   4  14.9  73.0    0.2    11.7        20   \n",
       "2    15                   4  14.9  73.0    0.2    11.7        20   \n",
       "3    16                   5  14.6  72.0    0.1    12.1        20   \n",
       "4    16                   4  14.6  72.0    0.1    12.1        20   \n",
       "\n",
       "   capacity_free  \n",
       "0             16  \n",
       "1             16  \n",
       "2             16  \n",
       "3             15  \n",
       "4             16  "
      ]
     },
     "execution_count": 1,
     "metadata": {},
     "output_type": "execute_result"
    }
   ],
   "source": [
    "import datetime\n",
    "\n",
    "import pandas as pd\n",
    "\n",
    "import great_expectations as gx\n",
    "import great_expectations.jupyter_ux\n",
    "from great_expectations.core.batch import BatchRequest\n",
    "from great_expectations.checkpoint import SimpleCheckpoint\n",
    "from great_expectations.exceptions import DataContextError\n",
    "\n",
    "context = gx.get_context()\n",
    "\n",
    "batch_request = {\n",
    "    \"datasource_name\": \"my_datasource\",\n",
    "    \"data_connector_name\": \"default_inferred_data_connector_name\",\n",
    "    \"data_asset_name\": \"current_data.csv\",\n",
    "    \"limit\": 1000,\n",
    "}\n",
    "\n",
    "expectation_suite_name = \"IIS_Projekt_Suite\"\n",
    "\n",
    "validator = context.get_validator(\n",
    "    batch_request=BatchRequest(**batch_request),\n",
    "    expectation_suite_name=expectation_suite_name,\n",
    ")\n",
    "column_names = [f'\"{column_name}\"' for column_name in validator.columns()]\n",
    "print(f\"Columns: {', '.join(column_names)}.\")\n",
    "validator.head(n_rows=5, fetch_all=False)"
   ]
  },
  {
   "attachments": {},
   "cell_type": "markdown",
   "id": "5e7cc438",
   "metadata": {},
   "source": [
    "# Select columns\n",
    "\n",
    "Select the columns on which you would like to set expectations and those which you would like to ignore.\n",
    "\n",
    "Great Expectations will choose which expectations might make sense for a column based on the **data type** and **cardinality** of the data in each selected column.\n",
    "\n",
    "Simply comment out columns that are important and should be included. You can select multiple lines and use a Jupyter\n",
    "keyboard shortcut to toggle each line: **Linux/Windows**:\n",
    "`Ctrl-/`, **macOS**: `Cmd-/`\n",
    "\n",
    "Other directives are shown (commented out) as examples of the depth of control possible (see documentation for details).\n"
   ]
  },
  {
   "cell_type": "code",
   "execution_count": 2,
   "id": "05b7e262",
   "metadata": {},
   "outputs": [],
   "source": [
    "#exclude_column_names = [\n",
    "#   \"hour\",\n",
    "#    \"vehicles_available\",\n",
    "#    \"temp\",\n",
    "#    \"hum\",\n",
    "#    \"percp\",\n",
    "#    \"wspeed\",\n",
    "#    \"capacity\",\n",
    "#    \"capacity_free\",\n",
    "#]"
   ]
  },
  {
   "attachments": {},
   "cell_type": "markdown",
   "id": "12c8695e",
   "metadata": {},
   "source": [
    "# Run the OnboardingDataAssistant\n",
    "\n",
    "The suites generated here are **not meant to be production suites** -- they are **a starting point to build upon**.\n",
    "\n",
    "**To get to a production-grade suite, you will definitely want to [edit this\n",
    "suite](https://docs.greatexpectations.io/docs/guides/expectations/create_expectations_overview#editing-a-saved-expectation-suite)\n",
    "after this initial step gets you started on the path towards what you want.**\n",
    "\n",
    "This is highly configurable depending on your goals.\n",
    "You can ignore columns, specify cardinality of categorical columns, configure semantic types for columns, even adjust thresholds and/or different estimator parameters, etc.\n",
    "You can find more information about OnboardingDataAssistant and other DataAssistant components (please see documentation for the complete set of DataAssistant controls) [how to choose and control the behavior of the DataAssistant tailored to your goals](https://docs.greatexpectations.io/docs/guides/expectations/data_assistants/how_to_create_an_expectation_suite_with_the_onboarding_data_assistant).\n",
    "\n",
    "Performance considerations:\n",
    "- Latency: We optimized for an explicit \"question/answer\" design, which means we issue **lots** of queries. Connection latency will impact performance.\n",
    "- Data Volume: Small samples of data will often give you a great starting point for understanding the dataset. Consider configuring a sampled asset and profiling a small number of batches.\n",
    "    "
   ]
  },
  {
   "cell_type": "code",
   "execution_count": 3,
   "id": "187aa35a",
   "metadata": {},
   "outputs": [
    {
     "name": "stdout",
     "output_type": "stream",
     "text": [
      "\n"
     ]
    },
    {
     "data": {
      "application/vnd.jupyter.widget-view+json": {
       "model_id": "6d7fd945c50c4e6f9aeb65c0271b6dd6",
       "version_major": 2,
       "version_minor": 0
      },
      "text/plain": [
       "Generating Expectations:   0%|          | 0/8 [00:00<?, ?it/s]"
      ]
     },
     "metadata": {},
     "output_type": "display_data"
    },
    {
     "data": {
      "application/vnd.jupyter.widget-view+json": {
       "model_id": "7b40df2f0e924adfbdf27f8ab79bb18d",
       "version_major": 2,
       "version_minor": 0
      },
      "text/plain": [
       "Profiling Dataset:         0%|          | 0/1 [00:00<?, ?it/s]"
      ]
     },
     "metadata": {},
     "output_type": "display_data"
    },
    {
     "data": {
      "application/vnd.jupyter.widget-view+json": {
       "model_id": "49311088548c44348ab26ae61ddce6e1",
       "version_major": 2,
       "version_minor": 0
      },
      "text/plain": [
       "Calculating Metrics:   0%|          | 0/1 [00:00<?, ?it/s]"
      ]
     },
     "metadata": {},
     "output_type": "display_data"
    },
    {
     "data": {
      "application/vnd.jupyter.widget-view+json": {
       "model_id": "266d623ebbb34fe2a5734231215e803a",
       "version_major": 2,
       "version_minor": 0
      },
      "text/plain": [
       "Calculating Metrics:   0%|          | 0/2 [00:00<?, ?it/s]"
      ]
     },
     "metadata": {},
     "output_type": "display_data"
    },
    {
     "data": {
      "application/vnd.jupyter.widget-view+json": {
       "model_id": "b8423695ded04be5bc6eae819eb6f404",
       "version_major": 2,
       "version_minor": 0
      },
      "text/plain": [
       "Calculating Metrics:   0%|          | 0/2 [00:00<?, ?it/s]"
      ]
     },
     "metadata": {},
     "output_type": "display_data"
    },
    {
     "data": {
      "application/vnd.jupyter.widget-view+json": {
       "model_id": "58bc70c82e9f450b868f4f772b2c2cf3",
       "version_major": 2,
       "version_minor": 0
      },
      "text/plain": [
       "Calculating Metrics:   0%|          | 0/2 [00:00<?, ?it/s]"
      ]
     },
     "metadata": {},
     "output_type": "display_data"
    },
    {
     "data": {
      "application/vnd.jupyter.widget-view+json": {
       "model_id": "ad7bb2221ead439d8fe70cb5cde9f1c7",
       "version_major": 2,
       "version_minor": 0
      },
      "text/plain": [
       "Calculating Metrics:   0%|          | 0/1 [00:00<?, ?it/s]"
      ]
     },
     "metadata": {},
     "output_type": "display_data"
    },
    {
     "data": {
      "application/vnd.jupyter.widget-view+json": {
       "model_id": "b8db72aa32cb45558eb7ce230c060c76",
       "version_major": 2,
       "version_minor": 0
      },
      "text/plain": [
       "Calculating Metrics:   0%|          | 0/1 [00:00<?, ?it/s]"
      ]
     },
     "metadata": {},
     "output_type": "display_data"
    },
    {
     "data": {
      "application/vnd.jupyter.widget-view+json": {
       "model_id": "42602291f7914c06a4a35ed3bd0dcf10",
       "version_major": 2,
       "version_minor": 0
      },
      "text/plain": [
       "Calculating Metrics:   0%|          | 0/19 [00:00<?, ?it/s]"
      ]
     },
     "metadata": {},
     "output_type": "display_data"
    },
    {
     "data": {
      "application/vnd.jupyter.widget-view+json": {
       "model_id": "8deab29595594da99d69099984d42b8f",
       "version_major": 2,
       "version_minor": 0
      },
      "text/plain": [
       "Profiling Dataset:         0%|          | 0/0 [00:00<?, ?it/s]"
      ]
     },
     "metadata": {},
     "output_type": "display_data"
    },
    {
     "data": {
      "application/vnd.jupyter.widget-view+json": {
       "model_id": "2d6062a6c6ed431cbb12fcecf74ebb75",
       "version_major": 2,
       "version_minor": 0
      },
      "text/plain": [
       "Calculating Metrics:   0%|          | 0/2 [00:00<?, ?it/s]"
      ]
     },
     "metadata": {},
     "output_type": "display_data"
    },
    {
     "data": {
      "application/vnd.jupyter.widget-view+json": {
       "model_id": "6b512d2d14f245449d6f2e584edc0d1d",
       "version_major": 2,
       "version_minor": 0
      },
      "text/plain": [
       "Calculating Metrics:   0%|          | 0/1 [00:00<?, ?it/s]"
      ]
     },
     "metadata": {},
     "output_type": "display_data"
    },
    {
     "data": {
      "application/vnd.jupyter.widget-view+json": {
       "model_id": "83eb349ada2947aaa725cbc16231043c",
       "version_major": 2,
       "version_minor": 0
      },
      "text/plain": [
       "Calculating Metrics:   0%|          | 0/1 [00:00<?, ?it/s]"
      ]
     },
     "metadata": {},
     "output_type": "display_data"
    },
    {
     "data": {
      "application/vnd.jupyter.widget-view+json": {
       "model_id": "ac76e12e1684412dbf648a8022c80b6a",
       "version_major": 2,
       "version_minor": 0
      },
      "text/plain": [
       "Calculating Metrics:   0%|          | 0/19 [00:00<?, ?it/s]"
      ]
     },
     "metadata": {},
     "output_type": "display_data"
    },
    {
     "data": {
      "application/vnd.jupyter.widget-view+json": {
       "model_id": "6c1b8809f5b54eba8aa62dc44d9ebd73",
       "version_major": 2,
       "version_minor": 0
      },
      "text/plain": [
       "Profiling Dataset:         0%|          | 0/0 [00:00<?, ?it/s]"
      ]
     },
     "metadata": {},
     "output_type": "display_data"
    },
    {
     "data": {
      "application/vnd.jupyter.widget-view+json": {
       "model_id": "6bb0bfbaa5a643988bd60e4a0bde506e",
       "version_major": 2,
       "version_minor": 0
      },
      "text/plain": [
       "Calculating Metrics:   0%|          | 0/2 [00:00<?, ?it/s]"
      ]
     },
     "metadata": {},
     "output_type": "display_data"
    },
    {
     "data": {
      "application/vnd.jupyter.widget-view+json": {
       "model_id": "3e49d33fc4344e91a524af854692bad6",
       "version_major": 2,
       "version_minor": 0
      },
      "text/plain": [
       "Calculating Metrics:   0%|          | 0/1 [00:00<?, ?it/s]"
      ]
     },
     "metadata": {},
     "output_type": "display_data"
    },
    {
     "data": {
      "application/vnd.jupyter.widget-view+json": {
       "model_id": "efa1a9302ec446b89df99a15f860b53a",
       "version_major": 2,
       "version_minor": 0
      },
      "text/plain": [
       "Calculating Metrics:   0%|          | 0/1 [00:00<?, ?it/s]"
      ]
     },
     "metadata": {},
     "output_type": "display_data"
    },
    {
     "data": {
      "application/vnd.jupyter.widget-view+json": {
       "model_id": "114d183f03ee408b896fd0d82152a722",
       "version_major": 2,
       "version_minor": 0
      },
      "text/plain": [
       "Calculating Metrics:   0%|          | 0/19 [00:00<?, ?it/s]"
      ]
     },
     "metadata": {},
     "output_type": "display_data"
    },
    {
     "data": {
      "application/vnd.jupyter.widget-view+json": {
       "model_id": "6fe095841d3044cd906570e6c842ccc0",
       "version_major": 2,
       "version_minor": 0
      },
      "text/plain": [
       "Profiling Dataset:         0%|          | 0/8 [00:00<?, ?it/s]"
      ]
     },
     "metadata": {},
     "output_type": "display_data"
    },
    {
     "data": {
      "application/vnd.jupyter.widget-view+json": {
       "model_id": "2abe01dd36004341ac243d3b7428de0e",
       "version_major": 2,
       "version_minor": 0
      },
      "text/plain": [
       "Calculating Metrics:   0%|          | 0/5 [00:00<?, ?it/s]"
      ]
     },
     "metadata": {},
     "output_type": "display_data"
    },
    {
     "data": {
      "application/vnd.jupyter.widget-view+json": {
       "model_id": "f6d10f6e0605462abdcac620a7231ea3",
       "version_major": 2,
       "version_minor": 0
      },
      "text/plain": [
       "Calculating Metrics:   0%|          | 0/1 [00:00<?, ?it/s]"
      ]
     },
     "metadata": {},
     "output_type": "display_data"
    },
    {
     "data": {
      "application/vnd.jupyter.widget-view+json": {
       "model_id": "a187ff2e2f8f4696a0f6f564b7fa77ff",
       "version_major": 2,
       "version_minor": 0
      },
      "text/plain": [
       "Calculating Metrics:   0%|          | 0/5 [00:00<?, ?it/s]"
      ]
     },
     "metadata": {},
     "output_type": "display_data"
    },
    {
     "data": {
      "application/vnd.jupyter.widget-view+json": {
       "model_id": "5faeddb555264ae790f8aa7dbfbea7a0",
       "version_major": 2,
       "version_minor": 0
      },
      "text/plain": [
       "Calculating Metrics:   0%|          | 0/5 [00:00<?, ?it/s]"
      ]
     },
     "metadata": {},
     "output_type": "display_data"
    },
    {
     "data": {
      "application/vnd.jupyter.widget-view+json": {
       "model_id": "ee92cda602a84e41b38fa126aaeee677",
       "version_major": 2,
       "version_minor": 0
      },
      "text/plain": [
       "Calculating Metrics:   0%|          | 0/5 [00:00<?, ?it/s]"
      ]
     },
     "metadata": {},
     "output_type": "display_data"
    },
    {
     "data": {
      "application/vnd.jupyter.widget-view+json": {
       "model_id": "bc376ce90da9485fb60c2dd50916806b",
       "version_major": 2,
       "version_minor": 0
      },
      "text/plain": [
       "Calculating Metrics:   0%|          | 0/1 [00:00<?, ?it/s]"
      ]
     },
     "metadata": {},
     "output_type": "display_data"
    },
    {
     "data": {
      "application/vnd.jupyter.widget-view+json": {
       "model_id": "2d4f7fd18ef64785be14e258600502da",
       "version_major": 2,
       "version_minor": 0
      },
      "text/plain": [
       "Calculating Metrics:   0%|          | 0/5 [00:00<?, ?it/s]"
      ]
     },
     "metadata": {},
     "output_type": "display_data"
    },
    {
     "data": {
      "application/vnd.jupyter.widget-view+json": {
       "model_id": "25025abdfe754dd2be867def7b290bef",
       "version_major": 2,
       "version_minor": 0
      },
      "text/plain": [
       "Calculating Metrics:   0%|          | 0/5 [00:00<?, ?it/s]"
      ]
     },
     "metadata": {},
     "output_type": "display_data"
    },
    {
     "data": {
      "application/vnd.jupyter.widget-view+json": {
       "model_id": "9dbe5f501927434ca20c58fef2b4d1be",
       "version_major": 2,
       "version_minor": 0
      },
      "text/plain": [
       "Calculating Metrics:   0%|          | 0/5 [00:00<?, ?it/s]"
      ]
     },
     "metadata": {},
     "output_type": "display_data"
    },
    {
     "data": {
      "application/vnd.jupyter.widget-view+json": {
       "model_id": "dbd02d885c7c45f09620698186c79ff6",
       "version_major": 2,
       "version_minor": 0
      },
      "text/plain": [
       "Calculating Metrics:   0%|          | 0/1 [00:00<?, ?it/s]"
      ]
     },
     "metadata": {},
     "output_type": "display_data"
    },
    {
     "data": {
      "application/vnd.jupyter.widget-view+json": {
       "model_id": "bfb8b1acf58b48b4abc09ffa7a87c31d",
       "version_major": 2,
       "version_minor": 0
      },
      "text/plain": [
       "Calculating Metrics:   0%|          | 0/5 [00:00<?, ?it/s]"
      ]
     },
     "metadata": {},
     "output_type": "display_data"
    },
    {
     "data": {
      "application/vnd.jupyter.widget-view+json": {
       "model_id": "198492a9eccb49ba8356b7d717be9886",
       "version_major": 2,
       "version_minor": 0
      },
      "text/plain": [
       "Calculating Metrics:   0%|          | 0/5 [00:00<?, ?it/s]"
      ]
     },
     "metadata": {},
     "output_type": "display_data"
    },
    {
     "data": {
      "application/vnd.jupyter.widget-view+json": {
       "model_id": "a3c7a31bf36b4e22977f57f745626932",
       "version_major": 2,
       "version_minor": 0
      },
      "text/plain": [
       "Calculating Metrics:   0%|          | 0/5 [00:00<?, ?it/s]"
      ]
     },
     "metadata": {},
     "output_type": "display_data"
    },
    {
     "data": {
      "application/vnd.jupyter.widget-view+json": {
       "model_id": "b8f9079168b64436bc34fb3baaa4fc8b",
       "version_major": 2,
       "version_minor": 0
      },
      "text/plain": [
       "Calculating Metrics:   0%|          | 0/1 [00:00<?, ?it/s]"
      ]
     },
     "metadata": {},
     "output_type": "display_data"
    },
    {
     "data": {
      "application/vnd.jupyter.widget-view+json": {
       "model_id": "d90db0eddb5a4549b0c76eee91d45aab",
       "version_major": 2,
       "version_minor": 0
      },
      "text/plain": [
       "Calculating Metrics:   0%|          | 0/5 [00:00<?, ?it/s]"
      ]
     },
     "metadata": {},
     "output_type": "display_data"
    },
    {
     "data": {
      "application/vnd.jupyter.widget-view+json": {
       "model_id": "e5eca3b9e44f46a1a5ca7637647b114e",
       "version_major": 2,
       "version_minor": 0
      },
      "text/plain": [
       "Calculating Metrics:   0%|          | 0/5 [00:00<?, ?it/s]"
      ]
     },
     "metadata": {},
     "output_type": "display_data"
    },
    {
     "data": {
      "application/vnd.jupyter.widget-view+json": {
       "model_id": "424bf10ab9a54850a3f85991eac26c59",
       "version_major": 2,
       "version_minor": 0
      },
      "text/plain": [
       "Calculating Metrics:   0%|          | 0/5 [00:00<?, ?it/s]"
      ]
     },
     "metadata": {},
     "output_type": "display_data"
    },
    {
     "data": {
      "application/vnd.jupyter.widget-view+json": {
       "model_id": "a000782b32844e87bf24a5f7ae98fd28",
       "version_major": 2,
       "version_minor": 0
      },
      "text/plain": [
       "Calculating Metrics:   0%|          | 0/1 [00:00<?, ?it/s]"
      ]
     },
     "metadata": {},
     "output_type": "display_data"
    },
    {
     "data": {
      "application/vnd.jupyter.widget-view+json": {
       "model_id": "b344909e21244c899d00ff8c7e6980d7",
       "version_major": 2,
       "version_minor": 0
      },
      "text/plain": [
       "Calculating Metrics:   0%|          | 0/5 [00:00<?, ?it/s]"
      ]
     },
     "metadata": {},
     "output_type": "display_data"
    },
    {
     "data": {
      "application/vnd.jupyter.widget-view+json": {
       "model_id": "3ceaa6650efb461ebd04bc117ee71ba4",
       "version_major": 2,
       "version_minor": 0
      },
      "text/plain": [
       "Calculating Metrics:   0%|          | 0/5 [00:00<?, ?it/s]"
      ]
     },
     "metadata": {},
     "output_type": "display_data"
    },
    {
     "data": {
      "application/vnd.jupyter.widget-view+json": {
       "model_id": "a66e9e846f884bfc9ccfa2e9f66ab1f3",
       "version_major": 2,
       "version_minor": 0
      },
      "text/plain": [
       "Calculating Metrics:   0%|          | 0/5 [00:00<?, ?it/s]"
      ]
     },
     "metadata": {},
     "output_type": "display_data"
    },
    {
     "data": {
      "application/vnd.jupyter.widget-view+json": {
       "model_id": "f517648e2b02449183efdcbc8247fe2e",
       "version_major": 2,
       "version_minor": 0
      },
      "text/plain": [
       "Calculating Metrics:   0%|          | 0/1 [00:00<?, ?it/s]"
      ]
     },
     "metadata": {},
     "output_type": "display_data"
    },
    {
     "data": {
      "application/vnd.jupyter.widget-view+json": {
       "model_id": "b3e68a20e6ea4514aa24b1fea32ca3b9",
       "version_major": 2,
       "version_minor": 0
      },
      "text/plain": [
       "Calculating Metrics:   0%|          | 0/5 [00:00<?, ?it/s]"
      ]
     },
     "metadata": {},
     "output_type": "display_data"
    },
    {
     "data": {
      "application/vnd.jupyter.widget-view+json": {
       "model_id": "c6a3f4aa24214b1898d55fdc98c56698",
       "version_major": 2,
       "version_minor": 0
      },
      "text/plain": [
       "Calculating Metrics:   0%|          | 0/5 [00:00<?, ?it/s]"
      ]
     },
     "metadata": {},
     "output_type": "display_data"
    },
    {
     "data": {
      "application/vnd.jupyter.widget-view+json": {
       "model_id": "5ce1cb8c5d0e437aab6bfa5b4374942f",
       "version_major": 2,
       "version_minor": 0
      },
      "text/plain": [
       "Calculating Metrics:   0%|          | 0/5 [00:00<?, ?it/s]"
      ]
     },
     "metadata": {},
     "output_type": "display_data"
    },
    {
     "data": {
      "application/vnd.jupyter.widget-view+json": {
       "model_id": "fc45d7610b144a008f441d0e77780f87",
       "version_major": 2,
       "version_minor": 0
      },
      "text/plain": [
       "Calculating Metrics:   0%|          | 0/1 [00:00<?, ?it/s]"
      ]
     },
     "metadata": {},
     "output_type": "display_data"
    },
    {
     "data": {
      "application/vnd.jupyter.widget-view+json": {
       "model_id": "c02adc0451ba42af8fd3ad6582cc6e8f",
       "version_major": 2,
       "version_minor": 0
      },
      "text/plain": [
       "Calculating Metrics:   0%|          | 0/5 [00:00<?, ?it/s]"
      ]
     },
     "metadata": {},
     "output_type": "display_data"
    },
    {
     "data": {
      "application/vnd.jupyter.widget-view+json": {
       "model_id": "1a9ea4b62c7546b9aa1555c3b380b440",
       "version_major": 2,
       "version_minor": 0
      },
      "text/plain": [
       "Calculating Metrics:   0%|          | 0/5 [00:00<?, ?it/s]"
      ]
     },
     "metadata": {},
     "output_type": "display_data"
    },
    {
     "data": {
      "application/vnd.jupyter.widget-view+json": {
       "model_id": "4f26e9f7f1084e87bd4e2dc8e4c3e02c",
       "version_major": 2,
       "version_minor": 0
      },
      "text/plain": [
       "Calculating Metrics:   0%|          | 0/5 [00:00<?, ?it/s]"
      ]
     },
     "metadata": {},
     "output_type": "display_data"
    },
    {
     "data": {
      "application/vnd.jupyter.widget-view+json": {
       "model_id": "77e0d6199dda44c3b5091b22f0a9ab36",
       "version_major": 2,
       "version_minor": 0
      },
      "text/plain": [
       "Calculating Metrics:   0%|          | 0/1 [00:00<?, ?it/s]"
      ]
     },
     "metadata": {},
     "output_type": "display_data"
    },
    {
     "data": {
      "application/vnd.jupyter.widget-view+json": {
       "model_id": "4dbf3e4953cc47c2ba312b58c46e2143",
       "version_major": 2,
       "version_minor": 0
      },
      "text/plain": [
       "Calculating Metrics:   0%|          | 0/5 [00:00<?, ?it/s]"
      ]
     },
     "metadata": {},
     "output_type": "display_data"
    },
    {
     "data": {
      "application/vnd.jupyter.widget-view+json": {
       "model_id": "7a1660f56e4241aca7934a37b79f843c",
       "version_major": 2,
       "version_minor": 0
      },
      "text/plain": [
       "Calculating Metrics:   0%|          | 0/5 [00:00<?, ?it/s]"
      ]
     },
     "metadata": {},
     "output_type": "display_data"
    },
    {
     "data": {
      "application/vnd.jupyter.widget-view+json": {
       "model_id": "7858bfed23c3491895be2a5da6fb3c49",
       "version_major": 2,
       "version_minor": 0
      },
      "text/plain": [
       "Calculating Metrics:   0%|          | 0/2 [00:00<?, ?it/s]"
      ]
     },
     "metadata": {},
     "output_type": "display_data"
    },
    {
     "data": {
      "application/vnd.jupyter.widget-view+json": {
       "model_id": "0a7024964f45477fb96746da9c9cf75d",
       "version_major": 2,
       "version_minor": 0
      },
      "text/plain": [
       "Calculating Metrics:   0%|          | 0/1 [00:00<?, ?it/s]"
      ]
     },
     "metadata": {},
     "output_type": "display_data"
    },
    {
     "data": {
      "application/vnd.jupyter.widget-view+json": {
       "model_id": "c9489d31b6414f71b770355a1e683fa2",
       "version_major": 2,
       "version_minor": 0
      },
      "text/plain": [
       "Profiling Dataset:         0%|          | 0/8 [00:00<?, ?it/s]"
      ]
     },
     "metadata": {},
     "output_type": "display_data"
    },
    {
     "data": {
      "application/vnd.jupyter.widget-view+json": {
       "model_id": "2ad365cf01da458a807ca7a131b45aaa",
       "version_major": 2,
       "version_minor": 0
      },
      "text/plain": [
       "Calculating Metrics:   0%|          | 0/6 [00:00<?, ?it/s]"
      ]
     },
     "metadata": {},
     "output_type": "display_data"
    },
    {
     "data": {
      "application/vnd.jupyter.widget-view+json": {
       "model_id": "b10629b2426c42b5b14cb663788a9507",
       "version_major": 2,
       "version_minor": 0
      },
      "text/plain": [
       "Calculating Metrics:   0%|          | 0/6 [00:00<?, ?it/s]"
      ]
     },
     "metadata": {},
     "output_type": "display_data"
    },
    {
     "data": {
      "application/vnd.jupyter.widget-view+json": {
       "model_id": "b470a726e5324f158dcab56fb7b1a764",
       "version_major": 2,
       "version_minor": 0
      },
      "text/plain": [
       "Calculating Metrics:   0%|          | 0/4 [00:00<?, ?it/s]"
      ]
     },
     "metadata": {},
     "output_type": "display_data"
    },
    {
     "data": {
      "application/vnd.jupyter.widget-view+json": {
       "model_id": "c20053b670354389849285b03f91280f",
       "version_major": 2,
       "version_minor": 0
      },
      "text/plain": [
       "Calculating Metrics:   0%|          | 0/4 [00:00<?, ?it/s]"
      ]
     },
     "metadata": {},
     "output_type": "display_data"
    },
    {
     "data": {
      "application/vnd.jupyter.widget-view+json": {
       "model_id": "b8924c64f5e9419e8db6ebd1ff1119f6",
       "version_major": 2,
       "version_minor": 0
      },
      "text/plain": [
       "Calculating Metrics:   0%|          | 0/4 [00:00<?, ?it/s]"
      ]
     },
     "metadata": {},
     "output_type": "display_data"
    },
    {
     "data": {
      "application/vnd.jupyter.widget-view+json": {
       "model_id": "a335aac099394a5c84b84bac50c4f651",
       "version_major": 2,
       "version_minor": 0
      },
      "text/plain": [
       "Calculating Metrics:   0%|          | 0/4 [00:00<?, ?it/s]"
      ]
     },
     "metadata": {},
     "output_type": "display_data"
    },
    {
     "data": {
      "application/vnd.jupyter.widget-view+json": {
       "model_id": "f8b7390a75674824b0dcde0235366e83",
       "version_major": 2,
       "version_minor": 0
      },
      "text/plain": [
       "Calculating Metrics:   0%|          | 0/4 [00:00<?, ?it/s]"
      ]
     },
     "metadata": {},
     "output_type": "display_data"
    },
    {
     "data": {
      "application/vnd.jupyter.widget-view+json": {
       "model_id": "19ade899df9e4130ba3b3fc50cdae774",
       "version_major": 2,
       "version_minor": 0
      },
      "text/plain": [
       "Calculating Metrics:   0%|          | 0/4 [00:00<?, ?it/s]"
      ]
     },
     "metadata": {},
     "output_type": "display_data"
    },
    {
     "data": {
      "application/vnd.jupyter.widget-view+json": {
       "model_id": "065d4899761a4d3086832d75a8183d64",
       "version_major": 2,
       "version_minor": 0
      },
      "text/plain": [
       "Calculating Metrics:   0%|          | 0/4 [00:00<?, ?it/s]"
      ]
     },
     "metadata": {},
     "output_type": "display_data"
    },
    {
     "data": {
      "application/vnd.jupyter.widget-view+json": {
       "model_id": "d339881219954073b9a4ff6da0d8e7b0",
       "version_major": 2,
       "version_minor": 0
      },
      "text/plain": [
       "Calculating Metrics:   0%|          | 0/6 [00:00<?, ?it/s]"
      ]
     },
     "metadata": {},
     "output_type": "display_data"
    },
    {
     "data": {
      "application/vnd.jupyter.widget-view+json": {
       "model_id": "09f95546ca3f4270a551ecb4ce26bec9",
       "version_major": 2,
       "version_minor": 0
      },
      "text/plain": [
       "Calculating Metrics:   0%|          | 0/6 [00:00<?, ?it/s]"
      ]
     },
     "metadata": {},
     "output_type": "display_data"
    },
    {
     "data": {
      "application/vnd.jupyter.widget-view+json": {
       "model_id": "f09f1075feb246c1adf64e5437328b2d",
       "version_major": 2,
       "version_minor": 0
      },
      "text/plain": [
       "Calculating Metrics:   0%|          | 0/4 [00:00<?, ?it/s]"
      ]
     },
     "metadata": {},
     "output_type": "display_data"
    },
    {
     "data": {
      "application/vnd.jupyter.widget-view+json": {
       "model_id": "c269025ddb2f427992bc458a6f8ebfcb",
       "version_major": 2,
       "version_minor": 0
      },
      "text/plain": [
       "Calculating Metrics:   0%|          | 0/4 [00:00<?, ?it/s]"
      ]
     },
     "metadata": {},
     "output_type": "display_data"
    },
    {
     "data": {
      "application/vnd.jupyter.widget-view+json": {
       "model_id": "994629b6a4f2487a863abe93cb06c80b",
       "version_major": 2,
       "version_minor": 0
      },
      "text/plain": [
       "Calculating Metrics:   0%|          | 0/4 [00:00<?, ?it/s]"
      ]
     },
     "metadata": {},
     "output_type": "display_data"
    },
    {
     "data": {
      "application/vnd.jupyter.widget-view+json": {
       "model_id": "f9fe922a275d435e875a4652241d09b3",
       "version_major": 2,
       "version_minor": 0
      },
      "text/plain": [
       "Calculating Metrics:   0%|          | 0/4 [00:00<?, ?it/s]"
      ]
     },
     "metadata": {},
     "output_type": "display_data"
    },
    {
     "data": {
      "application/vnd.jupyter.widget-view+json": {
       "model_id": "dcd8e9b10b3e4003b30dfe41c3433f50",
       "version_major": 2,
       "version_minor": 0
      },
      "text/plain": [
       "Calculating Metrics:   0%|          | 0/4 [00:00<?, ?it/s]"
      ]
     },
     "metadata": {},
     "output_type": "display_data"
    },
    {
     "data": {
      "application/vnd.jupyter.widget-view+json": {
       "model_id": "56607888262b4b98bc66ac038d028ec1",
       "version_major": 2,
       "version_minor": 0
      },
      "text/plain": [
       "Calculating Metrics:   0%|          | 0/4 [00:00<?, ?it/s]"
      ]
     },
     "metadata": {},
     "output_type": "display_data"
    },
    {
     "data": {
      "application/vnd.jupyter.widget-view+json": {
       "model_id": "c6846d4dd1eb4cc58fad1530c3b5fb53",
       "version_major": 2,
       "version_minor": 0
      },
      "text/plain": [
       "Calculating Metrics:   0%|          | 0/4 [00:00<?, ?it/s]"
      ]
     },
     "metadata": {},
     "output_type": "display_data"
    },
    {
     "data": {
      "application/vnd.jupyter.widget-view+json": {
       "model_id": "c92ae95fd281403dbe42a5d827193c02",
       "version_major": 2,
       "version_minor": 0
      },
      "text/plain": [
       "Calculating Metrics:   0%|          | 0/6 [00:00<?, ?it/s]"
      ]
     },
     "metadata": {},
     "output_type": "display_data"
    },
    {
     "data": {
      "application/vnd.jupyter.widget-view+json": {
       "model_id": "9720183b0fea4d579b36dbffeb50bcd3",
       "version_major": 2,
       "version_minor": 0
      },
      "text/plain": [
       "Calculating Metrics:   0%|          | 0/6 [00:00<?, ?it/s]"
      ]
     },
     "metadata": {},
     "output_type": "display_data"
    },
    {
     "data": {
      "application/vnd.jupyter.widget-view+json": {
       "model_id": "4c6df62326c340b387f725543426267d",
       "version_major": 2,
       "version_minor": 0
      },
      "text/plain": [
       "Calculating Metrics:   0%|          | 0/4 [00:00<?, ?it/s]"
      ]
     },
     "metadata": {},
     "output_type": "display_data"
    },
    {
     "data": {
      "application/vnd.jupyter.widget-view+json": {
       "model_id": "d5f52ce8f0e2428a9a396f8b71307f56",
       "version_major": 2,
       "version_minor": 0
      },
      "text/plain": [
       "Calculating Metrics:   0%|          | 0/4 [00:00<?, ?it/s]"
      ]
     },
     "metadata": {},
     "output_type": "display_data"
    },
    {
     "data": {
      "application/vnd.jupyter.widget-view+json": {
       "model_id": "c7a24e06133c46a2b6f54348398af832",
       "version_major": 2,
       "version_minor": 0
      },
      "text/plain": [
       "Calculating Metrics:   0%|          | 0/4 [00:00<?, ?it/s]"
      ]
     },
     "metadata": {},
     "output_type": "display_data"
    },
    {
     "data": {
      "application/vnd.jupyter.widget-view+json": {
       "model_id": "d711d1df04be4c7eae124ff579702e89",
       "version_major": 2,
       "version_minor": 0
      },
      "text/plain": [
       "Calculating Metrics:   0%|          | 0/4 [00:00<?, ?it/s]"
      ]
     },
     "metadata": {},
     "output_type": "display_data"
    },
    {
     "data": {
      "application/vnd.jupyter.widget-view+json": {
       "model_id": "f93cb1ef08724d4fbc95759673cc32cb",
       "version_major": 2,
       "version_minor": 0
      },
      "text/plain": [
       "Calculating Metrics:   0%|          | 0/4 [00:00<?, ?it/s]"
      ]
     },
     "metadata": {},
     "output_type": "display_data"
    },
    {
     "data": {
      "application/vnd.jupyter.widget-view+json": {
       "model_id": "c422c91c2ee04dffb709085c85416db4",
       "version_major": 2,
       "version_minor": 0
      },
      "text/plain": [
       "Calculating Metrics:   0%|          | 0/4 [00:00<?, ?it/s]"
      ]
     },
     "metadata": {},
     "output_type": "display_data"
    },
    {
     "data": {
      "application/vnd.jupyter.widget-view+json": {
       "model_id": "4a877e67d0904b078097d1c6b38f8de9",
       "version_major": 2,
       "version_minor": 0
      },
      "text/plain": [
       "Calculating Metrics:   0%|          | 0/4 [00:00<?, ?it/s]"
      ]
     },
     "metadata": {},
     "output_type": "display_data"
    },
    {
     "data": {
      "application/vnd.jupyter.widget-view+json": {
       "model_id": "067146cc00cf410cb194fa55edfb72b0",
       "version_major": 2,
       "version_minor": 0
      },
      "text/plain": [
       "Calculating Metrics:   0%|          | 0/6 [00:00<?, ?it/s]"
      ]
     },
     "metadata": {},
     "output_type": "display_data"
    },
    {
     "data": {
      "application/vnd.jupyter.widget-view+json": {
       "model_id": "1ce6c457f3394fb4b0f991ca90bc0ba5",
       "version_major": 2,
       "version_minor": 0
      },
      "text/plain": [
       "Calculating Metrics:   0%|          | 0/6 [00:00<?, ?it/s]"
      ]
     },
     "metadata": {},
     "output_type": "display_data"
    },
    {
     "data": {
      "application/vnd.jupyter.widget-view+json": {
       "model_id": "a6bc0550080a4db1b7f1bc1fd554d379",
       "version_major": 2,
       "version_minor": 0
      },
      "text/plain": [
       "Calculating Metrics:   0%|          | 0/4 [00:00<?, ?it/s]"
      ]
     },
     "metadata": {},
     "output_type": "display_data"
    },
    {
     "data": {
      "application/vnd.jupyter.widget-view+json": {
       "model_id": "d1ec544300134dda876aa0460de5a24e",
       "version_major": 2,
       "version_minor": 0
      },
      "text/plain": [
       "Calculating Metrics:   0%|          | 0/4 [00:00<?, ?it/s]"
      ]
     },
     "metadata": {},
     "output_type": "display_data"
    },
    {
     "data": {
      "application/vnd.jupyter.widget-view+json": {
       "model_id": "cab9c718a6914ee2bb02e1e10d162318",
       "version_major": 2,
       "version_minor": 0
      },
      "text/plain": [
       "Calculating Metrics:   0%|          | 0/4 [00:00<?, ?it/s]"
      ]
     },
     "metadata": {},
     "output_type": "display_data"
    },
    {
     "data": {
      "application/vnd.jupyter.widget-view+json": {
       "model_id": "844e1b1c5a004f0ea984420f1364ea21",
       "version_major": 2,
       "version_minor": 0
      },
      "text/plain": [
       "Calculating Metrics:   0%|          | 0/4 [00:00<?, ?it/s]"
      ]
     },
     "metadata": {},
     "output_type": "display_data"
    },
    {
     "data": {
      "application/vnd.jupyter.widget-view+json": {
       "model_id": "460010db2ea84af69af0d96545aef600",
       "version_major": 2,
       "version_minor": 0
      },
      "text/plain": [
       "Calculating Metrics:   0%|          | 0/4 [00:00<?, ?it/s]"
      ]
     },
     "metadata": {},
     "output_type": "display_data"
    },
    {
     "data": {
      "application/vnd.jupyter.widget-view+json": {
       "model_id": "15c73455cfea44f2bab813dd2c86c421",
       "version_major": 2,
       "version_minor": 0
      },
      "text/plain": [
       "Calculating Metrics:   0%|          | 0/4 [00:00<?, ?it/s]"
      ]
     },
     "metadata": {},
     "output_type": "display_data"
    },
    {
     "data": {
      "application/vnd.jupyter.widget-view+json": {
       "model_id": "48053a721d9f44ebb4c6fd2132742973",
       "version_major": 2,
       "version_minor": 0
      },
      "text/plain": [
       "Calculating Metrics:   0%|          | 0/4 [00:00<?, ?it/s]"
      ]
     },
     "metadata": {},
     "output_type": "display_data"
    },
    {
     "data": {
      "application/vnd.jupyter.widget-view+json": {
       "model_id": "fcfb24018f224884965c96ab4923f25e",
       "version_major": 2,
       "version_minor": 0
      },
      "text/plain": [
       "Calculating Metrics:   0%|          | 0/6 [00:00<?, ?it/s]"
      ]
     },
     "metadata": {},
     "output_type": "display_data"
    },
    {
     "data": {
      "application/vnd.jupyter.widget-view+json": {
       "model_id": "99ac0b41c0f34177935e0b9a7deb467a",
       "version_major": 2,
       "version_minor": 0
      },
      "text/plain": [
       "Calculating Metrics:   0%|          | 0/6 [00:00<?, ?it/s]"
      ]
     },
     "metadata": {},
     "output_type": "display_data"
    },
    {
     "data": {
      "application/vnd.jupyter.widget-view+json": {
       "model_id": "80ee5a34dc7a48fb9bcb8b7ee533e0c3",
       "version_major": 2,
       "version_minor": 0
      },
      "text/plain": [
       "Calculating Metrics:   0%|          | 0/4 [00:00<?, ?it/s]"
      ]
     },
     "metadata": {},
     "output_type": "display_data"
    },
    {
     "data": {
      "application/vnd.jupyter.widget-view+json": {
       "model_id": "b0a24f01f8dc4341a073dcd1ae8a629f",
       "version_major": 2,
       "version_minor": 0
      },
      "text/plain": [
       "Calculating Metrics:   0%|          | 0/4 [00:00<?, ?it/s]"
      ]
     },
     "metadata": {},
     "output_type": "display_data"
    },
    {
     "data": {
      "application/vnd.jupyter.widget-view+json": {
       "model_id": "e6f120aad1294337a73a1067a093cc55",
       "version_major": 2,
       "version_minor": 0
      },
      "text/plain": [
       "Calculating Metrics:   0%|          | 0/4 [00:00<?, ?it/s]"
      ]
     },
     "metadata": {},
     "output_type": "display_data"
    },
    {
     "data": {
      "application/vnd.jupyter.widget-view+json": {
       "model_id": "d104a4ee224047f8af652b5a7f8ea553",
       "version_major": 2,
       "version_minor": 0
      },
      "text/plain": [
       "Calculating Metrics:   0%|          | 0/4 [00:00<?, ?it/s]"
      ]
     },
     "metadata": {},
     "output_type": "display_data"
    },
    {
     "data": {
      "application/vnd.jupyter.widget-view+json": {
       "model_id": "f01b055ba6d949f1b41cfff1317f50a1",
       "version_major": 2,
       "version_minor": 0
      },
      "text/plain": [
       "Calculating Metrics:   0%|          | 0/4 [00:00<?, ?it/s]"
      ]
     },
     "metadata": {},
     "output_type": "display_data"
    },
    {
     "data": {
      "application/vnd.jupyter.widget-view+json": {
       "model_id": "2a743fac87104aa8b3c8f5a35fcc69c2",
       "version_major": 2,
       "version_minor": 0
      },
      "text/plain": [
       "Calculating Metrics:   0%|          | 0/4 [00:00<?, ?it/s]"
      ]
     },
     "metadata": {},
     "output_type": "display_data"
    },
    {
     "data": {
      "application/vnd.jupyter.widget-view+json": {
       "model_id": "7ebafddb57614acf88158b01f89b482c",
       "version_major": 2,
       "version_minor": 0
      },
      "text/plain": [
       "Calculating Metrics:   0%|          | 0/4 [00:00<?, ?it/s]"
      ]
     },
     "metadata": {},
     "output_type": "display_data"
    },
    {
     "data": {
      "application/vnd.jupyter.widget-view+json": {
       "model_id": "fc76c9968d144543a6985ed57e2d89fb",
       "version_major": 2,
       "version_minor": 0
      },
      "text/plain": [
       "Calculating Metrics:   0%|          | 0/6 [00:00<?, ?it/s]"
      ]
     },
     "metadata": {},
     "output_type": "display_data"
    },
    {
     "data": {
      "application/vnd.jupyter.widget-view+json": {
       "model_id": "867bfd1314394488933477c06430443b",
       "version_major": 2,
       "version_minor": 0
      },
      "text/plain": [
       "Calculating Metrics:   0%|          | 0/6 [00:00<?, ?it/s]"
      ]
     },
     "metadata": {},
     "output_type": "display_data"
    },
    {
     "data": {
      "application/vnd.jupyter.widget-view+json": {
       "model_id": "4cdd7032d9af4850be839ea37114e5d4",
       "version_major": 2,
       "version_minor": 0
      },
      "text/plain": [
       "Calculating Metrics:   0%|          | 0/4 [00:00<?, ?it/s]"
      ]
     },
     "metadata": {},
     "output_type": "display_data"
    },
    {
     "data": {
      "application/vnd.jupyter.widget-view+json": {
       "model_id": "da6fa3d098f141f595a7449c89871e74",
       "version_major": 2,
       "version_minor": 0
      },
      "text/plain": [
       "Calculating Metrics:   0%|          | 0/4 [00:00<?, ?it/s]"
      ]
     },
     "metadata": {},
     "output_type": "display_data"
    },
    {
     "data": {
      "application/vnd.jupyter.widget-view+json": {
       "model_id": "83123c716bca4eb78d6e8d4485a34f49",
       "version_major": 2,
       "version_minor": 0
      },
      "text/plain": [
       "Calculating Metrics:   0%|          | 0/4 [00:00<?, ?it/s]"
      ]
     },
     "metadata": {},
     "output_type": "display_data"
    },
    {
     "data": {
      "application/vnd.jupyter.widget-view+json": {
       "model_id": "0704cfe89e8442aeb79f7f5082ecbc53",
       "version_major": 2,
       "version_minor": 0
      },
      "text/plain": [
       "Calculating Metrics:   0%|          | 0/4 [00:00<?, ?it/s]"
      ]
     },
     "metadata": {},
     "output_type": "display_data"
    },
    {
     "data": {
      "application/vnd.jupyter.widget-view+json": {
       "model_id": "e5e40cea336b4ef1b069c1c8ba71d4fa",
       "version_major": 2,
       "version_minor": 0
      },
      "text/plain": [
       "Calculating Metrics:   0%|          | 0/4 [00:00<?, ?it/s]"
      ]
     },
     "metadata": {},
     "output_type": "display_data"
    },
    {
     "data": {
      "application/vnd.jupyter.widget-view+json": {
       "model_id": "7d42900f991d4eb6a50f65590f300a9f",
       "version_major": 2,
       "version_minor": 0
      },
      "text/plain": [
       "Calculating Metrics:   0%|          | 0/4 [00:00<?, ?it/s]"
      ]
     },
     "metadata": {},
     "output_type": "display_data"
    },
    {
     "data": {
      "application/vnd.jupyter.widget-view+json": {
       "model_id": "f8d5eee19d6149ca93ee0ff3b79e36ad",
       "version_major": 2,
       "version_minor": 0
      },
      "text/plain": [
       "Calculating Metrics:   0%|          | 0/4 [00:00<?, ?it/s]"
      ]
     },
     "metadata": {},
     "output_type": "display_data"
    },
    {
     "data": {
      "application/vnd.jupyter.widget-view+json": {
       "model_id": "2e3faee18f4e4862bf42c3766f986ec6",
       "version_major": 2,
       "version_minor": 0
      },
      "text/plain": [
       "Calculating Metrics:   0%|          | 0/6 [00:00<?, ?it/s]"
      ]
     },
     "metadata": {},
     "output_type": "display_data"
    },
    {
     "data": {
      "application/vnd.jupyter.widget-view+json": {
       "model_id": "51c00b36cf6545bb95a3b8eb4dc4e1f0",
       "version_major": 2,
       "version_minor": 0
      },
      "text/plain": [
       "Calculating Metrics:   0%|          | 0/6 [00:00<?, ?it/s]"
      ]
     },
     "metadata": {},
     "output_type": "display_data"
    },
    {
     "data": {
      "application/vnd.jupyter.widget-view+json": {
       "model_id": "904779dadb6b48cc895874c577d8e210",
       "version_major": 2,
       "version_minor": 0
      },
      "text/plain": [
       "Calculating Metrics:   0%|          | 0/4 [00:00<?, ?it/s]"
      ]
     },
     "metadata": {},
     "output_type": "display_data"
    },
    {
     "data": {
      "application/vnd.jupyter.widget-view+json": {
       "model_id": "f32af38ebab941b4ad4aaf762b7f3db6",
       "version_major": 2,
       "version_minor": 0
      },
      "text/plain": [
       "Calculating Metrics:   0%|          | 0/4 [00:00<?, ?it/s]"
      ]
     },
     "metadata": {},
     "output_type": "display_data"
    },
    {
     "data": {
      "application/vnd.jupyter.widget-view+json": {
       "model_id": "1cfaa793c3b24c8eb82025d5dd6e117c",
       "version_major": 2,
       "version_minor": 0
      },
      "text/plain": [
       "Calculating Metrics:   0%|          | 0/4 [00:00<?, ?it/s]"
      ]
     },
     "metadata": {},
     "output_type": "display_data"
    },
    {
     "data": {
      "application/vnd.jupyter.widget-view+json": {
       "model_id": "04ecb5e65a30410187fd37af6b399010",
       "version_major": 2,
       "version_minor": 0
      },
      "text/plain": [
       "Calculating Metrics:   0%|          | 0/4 [00:00<?, ?it/s]"
      ]
     },
     "metadata": {},
     "output_type": "display_data"
    },
    {
     "data": {
      "application/vnd.jupyter.widget-view+json": {
       "model_id": "3c4cdc2bc8094a96827fd8bf09f4288a",
       "version_major": 2,
       "version_minor": 0
      },
      "text/plain": [
       "Calculating Metrics:   0%|          | 0/4 [00:00<?, ?it/s]"
      ]
     },
     "metadata": {},
     "output_type": "display_data"
    },
    {
     "data": {
      "application/vnd.jupyter.widget-view+json": {
       "model_id": "042755b8ca8048af86a14d671a6d4053",
       "version_major": 2,
       "version_minor": 0
      },
      "text/plain": [
       "Calculating Metrics:   0%|          | 0/4 [00:00<?, ?it/s]"
      ]
     },
     "metadata": {},
     "output_type": "display_data"
    },
    {
     "data": {
      "application/vnd.jupyter.widget-view+json": {
       "model_id": "e7ecf3ca575848f292312c15028740e4",
       "version_major": 2,
       "version_minor": 0
      },
      "text/plain": [
       "Calculating Metrics:   0%|          | 0/4 [00:00<?, ?it/s]"
      ]
     },
     "metadata": {},
     "output_type": "display_data"
    },
    {
     "data": {
      "application/vnd.jupyter.widget-view+json": {
       "model_id": "a4a67d672be1485dbdf967112819f59f",
       "version_major": 2,
       "version_minor": 0
      },
      "text/plain": [
       "Calculating Metrics:   0%|          | 0/6 [00:00<?, ?it/s]"
      ]
     },
     "metadata": {},
     "output_type": "display_data"
    },
    {
     "data": {
      "application/vnd.jupyter.widget-view+json": {
       "model_id": "dad46da5adba40448fb9573f1081b299",
       "version_major": 2,
       "version_minor": 0
      },
      "text/plain": [
       "Calculating Metrics:   0%|          | 0/6 [00:00<?, ?it/s]"
      ]
     },
     "metadata": {},
     "output_type": "display_data"
    },
    {
     "data": {
      "application/vnd.jupyter.widget-view+json": {
       "model_id": "df813f3a3cd44a11aacb4d74fad7395b",
       "version_major": 2,
       "version_minor": 0
      },
      "text/plain": [
       "Calculating Metrics:   0%|          | 0/4 [00:00<?, ?it/s]"
      ]
     },
     "metadata": {},
     "output_type": "display_data"
    },
    {
     "data": {
      "application/vnd.jupyter.widget-view+json": {
       "model_id": "592ad90c271c4c499a97b0e5d18387a8",
       "version_major": 2,
       "version_minor": 0
      },
      "text/plain": [
       "Calculating Metrics:   0%|          | 0/4 [00:00<?, ?it/s]"
      ]
     },
     "metadata": {},
     "output_type": "display_data"
    },
    {
     "data": {
      "application/vnd.jupyter.widget-view+json": {
       "model_id": "584cdff40bd54d3b820abf1d62992f9f",
       "version_major": 2,
       "version_minor": 0
      },
      "text/plain": [
       "Calculating Metrics:   0%|          | 0/4 [00:00<?, ?it/s]"
      ]
     },
     "metadata": {},
     "output_type": "display_data"
    },
    {
     "data": {
      "application/vnd.jupyter.widget-view+json": {
       "model_id": "18dc0788566b44aab0b633a10e4271cf",
       "version_major": 2,
       "version_minor": 0
      },
      "text/plain": [
       "Calculating Metrics:   0%|          | 0/4 [00:00<?, ?it/s]"
      ]
     },
     "metadata": {},
     "output_type": "display_data"
    },
    {
     "data": {
      "application/vnd.jupyter.widget-view+json": {
       "model_id": "658b4ef13c9146bc96f4f33a629dd2bd",
       "version_major": 2,
       "version_minor": 0
      },
      "text/plain": [
       "Calculating Metrics:   0%|          | 0/4 [00:00<?, ?it/s]"
      ]
     },
     "metadata": {},
     "output_type": "display_data"
    },
    {
     "data": {
      "application/vnd.jupyter.widget-view+json": {
       "model_id": "0e1fec63bec340b884ba9c4436f74488",
       "version_major": 2,
       "version_minor": 0
      },
      "text/plain": [
       "Calculating Metrics:   0%|          | 0/4 [00:00<?, ?it/s]"
      ]
     },
     "metadata": {},
     "output_type": "display_data"
    },
    {
     "data": {
      "application/vnd.jupyter.widget-view+json": {
       "model_id": "5eb32c7a735f476081b82162fbf3c355",
       "version_major": 2,
       "version_minor": 0
      },
      "text/plain": [
       "Calculating Metrics:   0%|          | 0/4 [00:00<?, ?it/s]"
      ]
     },
     "metadata": {},
     "output_type": "display_data"
    },
    {
     "data": {
      "application/vnd.jupyter.widget-view+json": {
       "model_id": "9eaa7f954cdf4ea5b27bf48d9222fc63",
       "version_major": 2,
       "version_minor": 0
      },
      "text/plain": [
       "Calculating Metrics:   0%|          | 0/2 [00:00<?, ?it/s]"
      ]
     },
     "metadata": {},
     "output_type": "display_data"
    },
    {
     "data": {
      "application/vnd.jupyter.widget-view+json": {
       "model_id": "614d8ad23c7a4f7a81b78988b7c594d9",
       "version_major": 2,
       "version_minor": 0
      },
      "text/plain": [
       "Calculating Metrics:   0%|          | 0/1 [00:00<?, ?it/s]"
      ]
     },
     "metadata": {},
     "output_type": "display_data"
    },
    {
     "data": {
      "application/vnd.jupyter.widget-view+json": {
       "model_id": "649494325eee4c239bdfdc72a0c907e8",
       "version_major": 2,
       "version_minor": 0
      },
      "text/plain": [
       "Profiling Dataset:         0%|          | 0/0 [00:00<?, ?it/s]"
      ]
     },
     "metadata": {},
     "output_type": "display_data"
    },
    {
     "data": {
      "application/vnd.jupyter.widget-view+json": {
       "model_id": "6b571abf1b9b47308cfc91e2d781f506",
       "version_major": 2,
       "version_minor": 0
      },
      "text/plain": [
       "Calculating Metrics:   0%|          | 0/2 [00:00<?, ?it/s]"
      ]
     },
     "metadata": {},
     "output_type": "display_data"
    },
    {
     "data": {
      "application/vnd.jupyter.widget-view+json": {
       "model_id": "c00aa2c038fe4fa09a42a288a0a7cd84",
       "version_major": 2,
       "version_minor": 0
      },
      "text/plain": [
       "Calculating Metrics:   0%|          | 0/1 [00:00<?, ?it/s]"
      ]
     },
     "metadata": {},
     "output_type": "display_data"
    },
    {
     "data": {
      "application/vnd.jupyter.widget-view+json": {
       "model_id": "14fbe82927f74d769f3cdfbc32b854b1",
       "version_major": 2,
       "version_minor": 0
      },
      "text/plain": [
       "Profiling Dataset:         0%|          | 0/0 [00:00<?, ?it/s]"
      ]
     },
     "metadata": {},
     "output_type": "display_data"
    },
    {
     "data": {
      "application/vnd.jupyter.widget-view+json": {
       "model_id": "0c41b5bd4926493d9a8e9bba65e3bb49",
       "version_major": 2,
       "version_minor": 0
      },
      "text/plain": [
       "Calculating Metrics:   0%|          | 0/2 [00:00<?, ?it/s]"
      ]
     },
     "metadata": {},
     "output_type": "display_data"
    },
    {
     "data": {
      "application/vnd.jupyter.widget-view+json": {
       "model_id": "2b08826cd559498689e85e078ba2c554",
       "version_major": 2,
       "version_minor": 0
      },
      "text/plain": [
       "Calculating Metrics:   0%|          | 0/1 [00:00<?, ?it/s]"
      ]
     },
     "metadata": {},
     "output_type": "display_data"
    },
    {
     "data": {
      "application/vnd.jupyter.widget-view+json": {
       "model_id": "ceb02f608a8c4399a4725a635eda347f",
       "version_major": 2,
       "version_minor": 0
      },
      "text/plain": [
       "Calculating Metrics:   0%|          | 0/11 [00:00<?, ?it/s]"
      ]
     },
     "metadata": {},
     "output_type": "display_data"
    },
    {
     "data": {
      "application/vnd.jupyter.widget-view+json": {
       "model_id": "e31d7fc55484469fbfabaca9a58f5a85",
       "version_major": 2,
       "version_minor": 0
      },
      "text/plain": [
       "Profiling Dataset:         0%|          | 0/6 [00:00<?, ?it/s]"
      ]
     },
     "metadata": {},
     "output_type": "display_data"
    },
    {
     "data": {
      "application/vnd.jupyter.widget-view+json": {
       "model_id": "623931d6b84c4689bcc84f3557c0c8f3",
       "version_major": 2,
       "version_minor": 0
      },
      "text/plain": [
       "Calculating Metrics:   0%|          | 0/4 [00:00<?, ?it/s]"
      ]
     },
     "metadata": {},
     "output_type": "display_data"
    },
    {
     "data": {
      "application/vnd.jupyter.widget-view+json": {
       "model_id": "391648390948465081a4a1fbd5297ef8",
       "version_major": 2,
       "version_minor": 0
      },
      "text/plain": [
       "Calculating Metrics:   0%|          | 0/4 [00:00<?, ?it/s]"
      ]
     },
     "metadata": {},
     "output_type": "display_data"
    },
    {
     "data": {
      "application/vnd.jupyter.widget-view+json": {
       "model_id": "f6a6d55476874e13a3c2550063d46b87",
       "version_major": 2,
       "version_minor": 0
      },
      "text/plain": [
       "Calculating Metrics:   0%|          | 0/4 [00:00<?, ?it/s]"
      ]
     },
     "metadata": {},
     "output_type": "display_data"
    },
    {
     "data": {
      "application/vnd.jupyter.widget-view+json": {
       "model_id": "f681da8b7ed9444d9781879f342d04e4",
       "version_major": 2,
       "version_minor": 0
      },
      "text/plain": [
       "Calculating Metrics:   0%|          | 0/7 [00:00<?, ?it/s]"
      ]
     },
     "metadata": {},
     "output_type": "display_data"
    },
    {
     "data": {
      "application/vnd.jupyter.widget-view+json": {
       "model_id": "e160c1b535b9476389c4e42fb537ac7a",
       "version_major": 2,
       "version_minor": 0
      },
      "text/plain": [
       "Calculating Metrics:   0%|          | 0/4 [00:00<?, ?it/s]"
      ]
     },
     "metadata": {},
     "output_type": "display_data"
    },
    {
     "data": {
      "application/vnd.jupyter.widget-view+json": {
       "model_id": "94cbe6b9bd84428daf3b99d021780457",
       "version_major": 2,
       "version_minor": 0
      },
      "text/plain": [
       "Calculating Metrics:   0%|          | 0/4 [00:00<?, ?it/s]"
      ]
     },
     "metadata": {},
     "output_type": "display_data"
    },
    {
     "data": {
      "application/vnd.jupyter.widget-view+json": {
       "model_id": "a22e37d08073419793f2b4fabc0c8f66",
       "version_major": 2,
       "version_minor": 0
      },
      "text/plain": [
       "Calculating Metrics:   0%|          | 0/4 [00:00<?, ?it/s]"
      ]
     },
     "metadata": {},
     "output_type": "display_data"
    },
    {
     "data": {
      "application/vnd.jupyter.widget-view+json": {
       "model_id": "79d6ca3af43845efba8ed689120eff8b",
       "version_major": 2,
       "version_minor": 0
      },
      "text/plain": [
       "Calculating Metrics:   0%|          | 0/7 [00:00<?, ?it/s]"
      ]
     },
     "metadata": {},
     "output_type": "display_data"
    },
    {
     "data": {
      "application/vnd.jupyter.widget-view+json": {
       "model_id": "bb6b9c02d9fa4c14ae6a1c5719a622d4",
       "version_major": 2,
       "version_minor": 0
      },
      "text/plain": [
       "Calculating Metrics:   0%|          | 0/4 [00:00<?, ?it/s]"
      ]
     },
     "metadata": {},
     "output_type": "display_data"
    },
    {
     "data": {
      "application/vnd.jupyter.widget-view+json": {
       "model_id": "70e0dd2b192b423981ebb381c1ab4729",
       "version_major": 2,
       "version_minor": 0
      },
      "text/plain": [
       "Calculating Metrics:   0%|          | 0/4 [00:00<?, ?it/s]"
      ]
     },
     "metadata": {},
     "output_type": "display_data"
    },
    {
     "data": {
      "application/vnd.jupyter.widget-view+json": {
       "model_id": "da3b7572068e4a13ba49c81eec0f712f",
       "version_major": 2,
       "version_minor": 0
      },
      "text/plain": [
       "Calculating Metrics:   0%|          | 0/4 [00:00<?, ?it/s]"
      ]
     },
     "metadata": {},
     "output_type": "display_data"
    },
    {
     "data": {
      "application/vnd.jupyter.widget-view+json": {
       "model_id": "e57749eb6b7e478c9b1e75fc06148951",
       "version_major": 2,
       "version_minor": 0
      },
      "text/plain": [
       "Calculating Metrics:   0%|          | 0/7 [00:00<?, ?it/s]"
      ]
     },
     "metadata": {},
     "output_type": "display_data"
    },
    {
     "data": {
      "application/vnd.jupyter.widget-view+json": {
       "model_id": "fda69ed5a5a04cdfb35e5a46d041ab1f",
       "version_major": 2,
       "version_minor": 0
      },
      "text/plain": [
       "Calculating Metrics:   0%|          | 0/4 [00:00<?, ?it/s]"
      ]
     },
     "metadata": {},
     "output_type": "display_data"
    },
    {
     "data": {
      "application/vnd.jupyter.widget-view+json": {
       "model_id": "0dd27ff4404642c786478c6d4db432f0",
       "version_major": 2,
       "version_minor": 0
      },
      "text/plain": [
       "Calculating Metrics:   0%|          | 0/4 [00:00<?, ?it/s]"
      ]
     },
     "metadata": {},
     "output_type": "display_data"
    },
    {
     "data": {
      "application/vnd.jupyter.widget-view+json": {
       "model_id": "1db63c46a8864acaa8e61c5629ecc62d",
       "version_major": 2,
       "version_minor": 0
      },
      "text/plain": [
       "Calculating Metrics:   0%|          | 0/4 [00:00<?, ?it/s]"
      ]
     },
     "metadata": {},
     "output_type": "display_data"
    },
    {
     "data": {
      "application/vnd.jupyter.widget-view+json": {
       "model_id": "89ade87a9d6d468daae0ba09f6a7decf",
       "version_major": 2,
       "version_minor": 0
      },
      "text/plain": [
       "Calculating Metrics:   0%|          | 0/7 [00:00<?, ?it/s]"
      ]
     },
     "metadata": {},
     "output_type": "display_data"
    },
    {
     "data": {
      "application/vnd.jupyter.widget-view+json": {
       "model_id": "778074fdcb4f4bbf9c10c505ccf1f7f7",
       "version_major": 2,
       "version_minor": 0
      },
      "text/plain": [
       "Calculating Metrics:   0%|          | 0/4 [00:00<?, ?it/s]"
      ]
     },
     "metadata": {},
     "output_type": "display_data"
    },
    {
     "data": {
      "application/vnd.jupyter.widget-view+json": {
       "model_id": "89f87e0d87e04f6b86069ca997b24301",
       "version_major": 2,
       "version_minor": 0
      },
      "text/plain": [
       "Calculating Metrics:   0%|          | 0/4 [00:00<?, ?it/s]"
      ]
     },
     "metadata": {},
     "output_type": "display_data"
    },
    {
     "data": {
      "application/vnd.jupyter.widget-view+json": {
       "model_id": "039310cbb5b5488dbbdef12f3c864f45",
       "version_major": 2,
       "version_minor": 0
      },
      "text/plain": [
       "Calculating Metrics:   0%|          | 0/4 [00:00<?, ?it/s]"
      ]
     },
     "metadata": {},
     "output_type": "display_data"
    },
    {
     "data": {
      "application/vnd.jupyter.widget-view+json": {
       "model_id": "1f3ee0da401e43859d198722cfdf3700",
       "version_major": 2,
       "version_minor": 0
      },
      "text/plain": [
       "Calculating Metrics:   0%|          | 0/7 [00:00<?, ?it/s]"
      ]
     },
     "metadata": {},
     "output_type": "display_data"
    },
    {
     "data": {
      "application/vnd.jupyter.widget-view+json": {
       "model_id": "5aaaf594422049d9913e23148607c09d",
       "version_major": 2,
       "version_minor": 0
      },
      "text/plain": [
       "Calculating Metrics:   0%|          | 0/4 [00:00<?, ?it/s]"
      ]
     },
     "metadata": {},
     "output_type": "display_data"
    },
    {
     "data": {
      "application/vnd.jupyter.widget-view+json": {
       "model_id": "a7f15963175943e8ba9aae17d84095ef",
       "version_major": 2,
       "version_minor": 0
      },
      "text/plain": [
       "Calculating Metrics:   0%|          | 0/4 [00:00<?, ?it/s]"
      ]
     },
     "metadata": {},
     "output_type": "display_data"
    },
    {
     "data": {
      "application/vnd.jupyter.widget-view+json": {
       "model_id": "87aae2d378bd4780afbff9e142290103",
       "version_major": 2,
       "version_minor": 0
      },
      "text/plain": [
       "Calculating Metrics:   0%|          | 0/4 [00:00<?, ?it/s]"
      ]
     },
     "metadata": {},
     "output_type": "display_data"
    },
    {
     "data": {
      "application/vnd.jupyter.widget-view+json": {
       "model_id": "8ef085691aa949839bc0802793fd332f",
       "version_major": 2,
       "version_minor": 0
      },
      "text/plain": [
       "Calculating Metrics:   0%|          | 0/7 [00:00<?, ?it/s]"
      ]
     },
     "metadata": {},
     "output_type": "display_data"
    }
   ],
   "source": [
    "result = context.assistants.onboarding.run(\n",
    "    batch_request=batch_request,\n",
    "    #exclude_column_names=exclude_column_names,\n",
    ")\n",
    "validator.expectation_suite = result.get_expectation_suite(\n",
    "    expectation_suite_name=expectation_suite_name\n",
    ")"
   ]
  },
  {
   "attachments": {},
   "cell_type": "markdown",
   "id": "9a7d920d",
   "metadata": {},
   "source": [
    "# Save & review your new Expectation Suite\n",
    "\n",
    "Let's save the draft expectation suite as a JSON file in the\n",
    "`great_expectations/expectations` directory of your project and rebuild the Data\n",
    " Docs site to make it easy to review your new suite."
   ]
  },
  {
   "cell_type": "code",
   "execution_count": 4,
   "id": "c1c088cc",
   "metadata": {},
   "outputs": [
    {
     "name": "stdout",
     "output_type": "stream",
     "text": [
      "2023-07-08T19:49:46+0200 - INFO - \t84 expectation(s) included in expectation_suite.\n",
      "{\n",
      "  \"expectations\": [\n",
      "    {\n",
      "      \"kwargs\": {\n",
      "        \"max_value\": 902,\n",
      "        \"min_value\": 902\n",
      "      },\n",
      "      \"expectation_type\": \"expect_table_row_count_to_be_between\",\n",
      "      \"meta\": {\n",
      "        \"profiler_details\": {\n",
      "          \"metric_configuration\": {\n",
      "            \"metric_name\": \"table.row_count\",\n",
      "            \"domain_kwargs\": {},\n",
      "            \"metric_value_kwargs\": null\n",
      "          },\n",
      "          \"num_batches\": 1\n",
      "        }\n",
      "      }\n",
      "    },\n",
      "    {\n",
      "      \"kwargs\": {\n",
      "        \"column_set\": [\n",
      "          \"capacity_free\",\n",
      "          \"wspeed\",\n",
      "          \"vehicles_available\",\n",
      "          \"capacity\",\n",
      "          \"hour\",\n",
      "          \"hum\",\n",
      "          \"percp\",\n",
      "          \"temp\"\n",
      "        ],\n",
      "        \"exact_match\": null\n",
      "      },\n",
      "      \"expectation_type\": \"expect_table_columns_to_match_set\",\n",
      "      \"meta\": {\n",
      "        \"profiler_details\": {\n",
      "          \"success_ratio\": 1.0\n",
      "        }\n",
      "      }\n",
      "    },\n",
      "    {\n",
      "      \"kwargs\": {\n",
      "        \"column\": \"hour\"\n",
      "      },\n",
      "      \"expectation_type\": \"expect_column_values_to_not_be_null\",\n",
      "      \"meta\": {\n",
      "        \"profiler_details\": {\n",
      "          \"metric_configuration\": {\n",
      "            \"metric_name\": \"column_values.nonnull.unexpected_count\",\n",
      "            \"domain_kwargs\": {\n",
      "              \"column\": \"hour\"\n",
      "            },\n",
      "            \"metric_value_kwargs\": null\n",
      "          },\n",
      "          \"num_batches\": 1\n",
      "        }\n",
      "      }\n",
      "    },\n",
      "    {\n",
      "      \"kwargs\": {\n",
      "        \"column\": \"vehicles_available\"\n",
      "      },\n",
      "      \"expectation_type\": \"expect_column_values_to_not_be_null\",\n",
      "      \"meta\": {\n",
      "        \"profiler_details\": {\n",
      "          \"metric_configuration\": {\n",
      "            \"metric_name\": \"column_values.nonnull.unexpected_count\",\n",
      "            \"domain_kwargs\": {\n",
      "              \"column\": \"vehicles_available\"\n",
      "            },\n",
      "            \"metric_value_kwargs\": null\n",
      "          },\n",
      "          \"num_batches\": 1\n",
      "        }\n",
      "      }\n",
      "    },\n",
      "    {\n",
      "      \"kwargs\": {\n",
      "        \"column\": \"temp\"\n",
      "      },\n",
      "      \"expectation_type\": \"expect_column_values_to_not_be_null\",\n",
      "      \"meta\": {\n",
      "        \"profiler_details\": {\n",
      "          \"metric_configuration\": {\n",
      "            \"metric_name\": \"column_values.nonnull.unexpected_count\",\n",
      "            \"domain_kwargs\": {\n",
      "              \"column\": \"temp\"\n",
      "            },\n",
      "            \"metric_value_kwargs\": null\n",
      "          },\n",
      "          \"num_batches\": 1\n",
      "        }\n",
      "      }\n",
      "    },\n",
      "    {\n",
      "      \"kwargs\": {\n",
      "        \"column\": \"hum\"\n",
      "      },\n",
      "      \"expectation_type\": \"expect_column_values_to_not_be_null\",\n",
      "      \"meta\": {\n",
      "        \"profiler_details\": {\n",
      "          \"metric_configuration\": {\n",
      "            \"metric_name\": \"column_values.nonnull.unexpected_count\",\n",
      "            \"domain_kwargs\": {\n",
      "              \"column\": \"hum\"\n",
      "            },\n",
      "            \"metric_value_kwargs\": null\n",
      "          },\n",
      "          \"num_batches\": 1\n",
      "        }\n",
      "      }\n",
      "    },\n",
      "    {\n",
      "      \"kwargs\": {\n",
      "        \"column\": \"percp\"\n",
      "      },\n",
      "      \"expectation_type\": \"expect_column_values_to_not_be_null\",\n",
      "      \"meta\": {\n",
      "        \"profiler_details\": {\n",
      "          \"metric_configuration\": {\n",
      "            \"metric_name\": \"column_values.nonnull.unexpected_count\",\n",
      "            \"domain_kwargs\": {\n",
      "              \"column\": \"percp\"\n",
      "            },\n",
      "            \"metric_value_kwargs\": null\n",
      "          },\n",
      "          \"num_batches\": 1\n",
      "        }\n",
      "      }\n",
      "    },\n",
      "    {\n",
      "      \"kwargs\": {\n",
      "        \"column\": \"wspeed\"\n",
      "      },\n",
      "      \"expectation_type\": \"expect_column_values_to_not_be_null\",\n",
      "      \"meta\": {\n",
      "        \"profiler_details\": {\n",
      "          \"metric_configuration\": {\n",
      "            \"metric_name\": \"column_values.nonnull.unexpected_count\",\n",
      "            \"domain_kwargs\": {\n",
      "              \"column\": \"wspeed\"\n",
      "            },\n",
      "            \"metric_value_kwargs\": null\n",
      "          },\n",
      "          \"num_batches\": 1\n",
      "        }\n",
      "      }\n",
      "    },\n",
      "    {\n",
      "      \"kwargs\": {\n",
      "        \"column\": \"capacity\"\n",
      "      },\n",
      "      \"expectation_type\": \"expect_column_values_to_not_be_null\",\n",
      "      \"meta\": {\n",
      "        \"profiler_details\": {\n",
      "          \"metric_configuration\": {\n",
      "            \"metric_name\": \"column_values.nonnull.unexpected_count\",\n",
      "            \"domain_kwargs\": {\n",
      "              \"column\": \"capacity\"\n",
      "            },\n",
      "            \"metric_value_kwargs\": null\n",
      "          },\n",
      "          \"num_batches\": 1\n",
      "        }\n",
      "      }\n",
      "    },\n",
      "    {\n",
      "      \"kwargs\": {\n",
      "        \"column\": \"capacity_free\"\n",
      "      },\n",
      "      \"expectation_type\": \"expect_column_values_to_not_be_null\",\n",
      "      \"meta\": {\n",
      "        \"profiler_details\": {\n",
      "          \"metric_configuration\": {\n",
      "            \"metric_name\": \"column_values.nonnull.unexpected_count\",\n",
      "            \"domain_kwargs\": {\n",
      "              \"column\": \"capacity_free\"\n",
      "            },\n",
      "            \"metric_value_kwargs\": null\n",
      "          },\n",
      "          \"num_batches\": 1\n",
      "        }\n",
      "      }\n",
      "    },\n",
      "    {\n",
      "      \"kwargs\": {\n",
      "        \"max_value\": 0,\n",
      "        \"column\": \"hour\",\n",
      "        \"min_value\": 0,\n",
      "        \"strict_max\": false,\n",
      "        \"strict_min\": false\n",
      "      },\n",
      "      \"expectation_type\": \"expect_column_min_to_be_between\",\n",
      "      \"meta\": {\n",
      "        \"profiler_details\": {\n",
      "          \"metric_configuration\": {\n",
      "            \"metric_name\": \"column.min\",\n",
      "            \"domain_kwargs\": {\n",
      "              \"column\": \"hour\"\n",
      "            },\n",
      "            \"metric_value_kwargs\": null\n",
      "          },\n",
      "          \"num_batches\": 1\n",
      "        }\n",
      "      }\n",
      "    },\n",
      "    {\n",
      "      \"kwargs\": {\n",
      "        \"max_value\": 23,\n",
      "        \"column\": \"hour\",\n",
      "        \"min_value\": 23,\n",
      "        \"strict_max\": false,\n",
      "        \"strict_min\": false\n",
      "      },\n",
      "      \"expectation_type\": \"expect_column_max_to_be_between\",\n",
      "      \"meta\": {\n",
      "        \"profiler_details\": {\n",
      "          \"metric_configuration\": {\n",
      "            \"metric_name\": \"column.max\",\n",
      "            \"domain_kwargs\": {\n",
      "              \"column\": \"hour\"\n",
      "            },\n",
      "            \"metric_value_kwargs\": null\n",
      "          },\n",
      "          \"num_batches\": 1\n",
      "        }\n",
      "      }\n",
      "    },\n",
      "    {\n",
      "      \"kwargs\": {\n",
      "        \"max_value\": 23,\n",
      "        \"column\": \"hour\",\n",
      "        \"min_value\": 0,\n",
      "        \"strict_max\": false,\n",
      "        \"mostly\": 1.0,\n",
      "        \"strict_min\": false\n",
      "      },\n",
      "      \"expectation_type\": \"expect_column_values_to_be_between\",\n",
      "      \"meta\": {\n",
      "        \"profiler_details\": {\n",
      "          \"column_min_values_range_estimator\": {\n",
      "            \"metric_configuration\": {\n",
      "              \"metric_name\": \"column.min\",\n",
      "              \"domain_kwargs\": {\n",
      "                \"column\": \"hour\"\n",
      "              },\n",
      "              \"metric_value_kwargs\": null\n",
      "            },\n",
      "            \"num_batches\": 1\n",
      "          },\n",
      "          \"column_max_values_range_estimator\": {\n",
      "            \"metric_configuration\": {\n",
      "              \"metric_name\": \"column.max\",\n",
      "              \"domain_kwargs\": {\n",
      "                \"column\": \"hour\"\n",
      "              },\n",
      "              \"metric_value_kwargs\": null\n",
      "            },\n",
      "            \"num_batches\": 1\n",
      "          }\n",
      "        }\n",
      "      }\n",
      "    },\n",
      "    {\n",
      "      \"kwargs\": {\n",
      "        \"column\": \"hour\",\n",
      "        \"allow_relative_error\": false,\n",
      "        \"quantile_ranges\": {\n",
      "          \"quantiles\": [\n",
      "            0.25,\n",
      "            0.5,\n",
      "            0.75\n",
      "          ],\n",
      "          \"value_ranges\": [\n",
      "            [\n",
      "              6,\n",
      "              6\n",
      "            ],\n",
      "            [\n",
      "              12,\n",
      "              12\n",
      "            ],\n",
      "            [\n",
      "              18,\n",
      "              18\n",
      "            ]\n",
      "          ]\n",
      "        }\n",
      "      },\n",
      "      \"expectation_type\": \"expect_column_quantile_values_to_be_between\",\n",
      "      \"meta\": {\n",
      "        \"profiler_details\": {\n",
      "          \"metric_configuration\": {\n",
      "            \"metric_name\": \"column.quantile_values\",\n",
      "            \"domain_kwargs\": {\n",
      "              \"column\": \"hour\"\n",
      "            },\n",
      "            \"metric_value_kwargs\": {\n",
      "              \"quantiles\": [\n",
      "                0.25,\n",
      "                0.5,\n",
      "                0.75\n",
      "              ],\n",
      "              \"allow_relative_error\": false\n",
      "            }\n",
      "          },\n",
      "          \"num_batches\": 1\n",
      "        }\n",
      "      }\n",
      "    },\n",
      "    {\n",
      "      \"kwargs\": {\n",
      "        \"max_value\": 12.0,\n",
      "        \"column\": \"hour\",\n",
      "        \"min_value\": 12.0,\n",
      "        \"strict_max\": false,\n",
      "        \"strict_min\": false\n",
      "      },\n",
      "      \"expectation_type\": \"expect_column_median_to_be_between\",\n",
      "      \"meta\": {\n",
      "        \"profiler_details\": {\n",
      "          \"metric_configuration\": {\n",
      "            \"metric_name\": \"column.median\",\n",
      "            \"domain_kwargs\": {\n",
      "              \"column\": \"hour\"\n",
      "            },\n",
      "            \"metric_value_kwargs\": null\n",
      "          },\n",
      "          \"num_batches\": 1\n",
      "        }\n",
      "      }\n",
      "    },\n",
      "    {\n",
      "      \"kwargs\": {\n",
      "        \"max_value\": 11.983370288248336,\n",
      "        \"column\": \"hour\",\n",
      "        \"min_value\": 11.983370288248336,\n",
      "        \"strict_max\": false,\n",
      "        \"strict_min\": false\n",
      "      },\n",
      "      \"expectation_type\": \"expect_column_mean_to_be_between\",\n",
      "      \"meta\": {\n",
      "        \"profiler_details\": {\n",
      "          \"metric_configuration\": {\n",
      "            \"metric_name\": \"column.mean\",\n",
      "            \"domain_kwargs\": {\n",
      "              \"column\": \"hour\"\n",
      "            },\n",
      "            \"metric_value_kwargs\": null\n",
      "          },\n",
      "          \"num_batches\": 1\n",
      "        }\n",
      "      }\n",
      "    },\n",
      "    {\n",
      "      \"kwargs\": {\n",
      "        \"max_value\": 6.754350803539437,\n",
      "        \"column\": \"hour\",\n",
      "        \"min_value\": 6.754350803539437,\n",
      "        \"strict_max\": false,\n",
      "        \"strict_min\": false\n",
      "      },\n",
      "      \"expectation_type\": \"expect_column_stdev_to_be_between\",\n",
      "      \"meta\": {\n",
      "        \"profiler_details\": {\n",
      "          \"metric_configuration\": {\n",
      "            \"metric_name\": \"column.standard_deviation\",\n",
      "            \"domain_kwargs\": {\n",
      "              \"column\": \"hour\"\n",
      "            },\n",
      "            \"metric_value_kwargs\": null\n",
      "          },\n",
      "          \"num_batches\": 1\n",
      "        }\n",
      "      }\n",
      "    },\n",
      "    {\n",
      "      \"kwargs\": {\n",
      "        \"max_value\": 0,\n",
      "        \"column\": \"vehicles_available\",\n",
      "        \"min_value\": 0,\n",
      "        \"strict_max\": false,\n",
      "        \"strict_min\": false\n",
      "      },\n",
      "      \"expectation_type\": \"expect_column_min_to_be_between\",\n",
      "      \"meta\": {\n",
      "        \"profiler_details\": {\n",
      "          \"metric_configuration\": {\n",
      "            \"metric_name\": \"column.min\",\n",
      "            \"domain_kwargs\": {\n",
      "              \"column\": \"vehicles_available\"\n",
      "            },\n",
      "            \"metric_value_kwargs\": null\n",
      "          },\n",
      "          \"num_batches\": 1\n",
      "        }\n",
      "      }\n",
      "    },\n",
      "    {\n",
      "      \"kwargs\": {\n",
      "        \"max_value\": 20,\n",
      "        \"column\": \"vehicles_available\",\n",
      "        \"min_value\": 20,\n",
      "        \"strict_max\": false,\n",
      "        \"strict_min\": false\n",
      "      },\n",
      "      \"expectation_type\": \"expect_column_max_to_be_between\",\n",
      "      \"meta\": {\n",
      "        \"profiler_details\": {\n",
      "          \"metric_configuration\": {\n",
      "            \"metric_name\": \"column.max\",\n",
      "            \"domain_kwargs\": {\n",
      "              \"column\": \"vehicles_available\"\n",
      "            },\n",
      "            \"metric_value_kwargs\": null\n",
      "          },\n",
      "          \"num_batches\": 1\n",
      "        }\n",
      "      }\n",
      "    },\n",
      "    {\n",
      "      \"kwargs\": {\n",
      "        \"max_value\": 20,\n",
      "        \"column\": \"vehicles_available\",\n",
      "        \"min_value\": 0,\n",
      "        \"strict_max\": false,\n",
      "        \"mostly\": 1.0,\n",
      "        \"strict_min\": false\n",
      "      },\n",
      "      \"expectation_type\": \"expect_column_values_to_be_between\",\n",
      "      \"meta\": {\n",
      "        \"profiler_details\": {\n",
      "          \"column_min_values_range_estimator\": {\n",
      "            \"metric_configuration\": {\n",
      "              \"metric_name\": \"column.min\",\n",
      "              \"domain_kwargs\": {\n",
      "                \"column\": \"vehicles_available\"\n",
      "              },\n",
      "              \"metric_value_kwargs\": null\n",
      "            },\n",
      "            \"num_batches\": 1\n",
      "          },\n",
      "          \"column_max_values_range_estimator\": {\n",
      "            \"metric_configuration\": {\n",
      "              \"metric_name\": \"column.max\",\n",
      "              \"domain_kwargs\": {\n",
      "                \"column\": \"vehicles_available\"\n",
      "              },\n",
      "              \"metric_value_kwargs\": null\n",
      "            },\n",
      "            \"num_batches\": 1\n",
      "          }\n",
      "        }\n",
      "      }\n",
      "    },\n",
      "    {\n",
      "      \"kwargs\": {\n",
      "        \"column\": \"vehicles_available\",\n",
      "        \"allow_relative_error\": false,\n",
      "        \"quantile_ranges\": {\n",
      "          \"quantiles\": [\n",
      "            0.25,\n",
      "            0.5,\n",
      "            0.75\n",
      "          ],\n",
      "          \"value_ranges\": [\n",
      "            [\n",
      "              1,\n",
      "              1\n",
      "            ],\n",
      "            [\n",
      "              4,\n",
      "              4\n",
      "            ],\n",
      "            [\n",
      "              7,\n",
      "              7\n",
      "            ]\n",
      "          ]\n",
      "        }\n",
      "      },\n",
      "      \"expectation_type\": \"expect_column_quantile_values_to_be_between\",\n",
      "      \"meta\": {\n",
      "        \"profiler_details\": {\n",
      "          \"metric_configuration\": {\n",
      "            \"metric_name\": \"column.quantile_values\",\n",
      "            \"domain_kwargs\": {\n",
      "              \"column\": \"vehicles_available\"\n",
      "            },\n",
      "            \"metric_value_kwargs\": {\n",
      "              \"quantiles\": [\n",
      "                0.25,\n",
      "                0.5,\n",
      "                0.75\n",
      "              ],\n",
      "              \"allow_relative_error\": false\n",
      "            }\n",
      "          },\n",
      "          \"num_batches\": 1\n",
      "        }\n",
      "      }\n",
      "    },\n",
      "    {\n",
      "      \"kwargs\": {\n",
      "        \"max_value\": 4.0,\n",
      "        \"column\": \"vehicles_available\",\n",
      "        \"min_value\": 4.0,\n",
      "        \"strict_max\": false,\n",
      "        \"strict_min\": false\n",
      "      },\n",
      "      \"expectation_type\": \"expect_column_median_to_be_between\",\n",
      "      \"meta\": {\n",
      "        \"profiler_details\": {\n",
      "          \"metric_configuration\": {\n",
      "            \"metric_name\": \"column.median\",\n",
      "            \"domain_kwargs\": {\n",
      "              \"column\": \"vehicles_available\"\n",
      "            },\n",
      "            \"metric_value_kwargs\": null\n",
      "          },\n",
      "          \"num_batches\": 1\n",
      "        }\n",
      "      }\n",
      "    },\n",
      "    {\n",
      "      \"kwargs\": {\n",
      "        \"max_value\": 4.83259423503326,\n",
      "        \"column\": \"vehicles_available\",\n",
      "        \"min_value\": 4.83259423503326,\n",
      "        \"strict_max\": false,\n",
      "        \"strict_min\": false\n",
      "      },\n",
      "      \"expectation_type\": \"expect_column_mean_to_be_between\",\n",
      "      \"meta\": {\n",
      "        \"profiler_details\": {\n",
      "          \"metric_configuration\": {\n",
      "            \"metric_name\": \"column.mean\",\n",
      "            \"domain_kwargs\": {\n",
      "              \"column\": \"vehicles_available\"\n",
      "            },\n",
      "            \"metric_value_kwargs\": null\n",
      "          },\n",
      "          \"num_batches\": 1\n",
      "        }\n",
      "      }\n",
      "    },\n",
      "    {\n",
      "      \"kwargs\": {\n",
      "        \"max_value\": 4.65809020535822,\n",
      "        \"column\": \"vehicles_available\",\n",
      "        \"min_value\": 4.65809020535822,\n",
      "        \"strict_max\": false,\n",
      "        \"strict_min\": false\n",
      "      },\n",
      "      \"expectation_type\": \"expect_column_stdev_to_be_between\",\n",
      "      \"meta\": {\n",
      "        \"profiler_details\": {\n",
      "          \"metric_configuration\": {\n",
      "            \"metric_name\": \"column.standard_deviation\",\n",
      "            \"domain_kwargs\": {\n",
      "              \"column\": \"vehicles_available\"\n",
      "            },\n",
      "            \"metric_value_kwargs\": null\n",
      "          },\n",
      "          \"num_batches\": 1\n",
      "        }\n",
      "      }\n",
      "    },\n",
      "    {\n",
      "      \"kwargs\": {\n",
      "        \"max_value\": 7.3,\n",
      "        \"column\": \"temp\",\n",
      "        \"min_value\": 7.3,\n",
      "        \"strict_max\": false,\n",
      "        \"strict_min\": false\n",
      "      },\n",
      "      \"expectation_type\": \"expect_column_min_to_be_between\",\n",
      "      \"meta\": {\n",
      "        \"profiler_details\": {\n",
      "          \"metric_configuration\": {\n",
      "            \"metric_name\": \"column.min\",\n",
      "            \"domain_kwargs\": {\n",
      "              \"column\": \"temp\"\n",
      "            },\n",
      "            \"metric_value_kwargs\": null\n",
      "          },\n",
      "          \"num_batches\": 1\n",
      "        }\n",
      "      }\n",
      "    },\n",
      "    {\n",
      "      \"kwargs\": {\n",
      "        \"max_value\": 25.5,\n",
      "        \"column\": \"temp\",\n",
      "        \"min_value\": 25.5,\n",
      "        \"strict_max\": false,\n",
      "        \"strict_min\": false\n",
      "      },\n",
      "      \"expectation_type\": \"expect_column_max_to_be_between\",\n",
      "      \"meta\": {\n",
      "        \"profiler_details\": {\n",
      "          \"metric_configuration\": {\n",
      "            \"metric_name\": \"column.max\",\n",
      "            \"domain_kwargs\": {\n",
      "              \"column\": \"temp\"\n",
      "            },\n",
      "            \"metric_value_kwargs\": null\n",
      "          },\n",
      "          \"num_batches\": 1\n",
      "        }\n",
      "      }\n",
      "    },\n",
      "    {\n",
      "      \"kwargs\": {\n",
      "        \"max_value\": 25.5,\n",
      "        \"column\": \"temp\",\n",
      "        \"min_value\": 7.3,\n",
      "        \"strict_max\": false,\n",
      "        \"mostly\": 1.0,\n",
      "        \"strict_min\": false\n",
      "      },\n",
      "      \"expectation_type\": \"expect_column_values_to_be_between\",\n",
      "      \"meta\": {\n",
      "        \"profiler_details\": {\n",
      "          \"column_min_values_range_estimator\": {\n",
      "            \"metric_configuration\": {\n",
      "              \"metric_name\": \"column.min\",\n",
      "              \"domain_kwargs\": {\n",
      "                \"column\": \"temp\"\n",
      "              },\n",
      "              \"metric_value_kwargs\": null\n",
      "            },\n",
      "            \"num_batches\": 1\n",
      "          },\n",
      "          \"column_max_values_range_estimator\": {\n",
      "            \"metric_configuration\": {\n",
      "              \"metric_name\": \"column.max\",\n",
      "              \"domain_kwargs\": {\n",
      "                \"column\": \"temp\"\n",
      "              },\n",
      "              \"metric_value_kwargs\": null\n",
      "            },\n",
      "            \"num_batches\": 1\n",
      "          }\n",
      "        }\n",
      "      }\n",
      "    },\n",
      "    {\n",
      "      \"kwargs\": {\n",
      "        \"column\": \"temp\",\n",
      "        \"allow_relative_error\": false,\n",
      "        \"quantile_ranges\": {\n",
      "          \"quantiles\": [\n",
      "            0.25,\n",
      "            0.5,\n",
      "            0.75\n",
      "          ],\n",
      "          \"value_ranges\": [\n",
      "            [\n",
      "              14.4,\n",
      "              14.4\n",
      "            ],\n",
      "            [\n",
      "              15.8,\n",
      "              15.8\n",
      "            ],\n",
      "            [\n",
      "              19.4,\n",
      "              19.4\n",
      "            ]\n",
      "          ]\n",
      "        }\n",
      "      },\n",
      "      \"expectation_type\": \"expect_column_quantile_values_to_be_between\",\n",
      "      \"meta\": {\n",
      "        \"profiler_details\": {\n",
      "          \"metric_configuration\": {\n",
      "            \"metric_name\": \"column.quantile_values\",\n",
      "            \"domain_kwargs\": {\n",
      "              \"column\": \"temp\"\n",
      "            },\n",
      "            \"metric_value_kwargs\": {\n",
      "              \"quantiles\": [\n",
      "                0.25,\n",
      "                0.5,\n",
      "                0.75\n",
      "              ],\n",
      "              \"allow_relative_error\": false\n",
      "            }\n",
      "          },\n",
      "          \"num_batches\": 1\n",
      "        }\n",
      "      }\n",
      "    },\n",
      "    {\n",
      "      \"kwargs\": {\n",
      "        \"max_value\": 15.8,\n",
      "        \"column\": \"temp\",\n",
      "        \"min_value\": 15.8,\n",
      "        \"strict_max\": false,\n",
      "        \"strict_min\": false\n",
      "      },\n",
      "      \"expectation_type\": \"expect_column_median_to_be_between\",\n",
      "      \"meta\": {\n",
      "        \"profiler_details\": {\n",
      "          \"metric_configuration\": {\n",
      "            \"metric_name\": \"column.median\",\n",
      "            \"domain_kwargs\": {\n",
      "              \"column\": \"temp\"\n",
      "            },\n",
      "            \"metric_value_kwargs\": null\n",
      "          },\n",
      "          \"num_batches\": 1\n",
      "        }\n",
      "      }\n",
      "    },\n",
      "    {\n",
      "      \"kwargs\": {\n",
      "        \"max_value\": 16.531124079548874,\n",
      "        \"column\": \"temp\",\n",
      "        \"min_value\": 16.531124079548874,\n",
      "        \"strict_max\": false,\n",
      "        \"strict_min\": false\n",
      "      },\n",
      "      \"expectation_type\": \"expect_column_mean_to_be_between\",\n",
      "      \"meta\": {\n",
      "        \"profiler_details\": {\n",
      "          \"metric_configuration\": {\n",
      "            \"metric_name\": \"column.mean\",\n",
      "            \"domain_kwargs\": {\n",
      "              \"column\": \"temp\"\n",
      "            },\n",
      "            \"metric_value_kwargs\": null\n",
      "          },\n",
      "          \"num_batches\": 1\n",
      "        }\n",
      "      }\n",
      "    },\n",
      "    {\n",
      "      \"kwargs\": {\n",
      "        \"max_value\": 3.626632920157337,\n",
      "        \"column\": \"temp\",\n",
      "        \"min_value\": 3.626632920157337,\n",
      "        \"strict_max\": false,\n",
      "        \"strict_min\": false\n",
      "      },\n",
      "      \"expectation_type\": \"expect_column_stdev_to_be_between\",\n",
      "      \"meta\": {\n",
      "        \"profiler_details\": {\n",
      "          \"metric_configuration\": {\n",
      "            \"metric_name\": \"column.standard_deviation\",\n",
      "            \"domain_kwargs\": {\n",
      "              \"column\": \"temp\"\n",
      "            },\n",
      "            \"metric_value_kwargs\": null\n",
      "          },\n",
      "          \"num_batches\": 1\n",
      "        }\n",
      "      }\n",
      "    },\n",
      "    {\n",
      "      \"kwargs\": {\n",
      "        \"max_value\": 39.0,\n",
      "        \"column\": \"hum\",\n",
      "        \"min_value\": 39.0,\n",
      "        \"strict_max\": false,\n",
      "        \"strict_min\": false\n",
      "      },\n",
      "      \"expectation_type\": \"expect_column_min_to_be_between\",\n",
      "      \"meta\": {\n",
      "        \"profiler_details\": {\n",
      "          \"metric_configuration\": {\n",
      "            \"metric_name\": \"column.min\",\n",
      "            \"domain_kwargs\": {\n",
      "              \"column\": \"hum\"\n",
      "            },\n",
      "            \"metric_value_kwargs\": null\n",
      "          },\n",
      "          \"num_batches\": 1\n",
      "        }\n",
      "      }\n",
      "    },\n",
      "    {\n",
      "      \"kwargs\": {\n",
      "        \"max_value\": 100.0,\n",
      "        \"column\": \"hum\",\n",
      "        \"min_value\": 100.0,\n",
      "        \"strict_max\": false,\n",
      "        \"strict_min\": false\n",
      "      },\n",
      "      \"expectation_type\": \"expect_column_max_to_be_between\",\n",
      "      \"meta\": {\n",
      "        \"profiler_details\": {\n",
      "          \"metric_configuration\": {\n",
      "            \"metric_name\": \"column.max\",\n",
      "            \"domain_kwargs\": {\n",
      "              \"column\": \"hum\"\n",
      "            },\n",
      "            \"metric_value_kwargs\": null\n",
      "          },\n",
      "          \"num_batches\": 1\n",
      "        }\n",
      "      }\n",
      "    },\n",
      "    {\n",
      "      \"kwargs\": {\n",
      "        \"max_value\": 100.0,\n",
      "        \"column\": \"hum\",\n",
      "        \"min_value\": 39.0,\n",
      "        \"strict_max\": false,\n",
      "        \"mostly\": 1.0,\n",
      "        \"strict_min\": false\n",
      "      },\n",
      "      \"expectation_type\": \"expect_column_values_to_be_between\",\n",
      "      \"meta\": {\n",
      "        \"profiler_details\": {\n",
      "          \"column_min_values_range_estimator\": {\n",
      "            \"metric_configuration\": {\n",
      "              \"metric_name\": \"column.min\",\n",
      "              \"domain_kwargs\": {\n",
      "                \"column\": \"hum\"\n",
      "              },\n",
      "              \"metric_value_kwargs\": null\n",
      "            },\n",
      "            \"num_batches\": 1\n",
      "          },\n",
      "          \"column_max_values_range_estimator\": {\n",
      "            \"metric_configuration\": {\n",
      "              \"metric_name\": \"column.max\",\n",
      "              \"domain_kwargs\": {\n",
      "                \"column\": \"hum\"\n",
      "              },\n",
      "              \"metric_value_kwargs\": null\n",
      "            },\n",
      "            \"num_batches\": 1\n",
      "          }\n",
      "        }\n",
      "      }\n",
      "    },\n",
      "    {\n",
      "      \"kwargs\": {\n",
      "        \"column\": \"hum\",\n",
      "        \"allow_relative_error\": false,\n",
      "        \"quantile_ranges\": {\n",
      "          \"quantiles\": [\n",
      "            0.25,\n",
      "            0.5,\n",
      "            0.75\n",
      "          ],\n",
      "          \"value_ranges\": [\n",
      "            [\n",
      "              67.0,\n",
      "              67.0\n",
      "            ],\n",
      "            [\n",
      "              76.87885802469135,\n",
      "              76.87885802469135\n",
      "            ],\n",
      "            [\n",
      "              87.0,\n",
      "              87.0\n",
      "            ]\n",
      "          ]\n",
      "        }\n",
      "      },\n",
      "      \"expectation_type\": \"expect_column_quantile_values_to_be_between\",\n",
      "      \"meta\": {\n",
      "        \"profiler_details\": {\n",
      "          \"metric_configuration\": {\n",
      "            \"metric_name\": \"column.quantile_values\",\n",
      "            \"domain_kwargs\": {\n",
      "              \"column\": \"hum\"\n",
      "            },\n",
      "            \"metric_value_kwargs\": {\n",
      "              \"quantiles\": [\n",
      "                0.25,\n",
      "                0.5,\n",
      "                0.75\n",
      "              ],\n",
      "              \"allow_relative_error\": false\n",
      "            }\n",
      "          },\n",
      "          \"num_batches\": 1\n",
      "        }\n",
      "      }\n",
      "    },\n",
      "    {\n",
      "      \"kwargs\": {\n",
      "        \"max_value\": 76.87885802469135,\n",
      "        \"column\": \"hum\",\n",
      "        \"min_value\": 76.87885802469135,\n",
      "        \"strict_max\": false,\n",
      "        \"strict_min\": false\n",
      "      },\n",
      "      \"expectation_type\": \"expect_column_median_to_be_between\",\n",
      "      \"meta\": {\n",
      "        \"profiler_details\": {\n",
      "          \"metric_configuration\": {\n",
      "            \"metric_name\": \"column.median\",\n",
      "            \"domain_kwargs\": {\n",
      "              \"column\": \"hum\"\n",
      "            },\n",
      "            \"metric_value_kwargs\": null\n",
      "          },\n",
      "          \"num_batches\": 1\n",
      "        }\n",
      "      }\n",
      "    },\n",
      "    {\n",
      "      \"kwargs\": {\n",
      "        \"max_value\": 76.1416827488982,\n",
      "        \"column\": \"hum\",\n",
      "        \"min_value\": 76.1416827488982,\n",
      "        \"strict_max\": false,\n",
      "        \"strict_min\": false\n",
      "      },\n",
      "      \"expectation_type\": \"expect_column_mean_to_be_between\",\n",
      "      \"meta\": {\n",
      "        \"profiler_details\": {\n",
      "          \"metric_configuration\": {\n",
      "            \"metric_name\": \"column.mean\",\n",
      "            \"domain_kwargs\": {\n",
      "              \"column\": \"hum\"\n",
      "            },\n",
      "            \"metric_value_kwargs\": null\n",
      "          },\n",
      "          \"num_batches\": 1\n",
      "        }\n",
      "      }\n",
      "    },\n",
      "    {\n",
      "      \"kwargs\": {\n",
      "        \"max_value\": 15.03855838965183,\n",
      "        \"column\": \"hum\",\n",
      "        \"min_value\": 15.03855838965183,\n",
      "        \"strict_max\": false,\n",
      "        \"strict_min\": false\n",
      "      },\n",
      "      \"expectation_type\": \"expect_column_stdev_to_be_between\",\n",
      "      \"meta\": {\n",
      "        \"profiler_details\": {\n",
      "          \"metric_configuration\": {\n",
      "            \"metric_name\": \"column.standard_deviation\",\n",
      "            \"domain_kwargs\": {\n",
      "              \"column\": \"hum\"\n",
      "            },\n",
      "            \"metric_value_kwargs\": null\n",
      "          },\n",
      "          \"num_batches\": 1\n",
      "        }\n",
      "      }\n",
      "    },\n",
      "    {\n",
      "      \"kwargs\": {\n",
      "        \"max_value\": 0.0,\n",
      "        \"column\": \"percp\",\n",
      "        \"min_value\": 0.0,\n",
      "        \"strict_max\": false,\n",
      "        \"strict_min\": false\n",
      "      },\n",
      "      \"expectation_type\": \"expect_column_min_to_be_between\",\n",
      "      \"meta\": {\n",
      "        \"profiler_details\": {\n",
      "          \"metric_configuration\": {\n",
      "            \"metric_name\": \"column.min\",\n",
      "            \"domain_kwargs\": {\n",
      "              \"column\": \"percp\"\n",
      "            },\n",
      "            \"metric_value_kwargs\": null\n",
      "          },\n",
      "          \"num_batches\": 1\n",
      "        }\n",
      "      }\n",
      "    },\n",
      "    {\n",
      "      \"kwargs\": {\n",
      "        \"max_value\": 3.7,\n",
      "        \"column\": \"percp\",\n",
      "        \"min_value\": 3.7,\n",
      "        \"strict_max\": false,\n",
      "        \"strict_min\": false\n",
      "      },\n",
      "      \"expectation_type\": \"expect_column_max_to_be_between\",\n",
      "      \"meta\": {\n",
      "        \"profiler_details\": {\n",
      "          \"metric_configuration\": {\n",
      "            \"metric_name\": \"column.max\",\n",
      "            \"domain_kwargs\": {\n",
      "              \"column\": \"percp\"\n",
      "            },\n",
      "            \"metric_value_kwargs\": null\n",
      "          },\n",
      "          \"num_batches\": 1\n",
      "        }\n",
      "      }\n",
      "    },\n",
      "    {\n",
      "      \"kwargs\": {\n",
      "        \"max_value\": 3.7,\n",
      "        \"column\": \"percp\",\n",
      "        \"min_value\": 0.0,\n",
      "        \"strict_max\": false,\n",
      "        \"mostly\": 1.0,\n",
      "        \"strict_min\": false\n",
      "      },\n",
      "      \"expectation_type\": \"expect_column_values_to_be_between\",\n",
      "      \"meta\": {\n",
      "        \"profiler_details\": {\n",
      "          \"column_min_values_range_estimator\": {\n",
      "            \"metric_configuration\": {\n",
      "              \"metric_name\": \"column.min\",\n",
      "              \"domain_kwargs\": {\n",
      "                \"column\": \"percp\"\n",
      "              },\n",
      "              \"metric_value_kwargs\": null\n",
      "            },\n",
      "            \"num_batches\": 1\n",
      "          },\n",
      "          \"column_max_values_range_estimator\": {\n",
      "            \"metric_configuration\": {\n",
      "              \"metric_name\": \"column.max\",\n",
      "              \"domain_kwargs\": {\n",
      "                \"column\": \"percp\"\n",
      "              },\n",
      "              \"metric_value_kwargs\": null\n",
      "            },\n",
      "            \"num_batches\": 1\n",
      "          }\n",
      "        }\n",
      "      }\n",
      "    },\n",
      "    {\n",
      "      \"kwargs\": {\n",
      "        \"column\": \"percp\",\n",
      "        \"allow_relative_error\": false,\n",
      "        \"quantile_ranges\": {\n",
      "          \"quantiles\": [\n",
      "            0.25,\n",
      "            0.5,\n",
      "            0.75\n",
      "          ],\n",
      "          \"value_ranges\": [\n",
      "            [\n",
      "              0.0,\n",
      "              0.0\n",
      "            ],\n",
      "            [\n",
      "              0.0,\n",
      "              0.0\n",
      "            ],\n",
      "            [\n",
      "              0.1673611111111111,\n",
      "              0.1673611111111111\n",
      "            ]\n",
      "          ]\n",
      "        }\n",
      "      },\n",
      "      \"expectation_type\": \"expect_column_quantile_values_to_be_between\",\n",
      "      \"meta\": {\n",
      "        \"profiler_details\": {\n",
      "          \"metric_configuration\": {\n",
      "            \"metric_name\": \"column.quantile_values\",\n",
      "            \"domain_kwargs\": {\n",
      "              \"column\": \"percp\"\n",
      "            },\n",
      "            \"metric_value_kwargs\": {\n",
      "              \"quantiles\": [\n",
      "                0.25,\n",
      "                0.5,\n",
      "                0.75\n",
      "              ],\n",
      "              \"allow_relative_error\": false\n",
      "            }\n",
      "          },\n",
      "          \"num_batches\": 1\n",
      "        }\n",
      "      }\n",
      "    },\n",
      "    {\n",
      "      \"kwargs\": {\n",
      "        \"max_value\": 0.0,\n",
      "        \"column\": \"percp\",\n",
      "        \"min_value\": 0.0,\n",
      "        \"strict_max\": false,\n",
      "        \"strict_min\": false\n",
      "      },\n",
      "      \"expectation_type\": \"expect_column_median_to_be_between\",\n",
      "      \"meta\": {\n",
      "        \"profiler_details\": {\n",
      "          \"metric_configuration\": {\n",
      "            \"metric_name\": \"column.median\",\n",
      "            \"domain_kwargs\": {\n",
      "              \"column\": \"percp\"\n",
      "            },\n",
      "            \"metric_value_kwargs\": null\n",
      "          },\n",
      "          \"num_batches\": 1\n",
      "        }\n",
      "      }\n",
      "    },\n",
      "    {\n",
      "      \"kwargs\": {\n",
      "        \"max_value\": 0.1818905518600641,\n",
      "        \"column\": \"percp\",\n",
      "        \"min_value\": 0.1818905518600641,\n",
      "        \"strict_max\": false,\n",
      "        \"strict_min\": false\n",
      "      },\n",
      "      \"expectation_type\": \"expect_column_mean_to_be_between\",\n",
      "      \"meta\": {\n",
      "        \"profiler_details\": {\n",
      "          \"metric_configuration\": {\n",
      "            \"metric_name\": \"column.mean\",\n",
      "            \"domain_kwargs\": {\n",
      "              \"column\": \"percp\"\n",
      "            },\n",
      "            \"metric_value_kwargs\": null\n",
      "          },\n",
      "          \"num_batches\": 1\n",
      "        }\n",
      "      }\n",
      "    },\n",
      "    {\n",
      "      \"kwargs\": {\n",
      "        \"max_value\": 0.3909711568406678,\n",
      "        \"column\": \"percp\",\n",
      "        \"min_value\": 0.3909711568406678,\n",
      "        \"strict_max\": false,\n",
      "        \"strict_min\": false\n",
      "      },\n",
      "      \"expectation_type\": \"expect_column_stdev_to_be_between\",\n",
      "      \"meta\": {\n",
      "        \"profiler_details\": {\n",
      "          \"metric_configuration\": {\n",
      "            \"metric_name\": \"column.standard_deviation\",\n",
      "            \"domain_kwargs\": {\n",
      "              \"column\": \"percp\"\n",
      "            },\n",
      "            \"metric_value_kwargs\": null\n",
      "          },\n",
      "          \"num_batches\": 1\n",
      "        }\n",
      "      }\n",
      "    },\n",
      "    {\n",
      "      \"kwargs\": {\n",
      "        \"max_value\": 0.4,\n",
      "        \"column\": \"wspeed\",\n",
      "        \"min_value\": 0.4,\n",
      "        \"strict_max\": false,\n",
      "        \"strict_min\": false\n",
      "      },\n",
      "      \"expectation_type\": \"expect_column_min_to_be_between\",\n",
      "      \"meta\": {\n",
      "        \"profiler_details\": {\n",
      "          \"metric_configuration\": {\n",
      "            \"metric_name\": \"column.min\",\n",
      "            \"domain_kwargs\": {\n",
      "              \"column\": \"wspeed\"\n",
      "            },\n",
      "            \"metric_value_kwargs\": null\n",
      "          },\n",
      "          \"num_batches\": 1\n",
      "        }\n",
      "      }\n",
      "    },\n",
      "    {\n",
      "      \"kwargs\": {\n",
      "        \"max_value\": 26.0,\n",
      "        \"column\": \"wspeed\",\n",
      "        \"min_value\": 26.0,\n",
      "        \"strict_max\": false,\n",
      "        \"strict_min\": false\n",
      "      },\n",
      "      \"expectation_type\": \"expect_column_max_to_be_between\",\n",
      "      \"meta\": {\n",
      "        \"profiler_details\": {\n",
      "          \"metric_configuration\": {\n",
      "            \"metric_name\": \"column.max\",\n",
      "            \"domain_kwargs\": {\n",
      "              \"column\": \"wspeed\"\n",
      "            },\n",
      "            \"metric_value_kwargs\": null\n",
      "          },\n",
      "          \"num_batches\": 1\n",
      "        }\n",
      "      }\n",
      "    },\n",
      "    {\n",
      "      \"kwargs\": {\n",
      "        \"max_value\": 26.0,\n",
      "        \"column\": \"wspeed\",\n",
      "        \"min_value\": 0.4,\n",
      "        \"strict_max\": false,\n",
      "        \"mostly\": 1.0,\n",
      "        \"strict_min\": false\n",
      "      },\n",
      "      \"expectation_type\": \"expect_column_values_to_be_between\",\n",
      "      \"meta\": {\n",
      "        \"profiler_details\": {\n",
      "          \"column_min_values_range_estimator\": {\n",
      "            \"metric_configuration\": {\n",
      "              \"metric_name\": \"column.min\",\n",
      "              \"domain_kwargs\": {\n",
      "                \"column\": \"wspeed\"\n",
      "              },\n",
      "              \"metric_value_kwargs\": null\n",
      "            },\n",
      "            \"num_batches\": 1\n",
      "          },\n",
      "          \"column_max_values_range_estimator\": {\n",
      "            \"metric_configuration\": {\n",
      "              \"metric_name\": \"column.max\",\n",
      "              \"domain_kwargs\": {\n",
      "                \"column\": \"wspeed\"\n",
      "              },\n",
      "              \"metric_value_kwargs\": null\n",
      "            },\n",
      "            \"num_batches\": 1\n",
      "          }\n",
      "        }\n",
      "      }\n",
      "    },\n",
      "    {\n",
      "      \"kwargs\": {\n",
      "        \"column\": \"wspeed\",\n",
      "        \"allow_relative_error\": false,\n",
      "        \"quantile_ranges\": {\n",
      "          \"quantiles\": [\n",
      "            0.25,\n",
      "            0.5,\n",
      "            0.75\n",
      "          ],\n",
      "          \"value_ranges\": [\n",
      "            [\n",
      "              5.5,\n",
      "              5.5\n",
      "            ],\n",
      "            [\n",
      "              8.008641975308642,\n",
      "              8.008641975308642\n",
      "            ],\n",
      "            [\n",
      "              9.8,\n",
      "              9.8\n",
      "            ]\n",
      "          ]\n",
      "        }\n",
      "      },\n",
      "      \"expectation_type\": \"expect_column_quantile_values_to_be_between\",\n",
      "      \"meta\": {\n",
      "        \"profiler_details\": {\n",
      "          \"metric_configuration\": {\n",
      "            \"metric_name\": \"column.quantile_values\",\n",
      "            \"domain_kwargs\": {\n",
      "              \"column\": \"wspeed\"\n",
      "            },\n",
      "            \"metric_value_kwargs\": {\n",
      "              \"quantiles\": [\n",
      "                0.25,\n",
      "                0.5,\n",
      "                0.75\n",
      "              ],\n",
      "              \"allow_relative_error\": false\n",
      "            }\n",
      "          },\n",
      "          \"num_batches\": 1\n",
      "        }\n",
      "      }\n",
      "    },\n",
      "    {\n",
      "      \"kwargs\": {\n",
      "        \"max_value\": 8.008641975308642,\n",
      "        \"column\": \"wspeed\",\n",
      "        \"min_value\": 8.008641975308642,\n",
      "        \"strict_max\": false,\n",
      "        \"strict_min\": false\n",
      "      },\n",
      "      \"expectation_type\": \"expect_column_median_to_be_between\",\n",
      "      \"meta\": {\n",
      "        \"profiler_details\": {\n",
      "          \"metric_configuration\": {\n",
      "            \"metric_name\": \"column.median\",\n",
      "            \"domain_kwargs\": {\n",
      "              \"column\": \"wspeed\"\n",
      "            },\n",
      "            \"metric_value_kwargs\": null\n",
      "          },\n",
      "          \"num_batches\": 1\n",
      "        }\n",
      "      }\n",
      "    },\n",
      "    {\n",
      "      \"kwargs\": {\n",
      "        \"max_value\": 8.133400399660562,\n",
      "        \"column\": \"wspeed\",\n",
      "        \"min_value\": 8.133400399660562,\n",
      "        \"strict_max\": false,\n",
      "        \"strict_min\": false\n",
      "      },\n",
      "      \"expectation_type\": \"expect_column_mean_to_be_between\",\n",
      "      \"meta\": {\n",
      "        \"profiler_details\": {\n",
      "          \"metric_configuration\": {\n",
      "            \"metric_name\": \"column.mean\",\n",
      "            \"domain_kwargs\": {\n",
      "              \"column\": \"wspeed\"\n",
      "            },\n",
      "            \"metric_value_kwargs\": null\n",
      "          },\n",
      "          \"num_batches\": 1\n",
      "        }\n",
      "      }\n",
      "    },\n",
      "    {\n",
      "      \"kwargs\": {\n",
      "        \"max_value\": 3.9153825828420747,\n",
      "        \"column\": \"wspeed\",\n",
      "        \"min_value\": 3.9153825828420747,\n",
      "        \"strict_max\": false,\n",
      "        \"strict_min\": false\n",
      "      },\n",
      "      \"expectation_type\": \"expect_column_stdev_to_be_between\",\n",
      "      \"meta\": {\n",
      "        \"profiler_details\": {\n",
      "          \"metric_configuration\": {\n",
      "            \"metric_name\": \"column.standard_deviation\",\n",
      "            \"domain_kwargs\": {\n",
      "              \"column\": \"wspeed\"\n",
      "            },\n",
      "            \"metric_value_kwargs\": null\n",
      "          },\n",
      "          \"num_batches\": 1\n",
      "        }\n",
      "      }\n",
      "    },\n",
      "    {\n",
      "      \"kwargs\": {\n",
      "        \"max_value\": 20,\n",
      "        \"column\": \"capacity\",\n",
      "        \"min_value\": 20,\n",
      "        \"strict_max\": false,\n",
      "        \"strict_min\": false\n",
      "      },\n",
      "      \"expectation_type\": \"expect_column_min_to_be_between\",\n",
      "      \"meta\": {\n",
      "        \"profiler_details\": {\n",
      "          \"metric_configuration\": {\n",
      "            \"metric_name\": \"column.min\",\n",
      "            \"domain_kwargs\": {\n",
      "              \"column\": \"capacity\"\n",
      "            },\n",
      "            \"metric_value_kwargs\": null\n",
      "          },\n",
      "          \"num_batches\": 1\n",
      "        }\n",
      "      }\n",
      "    },\n",
      "    {\n",
      "      \"kwargs\": {\n",
      "        \"max_value\": 20,\n",
      "        \"column\": \"capacity\",\n",
      "        \"min_value\": 20,\n",
      "        \"strict_max\": false,\n",
      "        \"strict_min\": false\n",
      "      },\n",
      "      \"expectation_type\": \"expect_column_max_to_be_between\",\n",
      "      \"meta\": {\n",
      "        \"profiler_details\": {\n",
      "          \"metric_configuration\": {\n",
      "            \"metric_name\": \"column.max\",\n",
      "            \"domain_kwargs\": {\n",
      "              \"column\": \"capacity\"\n",
      "            },\n",
      "            \"metric_value_kwargs\": null\n",
      "          },\n",
      "          \"num_batches\": 1\n",
      "        }\n",
      "      }\n",
      "    },\n",
      "    {\n",
      "      \"kwargs\": {\n",
      "        \"max_value\": 20,\n",
      "        \"column\": \"capacity\",\n",
      "        \"min_value\": 20,\n",
      "        \"strict_max\": false,\n",
      "        \"mostly\": 1.0,\n",
      "        \"strict_min\": false\n",
      "      },\n",
      "      \"expectation_type\": \"expect_column_values_to_be_between\",\n",
      "      \"meta\": {\n",
      "        \"profiler_details\": {\n",
      "          \"column_min_values_range_estimator\": {\n",
      "            \"metric_configuration\": {\n",
      "              \"metric_name\": \"column.min\",\n",
      "              \"domain_kwargs\": {\n",
      "                \"column\": \"capacity\"\n",
      "              },\n",
      "              \"metric_value_kwargs\": null\n",
      "            },\n",
      "            \"num_batches\": 1\n",
      "          },\n",
      "          \"column_max_values_range_estimator\": {\n",
      "            \"metric_configuration\": {\n",
      "              \"metric_name\": \"column.max\",\n",
      "              \"domain_kwargs\": {\n",
      "                \"column\": \"capacity\"\n",
      "              },\n",
      "              \"metric_value_kwargs\": null\n",
      "            },\n",
      "            \"num_batches\": 1\n",
      "          }\n",
      "        }\n",
      "      }\n",
      "    },\n",
      "    {\n",
      "      \"kwargs\": {\n",
      "        \"column\": \"capacity\",\n",
      "        \"allow_relative_error\": false,\n",
      "        \"quantile_ranges\": {\n",
      "          \"quantiles\": [\n",
      "            0.25,\n",
      "            0.5,\n",
      "            0.75\n",
      "          ],\n",
      "          \"value_ranges\": [\n",
      "            [\n",
      "              20,\n",
      "              20\n",
      "            ],\n",
      "            [\n",
      "              20,\n",
      "              20\n",
      "            ],\n",
      "            [\n",
      "              20,\n",
      "              20\n",
      "            ]\n",
      "          ]\n",
      "        }\n",
      "      },\n",
      "      \"expectation_type\": \"expect_column_quantile_values_to_be_between\",\n",
      "      \"meta\": {\n",
      "        \"profiler_details\": {\n",
      "          \"metric_configuration\": {\n",
      "            \"metric_name\": \"column.quantile_values\",\n",
      "            \"domain_kwargs\": {\n",
      "              \"column\": \"capacity\"\n",
      "            },\n",
      "            \"metric_value_kwargs\": {\n",
      "              \"quantiles\": [\n",
      "                0.25,\n",
      "                0.5,\n",
      "                0.75\n",
      "              ],\n",
      "              \"allow_relative_error\": false\n",
      "            }\n",
      "          },\n",
      "          \"num_batches\": 1\n",
      "        }\n",
      "      }\n",
      "    },\n",
      "    {\n",
      "      \"kwargs\": {\n",
      "        \"max_value\": 20.0,\n",
      "        \"column\": \"capacity\",\n",
      "        \"min_value\": 20.0,\n",
      "        \"strict_max\": false,\n",
      "        \"strict_min\": false\n",
      "      },\n",
      "      \"expectation_type\": \"expect_column_median_to_be_between\",\n",
      "      \"meta\": {\n",
      "        \"profiler_details\": {\n",
      "          \"metric_configuration\": {\n",
      "            \"metric_name\": \"column.median\",\n",
      "            \"domain_kwargs\": {\n",
      "              \"column\": \"capacity\"\n",
      "            },\n",
      "            \"metric_value_kwargs\": null\n",
      "          },\n",
      "          \"num_batches\": 1\n",
      "        }\n",
      "      }\n",
      "    },\n",
      "    {\n",
      "      \"kwargs\": {\n",
      "        \"max_value\": 20.0,\n",
      "        \"column\": \"capacity\",\n",
      "        \"min_value\": 20.0,\n",
      "        \"strict_max\": false,\n",
      "        \"strict_min\": false\n",
      "      },\n",
      "      \"expectation_type\": \"expect_column_mean_to_be_between\",\n",
      "      \"meta\": {\n",
      "        \"profiler_details\": {\n",
      "          \"metric_configuration\": {\n",
      "            \"metric_name\": \"column.mean\",\n",
      "            \"domain_kwargs\": {\n",
      "              \"column\": \"capacity\"\n",
      "            },\n",
      "            \"metric_value_kwargs\": null\n",
      "          },\n",
      "          \"num_batches\": 1\n",
      "        }\n",
      "      }\n",
      "    },\n",
      "    {\n",
      "      \"kwargs\": {\n",
      "        \"max_value\": 0.0,\n",
      "        \"column\": \"capacity\",\n",
      "        \"min_value\": 0.0,\n",
      "        \"strict_max\": false,\n",
      "        \"strict_min\": false\n",
      "      },\n",
      "      \"expectation_type\": \"expect_column_stdev_to_be_between\",\n",
      "      \"meta\": {\n",
      "        \"profiler_details\": {\n",
      "          \"metric_configuration\": {\n",
      "            \"metric_name\": \"column.standard_deviation\",\n",
      "            \"domain_kwargs\": {\n",
      "              \"column\": \"capacity\"\n",
      "            },\n",
      "            \"metric_value_kwargs\": null\n",
      "          },\n",
      "          \"num_batches\": 1\n",
      "        }\n",
      "      }\n",
      "    },\n",
      "    {\n",
      "      \"kwargs\": {\n",
      "        \"max_value\": 0,\n",
      "        \"column\": \"capacity_free\",\n",
      "        \"min_value\": 0,\n",
      "        \"strict_max\": false,\n",
      "        \"strict_min\": false\n",
      "      },\n",
      "      \"expectation_type\": \"expect_column_min_to_be_between\",\n",
      "      \"meta\": {\n",
      "        \"profiler_details\": {\n",
      "          \"metric_configuration\": {\n",
      "            \"metric_name\": \"column.min\",\n",
      "            \"domain_kwargs\": {\n",
      "              \"column\": \"capacity_free\"\n",
      "            },\n",
      "            \"metric_value_kwargs\": null\n",
      "          },\n",
      "          \"num_batches\": 1\n",
      "        }\n",
      "      }\n",
      "    },\n",
      "    {\n",
      "      \"kwargs\": {\n",
      "        \"max_value\": 20,\n",
      "        \"column\": \"capacity_free\",\n",
      "        \"min_value\": 20,\n",
      "        \"strict_max\": false,\n",
      "        \"strict_min\": false\n",
      "      },\n",
      "      \"expectation_type\": \"expect_column_max_to_be_between\",\n",
      "      \"meta\": {\n",
      "        \"profiler_details\": {\n",
      "          \"metric_configuration\": {\n",
      "            \"metric_name\": \"column.max\",\n",
      "            \"domain_kwargs\": {\n",
      "              \"column\": \"capacity_free\"\n",
      "            },\n",
      "            \"metric_value_kwargs\": null\n",
      "          },\n",
      "          \"num_batches\": 1\n",
      "        }\n",
      "      }\n",
      "    },\n",
      "    {\n",
      "      \"kwargs\": {\n",
      "        \"max_value\": 20,\n",
      "        \"column\": \"capacity_free\",\n",
      "        \"min_value\": 0,\n",
      "        \"strict_max\": false,\n",
      "        \"mostly\": 1.0,\n",
      "        \"strict_min\": false\n",
      "      },\n",
      "      \"expectation_type\": \"expect_column_values_to_be_between\",\n",
      "      \"meta\": {\n",
      "        \"profiler_details\": {\n",
      "          \"column_min_values_range_estimator\": {\n",
      "            \"metric_configuration\": {\n",
      "              \"metric_name\": \"column.min\",\n",
      "              \"domain_kwargs\": {\n",
      "                \"column\": \"capacity_free\"\n",
      "              },\n",
      "              \"metric_value_kwargs\": null\n",
      "            },\n",
      "            \"num_batches\": 1\n",
      "          },\n",
      "          \"column_max_values_range_estimator\": {\n",
      "            \"metric_configuration\": {\n",
      "              \"metric_name\": \"column.max\",\n",
      "              \"domain_kwargs\": {\n",
      "                \"column\": \"capacity_free\"\n",
      "              },\n",
      "              \"metric_value_kwargs\": null\n",
      "            },\n",
      "            \"num_batches\": 1\n",
      "          }\n",
      "        }\n",
      "      }\n",
      "    },\n",
      "    {\n",
      "      \"kwargs\": {\n",
      "        \"column\": \"capacity_free\",\n",
      "        \"allow_relative_error\": false,\n",
      "        \"quantile_ranges\": {\n",
      "          \"quantiles\": [\n",
      "            0.25,\n",
      "            0.5,\n",
      "            0.75\n",
      "          ],\n",
      "          \"value_ranges\": [\n",
      "            [\n",
      "              12,\n",
      "              12\n",
      "            ],\n",
      "            [\n",
      "              16,\n",
      "              16\n",
      "            ],\n",
      "            [\n",
      "              19,\n",
      "              19\n",
      "            ]\n",
      "          ]\n",
      "        }\n",
      "      },\n",
      "      \"expectation_type\": \"expect_column_quantile_values_to_be_between\",\n",
      "      \"meta\": {\n",
      "        \"profiler_details\": {\n",
      "          \"metric_configuration\": {\n",
      "            \"metric_name\": \"column.quantile_values\",\n",
      "            \"domain_kwargs\": {\n",
      "              \"column\": \"capacity_free\"\n",
      "            },\n",
      "            \"metric_value_kwargs\": {\n",
      "              \"quantiles\": [\n",
      "                0.25,\n",
      "                0.5,\n",
      "                0.75\n",
      "              ],\n",
      "              \"allow_relative_error\": false\n",
      "            }\n",
      "          },\n",
      "          \"num_batches\": 1\n",
      "        }\n",
      "      }\n",
      "    },\n",
      "    {\n",
      "      \"kwargs\": {\n",
      "        \"max_value\": 16.0,\n",
      "        \"column\": \"capacity_free\",\n",
      "        \"min_value\": 16.0,\n",
      "        \"strict_max\": false,\n",
      "        \"strict_min\": false\n",
      "      },\n",
      "      \"expectation_type\": \"expect_column_median_to_be_between\",\n",
      "      \"meta\": {\n",
      "        \"profiler_details\": {\n",
      "          \"metric_configuration\": {\n",
      "            \"metric_name\": \"column.median\",\n",
      "            \"domain_kwargs\": {\n",
      "              \"column\": \"capacity_free\"\n",
      "            },\n",
      "            \"metric_value_kwargs\": null\n",
      "          },\n",
      "          \"num_batches\": 1\n",
      "        }\n",
      "      }\n",
      "    },\n",
      "    {\n",
      "      \"kwargs\": {\n",
      "        \"max_value\": 15.095343680709535,\n",
      "        \"column\": \"capacity_free\",\n",
      "        \"min_value\": 15.095343680709535,\n",
      "        \"strict_max\": false,\n",
      "        \"strict_min\": false\n",
      "      },\n",
      "      \"expectation_type\": \"expect_column_mean_to_be_between\",\n",
      "      \"meta\": {\n",
      "        \"profiler_details\": {\n",
      "          \"metric_configuration\": {\n",
      "            \"metric_name\": \"column.mean\",\n",
      "            \"domain_kwargs\": {\n",
      "              \"column\": \"capacity_free\"\n",
      "            },\n",
      "            \"metric_value_kwargs\": null\n",
      "          },\n",
      "          \"num_batches\": 1\n",
      "        }\n",
      "      }\n",
      "    },\n",
      "    {\n",
      "      \"kwargs\": {\n",
      "        \"max_value\": 4.632295121734909,\n",
      "        \"column\": \"capacity_free\",\n",
      "        \"min_value\": 4.632295121734909,\n",
      "        \"strict_max\": false,\n",
      "        \"strict_min\": false\n",
      "      },\n",
      "      \"expectation_type\": \"expect_column_stdev_to_be_between\",\n",
      "      \"meta\": {\n",
      "        \"profiler_details\": {\n",
      "          \"metric_configuration\": {\n",
      "            \"metric_name\": \"column.standard_deviation\",\n",
      "            \"domain_kwargs\": {\n",
      "              \"column\": \"capacity_free\"\n",
      "            },\n",
      "            \"metric_value_kwargs\": null\n",
      "          },\n",
      "          \"num_batches\": 1\n",
      "        }\n",
      "      }\n",
      "    },\n",
      "    {\n",
      "      \"kwargs\": {\n",
      "        \"column\": \"hour\",\n",
      "        \"value_set\": [\n",
      "          0,\n",
      "          1,\n",
      "          3,\n",
      "          4,\n",
      "          5,\n",
      "          6,\n",
      "          7,\n",
      "          8,\n",
      "          9,\n",
      "          10,\n",
      "          11,\n",
      "          12,\n",
      "          13,\n",
      "          14,\n",
      "          15,\n",
      "          16,\n",
      "          17,\n",
      "          18,\n",
      "          19,\n",
      "          20,\n",
      "          21,\n",
      "          22,\n",
      "          23\n",
      "        ],\n",
      "        \"mostly\": 1.0\n",
      "      },\n",
      "      \"expectation_type\": \"expect_column_values_to_be_in_set\",\n",
      "      \"meta\": {\n",
      "        \"profiler_details\": {\n",
      "          \"metric_configuration\": {\n",
      "            \"metric_name\": \"column.distinct_values\",\n",
      "            \"domain_kwargs\": {\n",
      "              \"column\": \"hour\"\n",
      "            },\n",
      "            \"metric_value_kwargs\": null\n",
      "          },\n",
      "          \"num_batches\": 1,\n",
      "          \"parse_strings_as_datetimes\": false\n",
      "        }\n",
      "      }\n",
      "    },\n",
      "    {\n",
      "      \"kwargs\": {\n",
      "        \"max_value\": 23,\n",
      "        \"column\": \"hour\",\n",
      "        \"min_value\": 23,\n",
      "        \"strict_max\": false,\n",
      "        \"strict_min\": false\n",
      "      },\n",
      "      \"expectation_type\": \"expect_column_unique_value_count_to_be_between\",\n",
      "      \"meta\": {\n",
      "        \"profiler_details\": {\n",
      "          \"metric_configuration\": {\n",
      "            \"metric_name\": \"column.distinct_values.count\",\n",
      "            \"domain_kwargs\": {\n",
      "              \"column\": \"hour\"\n",
      "            },\n",
      "            \"metric_value_kwargs\": null\n",
      "          },\n",
      "          \"num_batches\": 1\n",
      "        }\n",
      "      }\n",
      "    },\n",
      "    {\n",
      "      \"kwargs\": {\n",
      "        \"max_value\": 0.025498891352549888,\n",
      "        \"column\": \"hour\",\n",
      "        \"min_value\": 0.025498891352549888,\n",
      "        \"strict_max\": false,\n",
      "        \"strict_min\": false\n",
      "      },\n",
      "      \"expectation_type\": \"expect_column_proportion_of_unique_values_to_be_between\",\n",
      "      \"meta\": {\n",
      "        \"profiler_details\": {\n",
      "          \"metric_configuration\": {\n",
      "            \"metric_name\": \"column.unique_proportion\",\n",
      "            \"domain_kwargs\": {\n",
      "              \"column\": \"hour\"\n",
      "            },\n",
      "            \"metric_value_kwargs\": null\n",
      "          },\n",
      "          \"num_batches\": 1\n",
      "        }\n",
      "      }\n",
      "    },\n",
      "    {\n",
      "      \"kwargs\": {\n",
      "        \"column\": \"vehicles_available\",\n",
      "        \"value_set\": [\n",
      "          0,\n",
      "          1,\n",
      "          2,\n",
      "          3,\n",
      "          4,\n",
      "          5,\n",
      "          6,\n",
      "          7,\n",
      "          8,\n",
      "          9,\n",
      "          10,\n",
      "          11,\n",
      "          12,\n",
      "          13,\n",
      "          14,\n",
      "          15,\n",
      "          16,\n",
      "          17,\n",
      "          18,\n",
      "          19,\n",
      "          20\n",
      "        ],\n",
      "        \"mostly\": 1.0\n",
      "      },\n",
      "      \"expectation_type\": \"expect_column_values_to_be_in_set\",\n",
      "      \"meta\": {\n",
      "        \"profiler_details\": {\n",
      "          \"metric_configuration\": {\n",
      "            \"metric_name\": \"column.distinct_values\",\n",
      "            \"domain_kwargs\": {\n",
      "              \"column\": \"vehicles_available\"\n",
      "            },\n",
      "            \"metric_value_kwargs\": null\n",
      "          },\n",
      "          \"num_batches\": 1,\n",
      "          \"parse_strings_as_datetimes\": false\n",
      "        }\n",
      "      }\n",
      "    },\n",
      "    {\n",
      "      \"kwargs\": {\n",
      "        \"max_value\": 21,\n",
      "        \"column\": \"vehicles_available\",\n",
      "        \"min_value\": 21,\n",
      "        \"strict_max\": false,\n",
      "        \"strict_min\": false\n",
      "      },\n",
      "      \"expectation_type\": \"expect_column_unique_value_count_to_be_between\",\n",
      "      \"meta\": {\n",
      "        \"profiler_details\": {\n",
      "          \"metric_configuration\": {\n",
      "            \"metric_name\": \"column.distinct_values.count\",\n",
      "            \"domain_kwargs\": {\n",
      "              \"column\": \"vehicles_available\"\n",
      "            },\n",
      "            \"metric_value_kwargs\": null\n",
      "          },\n",
      "          \"num_batches\": 1\n",
      "        }\n",
      "      }\n",
      "    },\n",
      "    {\n",
      "      \"kwargs\": {\n",
      "        \"max_value\": 0.02328159645232816,\n",
      "        \"column\": \"vehicles_available\",\n",
      "        \"min_value\": 0.02328159645232816,\n",
      "        \"strict_max\": false,\n",
      "        \"strict_min\": false\n",
      "      },\n",
      "      \"expectation_type\": \"expect_column_proportion_of_unique_values_to_be_between\",\n",
      "      \"meta\": {\n",
      "        \"profiler_details\": {\n",
      "          \"metric_configuration\": {\n",
      "            \"metric_name\": \"column.unique_proportion\",\n",
      "            \"domain_kwargs\": {\n",
      "              \"column\": \"vehicles_available\"\n",
      "            },\n",
      "            \"metric_value_kwargs\": null\n",
      "          },\n",
      "          \"num_batches\": 1\n",
      "        }\n",
      "      }\n",
      "    },\n",
      "    {\n",
      "      \"kwargs\": {\n",
      "        \"column\": \"hum\",\n",
      "        \"value_set\": [\n",
      "          39.0,\n",
      "          40.0,\n",
      "          41.0,\n",
      "          42.0,\n",
      "          43.0,\n",
      "          44.0,\n",
      "          45.0,\n",
      "          46.0,\n",
      "          47.0,\n",
      "          48.0,\n",
      "          49.0,\n",
      "          50.0,\n",
      "          51.0,\n",
      "          52.0,\n",
      "          53.0,\n",
      "          54.0,\n",
      "          55.0,\n",
      "          56.0,\n",
      "          57.0,\n",
      "          58.0,\n",
      "          59.0,\n",
      "          60.0,\n",
      "          61.0,\n",
      "          62.0,\n",
      "          63.0,\n",
      "          64.0,\n",
      "          65.0,\n",
      "          66.0,\n",
      "          67.0,\n",
      "          68.0,\n",
      "          69.0,\n",
      "          70.0,\n",
      "          71.0,\n",
      "          72.0,\n",
      "          73.0,\n",
      "          74.0,\n",
      "          75.0,\n",
      "          76.0,\n",
      "          76.87885802469135,\n",
      "          77.0,\n",
      "          78.0,\n",
      "          79.0,\n",
      "          80.0,\n",
      "          81.0,\n",
      "          82.0,\n",
      "          83.0,\n",
      "          84.0,\n",
      "          85.0,\n",
      "          86.0,\n",
      "          87.0,\n",
      "          88.0,\n",
      "          89.0,\n",
      "          90.0,\n",
      "          91.0,\n",
      "          92.0,\n",
      "          93.0,\n",
      "          94.0,\n",
      "          95.0,\n",
      "          96.0,\n",
      "          97.0,\n",
      "          98.0,\n",
      "          99.0,\n",
      "          100.0\n",
      "        ],\n",
      "        \"mostly\": 1.0\n",
      "      },\n",
      "      \"expectation_type\": \"expect_column_values_to_be_in_set\",\n",
      "      \"meta\": {\n",
      "        \"profiler_details\": {\n",
      "          \"metric_configuration\": {\n",
      "            \"metric_name\": \"column.distinct_values\",\n",
      "            \"domain_kwargs\": {\n",
      "              \"column\": \"hum\"\n",
      "            },\n",
      "            \"metric_value_kwargs\": null\n",
      "          },\n",
      "          \"num_batches\": 1,\n",
      "          \"parse_strings_as_datetimes\": false\n",
      "        }\n",
      "      }\n",
      "    },\n",
      "    {\n",
      "      \"kwargs\": {\n",
      "        \"max_value\": 63,\n",
      "        \"column\": \"hum\",\n",
      "        \"min_value\": 63,\n",
      "        \"strict_max\": false,\n",
      "        \"strict_min\": false\n",
      "      },\n",
      "      \"expectation_type\": \"expect_column_unique_value_count_to_be_between\",\n",
      "      \"meta\": {\n",
      "        \"profiler_details\": {\n",
      "          \"metric_configuration\": {\n",
      "            \"metric_name\": \"column.distinct_values.count\",\n",
      "            \"domain_kwargs\": {\n",
      "              \"column\": \"hum\"\n",
      "            },\n",
      "            \"metric_value_kwargs\": null\n",
      "          },\n",
      "          \"num_batches\": 1\n",
      "        }\n",
      "      }\n",
      "    },\n",
      "    {\n",
      "      \"kwargs\": {\n",
      "        \"max_value\": 0.06984478935698447,\n",
      "        \"column\": \"hum\",\n",
      "        \"min_value\": 0.06984478935698447,\n",
      "        \"strict_max\": false,\n",
      "        \"strict_min\": false\n",
      "      },\n",
      "      \"expectation_type\": \"expect_column_proportion_of_unique_values_to_be_between\",\n",
      "      \"meta\": {\n",
      "        \"profiler_details\": {\n",
      "          \"metric_configuration\": {\n",
      "            \"metric_name\": \"column.unique_proportion\",\n",
      "            \"domain_kwargs\": {\n",
      "              \"column\": \"hum\"\n",
      "            },\n",
      "            \"metric_value_kwargs\": null\n",
      "          },\n",
      "          \"num_batches\": 1\n",
      "        }\n",
      "      }\n",
      "    },\n",
      "    {\n",
      "      \"kwargs\": {\n",
      "        \"column\": \"percp\",\n",
      "        \"value_set\": [\n",
      "          0.0,\n",
      "          0.2,\n",
      "          0.3,\n",
      "          0.4,\n",
      "          0.5,\n",
      "          0.6,\n",
      "          0.7,\n",
      "          0.8,\n",
      "          0.9,\n",
      "          1.0,\n",
      "          1.1,\n",
      "          1.5,\n",
      "          3.7,\n",
      "          1.6,\n",
      "          2.1,\n",
      "          1.2,\n",
      "          0.1,\n",
      "          0.1673611111111111,\n",
      "          2.2,\n",
      "          2.3,\n",
      "          1.3,\n",
      "          1.8,\n",
      "          1.4,\n",
      "          1.9,\n",
      "          2.4\n",
      "        ],\n",
      "        \"mostly\": 1.0\n",
      "      },\n",
      "      \"expectation_type\": \"expect_column_values_to_be_in_set\",\n",
      "      \"meta\": {\n",
      "        \"profiler_details\": {\n",
      "          \"metric_configuration\": {\n",
      "            \"metric_name\": \"column.distinct_values\",\n",
      "            \"domain_kwargs\": {\n",
      "              \"column\": \"percp\"\n",
      "            },\n",
      "            \"metric_value_kwargs\": null\n",
      "          },\n",
      "          \"num_batches\": 1,\n",
      "          \"parse_strings_as_datetimes\": false\n",
      "        }\n",
      "      }\n",
      "    },\n",
      "    {\n",
      "      \"kwargs\": {\n",
      "        \"max_value\": 25,\n",
      "        \"column\": \"percp\",\n",
      "        \"min_value\": 25,\n",
      "        \"strict_max\": false,\n",
      "        \"strict_min\": false\n",
      "      },\n",
      "      \"expectation_type\": \"expect_column_unique_value_count_to_be_between\",\n",
      "      \"meta\": {\n",
      "        \"profiler_details\": {\n",
      "          \"metric_configuration\": {\n",
      "            \"metric_name\": \"column.distinct_values.count\",\n",
      "            \"domain_kwargs\": {\n",
      "              \"column\": \"percp\"\n",
      "            },\n",
      "            \"metric_value_kwargs\": null\n",
      "          },\n",
      "          \"num_batches\": 1\n",
      "        }\n",
      "      }\n",
      "    },\n",
      "    {\n",
      "      \"kwargs\": {\n",
      "        \"max_value\": 0.02771618625277162,\n",
      "        \"column\": \"percp\",\n",
      "        \"min_value\": 0.02771618625277162,\n",
      "        \"strict_max\": false,\n",
      "        \"strict_min\": false\n",
      "      },\n",
      "      \"expectation_type\": \"expect_column_proportion_of_unique_values_to_be_between\",\n",
      "      \"meta\": {\n",
      "        \"profiler_details\": {\n",
      "          \"metric_configuration\": {\n",
      "            \"metric_name\": \"column.unique_proportion\",\n",
      "            \"domain_kwargs\": {\n",
      "              \"column\": \"percp\"\n",
      "            },\n",
      "            \"metric_value_kwargs\": null\n",
      "          },\n",
      "          \"num_batches\": 1\n",
      "        }\n",
      "      }\n",
      "    },\n",
      "    {\n",
      "      \"kwargs\": {\n",
      "        \"column\": \"capacity\",\n",
      "        \"value_set\": [\n",
      "          20\n",
      "        ],\n",
      "        \"mostly\": 1.0\n",
      "      },\n",
      "      \"expectation_type\": \"expect_column_values_to_be_in_set\",\n",
      "      \"meta\": {\n",
      "        \"profiler_details\": {\n",
      "          \"metric_configuration\": {\n",
      "            \"metric_name\": \"column.distinct_values\",\n",
      "            \"domain_kwargs\": {\n",
      "              \"column\": \"capacity\"\n",
      "            },\n",
      "            \"metric_value_kwargs\": null\n",
      "          },\n",
      "          \"num_batches\": 1,\n",
      "          \"parse_strings_as_datetimes\": false\n",
      "        }\n",
      "      }\n",
      "    },\n",
      "    {\n",
      "      \"kwargs\": {\n",
      "        \"max_value\": 1,\n",
      "        \"column\": \"capacity\",\n",
      "        \"min_value\": 1,\n",
      "        \"strict_max\": false,\n",
      "        \"strict_min\": false\n",
      "      },\n",
      "      \"expectation_type\": \"expect_column_unique_value_count_to_be_between\",\n",
      "      \"meta\": {\n",
      "        \"profiler_details\": {\n",
      "          \"metric_configuration\": {\n",
      "            \"metric_name\": \"column.distinct_values.count\",\n",
      "            \"domain_kwargs\": {\n",
      "              \"column\": \"capacity\"\n",
      "            },\n",
      "            \"metric_value_kwargs\": null\n",
      "          },\n",
      "          \"num_batches\": 1\n",
      "        }\n",
      "      }\n",
      "    },\n",
      "    {\n",
      "      \"kwargs\": {\n",
      "        \"max_value\": 0.0011086474501108647,\n",
      "        \"column\": \"capacity\",\n",
      "        \"min_value\": 0.0011086474501108647,\n",
      "        \"strict_max\": false,\n",
      "        \"strict_min\": false\n",
      "      },\n",
      "      \"expectation_type\": \"expect_column_proportion_of_unique_values_to_be_between\",\n",
      "      \"meta\": {\n",
      "        \"profiler_details\": {\n",
      "          \"metric_configuration\": {\n",
      "            \"metric_name\": \"column.unique_proportion\",\n",
      "            \"domain_kwargs\": {\n",
      "              \"column\": \"capacity\"\n",
      "            },\n",
      "            \"metric_value_kwargs\": null\n",
      "          },\n",
      "          \"num_batches\": 1\n",
      "        }\n",
      "      }\n",
      "    },\n",
      "    {\n",
      "      \"kwargs\": {\n",
      "        \"column\": \"capacity_free\",\n",
      "        \"value_set\": [\n",
      "          0,\n",
      "          1,\n",
      "          2,\n",
      "          3,\n",
      "          4,\n",
      "          5,\n",
      "          6,\n",
      "          7,\n",
      "          8,\n",
      "          9,\n",
      "          10,\n",
      "          11,\n",
      "          12,\n",
      "          13,\n",
      "          14,\n",
      "          15,\n",
      "          16,\n",
      "          17,\n",
      "          18,\n",
      "          19,\n",
      "          20\n",
      "        ],\n",
      "        \"mostly\": 1.0\n",
      "      },\n",
      "      \"expectation_type\": \"expect_column_values_to_be_in_set\",\n",
      "      \"meta\": {\n",
      "        \"profiler_details\": {\n",
      "          \"metric_configuration\": {\n",
      "            \"metric_name\": \"column.distinct_values\",\n",
      "            \"domain_kwargs\": {\n",
      "              \"column\": \"capacity_free\"\n",
      "            },\n",
      "            \"metric_value_kwargs\": null\n",
      "          },\n",
      "          \"num_batches\": 1,\n",
      "          \"parse_strings_as_datetimes\": false\n",
      "        }\n",
      "      }\n",
      "    },\n",
      "    {\n",
      "      \"kwargs\": {\n",
      "        \"max_value\": 21,\n",
      "        \"column\": \"capacity_free\",\n",
      "        \"min_value\": 21,\n",
      "        \"strict_max\": false,\n",
      "        \"strict_min\": false\n",
      "      },\n",
      "      \"expectation_type\": \"expect_column_unique_value_count_to_be_between\",\n",
      "      \"meta\": {\n",
      "        \"profiler_details\": {\n",
      "          \"metric_configuration\": {\n",
      "            \"metric_name\": \"column.distinct_values.count\",\n",
      "            \"domain_kwargs\": {\n",
      "              \"column\": \"capacity_free\"\n",
      "            },\n",
      "            \"metric_value_kwargs\": null\n",
      "          },\n",
      "          \"num_batches\": 1\n",
      "        }\n",
      "      }\n",
      "    },\n",
      "    {\n",
      "      \"kwargs\": {\n",
      "        \"max_value\": 0.02328159645232816,\n",
      "        \"column\": \"capacity_free\",\n",
      "        \"min_value\": 0.02328159645232816,\n",
      "        \"strict_max\": false,\n",
      "        \"strict_min\": false\n",
      "      },\n",
      "      \"expectation_type\": \"expect_column_proportion_of_unique_values_to_be_between\",\n",
      "      \"meta\": {\n",
      "        \"profiler_details\": {\n",
      "          \"metric_configuration\": {\n",
      "            \"metric_name\": \"column.unique_proportion\",\n",
      "            \"domain_kwargs\": {\n",
      "              \"column\": \"capacity_free\"\n",
      "            },\n",
      "            \"metric_value_kwargs\": null\n",
      "          },\n",
      "          \"num_batches\": 1\n",
      "        }\n",
      "      }\n",
      "    }\n",
      "  ],\n",
      "  \"data_asset_type\": null,\n",
      "  \"ge_cloud_id\": null,\n",
      "  \"expectation_suite_name\": \"IIS_Projekt_Suite\",\n",
      "  \"meta\": {\n",
      "    \"great_expectations_version\": \"0.17.1\",\n",
      "    \"citations\": [\n",
      "      {\n",
      "        \"citation_date\": \"2023-07-08T17:49:45.442916Z\",\n",
      "        \"comment\": \"Created by effective Rule-Based Profiler of OnboardingDataAssistant with the configuration included.\\n\"\n",
      "      }\n",
      "    ]\n",
      "  }\n",
      "}\n",
      "2023-07-08T19:49:46+0200 - INFO - \t84 expectation(s) included in expectation_suite.\n",
      "2023-07-08T19:49:46+0200 - INFO - \t84 expectation(s) included in expectation_suite.\n"
     ]
    },
    {
     "data": {
      "application/vnd.jupyter.widget-view+json": {
       "model_id": "2259e15e4b154a4f895b311152502679",
       "version_major": 2,
       "version_minor": 0
      },
      "text/plain": [
       "Calculating Metrics:   0%|          | 0/173 [00:00<?, ?it/s]"
      ]
     },
     "metadata": {},
     "output_type": "display_data"
    }
   ],
   "source": [
    "print(validator.get_expectation_suite(discard_failed_expectations=False))\n",
    "validator.save_expectation_suite(discard_failed_expectations=False)\n",
    "\n",
    "checkpoint_config = {\n",
    "    \"class_name\": \"SimpleCheckpoint\",\n",
    "    \"validations\": [\n",
    "        {\n",
    "            \"batch_request\": batch_request,\n",
    "            \"expectation_suite_name\": expectation_suite_name,\n",
    "        }\n",
    "    ],\n",
    "}\n",
    "checkpoint = SimpleCheckpoint(\n",
    "    f\"{validator.active_batch_definition.data_asset_name}_{expectation_suite_name}\",\n",
    "    context,\n",
    "    **checkpoint_config,\n",
    ")\n",
    "checkpoint_result = checkpoint.run()\n",
    "\n",
    "context.build_data_docs()\n",
    "\n",
    "validation_result_identifier = checkpoint_result.list_validation_result_identifiers()[0]\n",
    "context.open_data_docs(resource_identifier=validation_result_identifier)"
   ]
  },
  {
   "attachments": {},
   "cell_type": "markdown",
   "id": "aef90722",
   "metadata": {},
   "source": [
    "## Next steps\n",
    "After you review this initial Expectation Suite in Data Docs you\n",
    "should edit this suite to make finer grained adjustments to the expectations.\n",
    "This can be done by running `great_expectations suite edit IIS_Projekt_Suite`."
   ]
  }
 ],
 "metadata": {
  "kernelspec": {
   "display_name": "Python 3 (ipykernel)",
   "language": "python",
   "name": "python3"
  },
  "language_info": {
   "codemirror_mode": {
    "name": "ipython",
    "version": 3
   },
   "file_extension": ".py",
   "mimetype": "text/x-python",
   "name": "python",
   "nbconvert_exporter": "python",
   "pygments_lexer": "ipython3",
   "version": "3.10.7"
  }
 },
 "nbformat": 4,
 "nbformat_minor": 5
}
